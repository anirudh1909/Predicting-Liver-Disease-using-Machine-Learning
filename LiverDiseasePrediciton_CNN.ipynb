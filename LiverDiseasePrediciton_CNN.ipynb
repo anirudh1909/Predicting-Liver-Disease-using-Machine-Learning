{
  "nbformat": 4,
  "nbformat_minor": 0,
  "metadata": {
    "colab": {
      "provenance": []
    },
    "kernelspec": {
      "name": "python3",
      "display_name": "Python 3"
    },
    "language_info": {
      "name": "python"
    }
  },
  "cells": [
    {
      "cell_type": "code",
      "execution_count": 109,
      "metadata": {
        "id": "RzjB-VsNq6eH"
      },
      "outputs": [],
      "source": [
        "import pandas as pd\n",
        "from sklearn.model_selection import train_test_split\n",
        "from sklearn import svm\n",
        "from sklearn import metrics\n",
        "from sklearn.preprocessing import *"
      ]
    },
    {
      "cell_type": "code",
      "source": [
        "import tensorflow as tf\n",
        "from tensorflow import keras\n",
        "from tensorflow.keras import *\n",
        "from keras.layers import Activation, Dense"
      ],
      "metadata": {
        "id": "VQS7Jg7ordRE"
      },
      "execution_count": 110,
      "outputs": []
    },
    {
      "cell_type": "code",
      "source": [
        "df = pd.read_csv(\"data.csv\")"
      ],
      "metadata": {
        "id": "tWkBhYTXrIO-"
      },
      "execution_count": 111,
      "outputs": []
    },
    {
      "cell_type": "code",
      "source": [
        "df.columns = [\"Age\", \"Gender\", \"TB\", \"DB\", \"Alk\", \"sgpt\", \"sgot\", \"TP\", \"ALB\", \"AG\", \"label\"]"
      ],
      "metadata": {
        "id": "z7cIU5pMrKeY"
      },
      "execution_count": 112,
      "outputs": []
    },
    {
      "cell_type": "code",
      "source": [
        "df.dropna(axis = 0, inplace = True)\n",
        "df['Gender'].replace('Female', 0, inplace=True)\n",
        "df['Gender'].replace('Male', 1, inplace=True)"
      ],
      "metadata": {
        "id": "CtI_uaV2rL_Z"
      },
      "execution_count": 113,
      "outputs": []
    },
    {
      "cell_type": "code",
      "source": [
        "X = df.iloc[:, :-1]\n",
        "y = df.iloc[:, -1]"
      ],
      "metadata": {
        "id": "Oh-FMV0orNo4"
      },
      "execution_count": 114,
      "outputs": []
    },
    {
      "cell_type": "code",
      "source": [
        "X.shape, y.shape"
      ],
      "metadata": {
        "colab": {
          "base_uri": "https://localhost:8080/"
        },
        "id": "V8EkTAJ9rQTO",
        "outputId": "5df0b4c6-85ed-426e-df24-e8ae10ad8ca9"
      },
      "execution_count": 115,
      "outputs": [
        {
          "output_type": "execute_result",
          "data": {
            "text/plain": [
              "((578, 10), (578,))"
            ]
          },
          "metadata": {},
          "execution_count": 115
        }
      ]
    },
    {
      "cell_type": "code",
      "source": [
        "X_normalized=normalize(X,axis=0)\n",
        "print(\"Examples of X_normalised\\n\",X_normalized[:3])"
      ],
      "metadata": {
        "colab": {
          "base_uri": "https://localhost:8080/"
        },
        "id": "HprBakjIsuFb",
        "outputId": "b94e44fa-c958-4d13-83e7-13ba915faccb"
      },
      "execution_count": 116,
      "outputs": [
        {
          "output_type": "stream",
          "name": "stdout",
          "text": [
            "Examples of X_normalised\n",
            " [[0.05418959 0.0477274  0.06424994 0.07173997 0.07653773 0.01328563\n",
            "  0.01340887 0.04747321 0.04111627 0.03079196]\n",
            " [0.05418959 0.0477274  0.04302978 0.05347889 0.05365306 0.01245528\n",
            "  0.00911803 0.04430833 0.04240115 0.03703357]\n",
            " [0.05069349 0.0477274  0.00589449 0.00521745 0.01992828 0.00290623\n",
            "  0.00268177 0.04304238 0.04368603 0.04161076]]\n"
          ]
        }
      ]
    },
    {
      "cell_type": "code",
      "source": [
        "total_length=len(df)\n",
        "train_length=int(0.8*total_length)\n",
        "test_length=int(0.2*total_length)\n",
        "\n",
        "X_train=X_normalized[:train_length]\n",
        "X_test=X_normalized[train_length:]\n",
        "y_train=y[:train_length]\n",
        "y_test=y[train_length:]\n",
        "\n",
        "print(\"Length of train set x:\",X_train.shape[0],\"y:\",y_train.shape[0])\n",
        "print(\"Length of test set x:\",X_test.shape[0],\"y:\",y_test.shape[0])\n"
      ],
      "metadata": {
        "colab": {
          "base_uri": "https://localhost:8080/"
        },
        "id": "udZGq60KuGoh",
        "outputId": "4ed830c3-a33a-46e9-c618-a0b93faaa416"
      },
      "execution_count": 117,
      "outputs": [
        {
          "output_type": "stream",
          "name": "stdout",
          "text": [
            "Length of train set x: 462 y: 462\n",
            "Length of test set x: 116 y: 116\n"
          ]
        }
      ]
    },
    {
      "cell_type": "code",
      "source": [
        "from keras.models import Sequential \n",
        "from keras.layers import Dense,Activation,Dropout \n",
        "from tensorflow.keras.layers import BatchNormalization\n",
        "from keras.utils import np_utils"
      ],
      "metadata": {
        "id": "xGyF39bTuMmR"
      },
      "execution_count": 118,
      "outputs": []
    },
    {
      "cell_type": "code",
      "source": [
        "y_train=np_utils.to_categorical(y_train,num_classes=3)\n",
        "y_test=np_utils.to_categorical(y_test,num_classes=3)\n",
        "print(\"Shape of y_train\",y_train.shape)\n",
        "print(\"Shape of y_test\",y_test.shape)"
      ],
      "metadata": {
        "colab": {
          "base_uri": "https://localhost:8080/"
        },
        "id": "h5J4zXQtuSG8",
        "outputId": "b6d7b6fe-01d6-45dd-e591-2d740f4d84e6"
      },
      "execution_count": 119,
      "outputs": [
        {
          "output_type": "stream",
          "name": "stdout",
          "text": [
            "Shape of y_train (462, 3)\n",
            "Shape of y_test (116, 3)\n"
          ]
        }
      ]
    },
    {
      "cell_type": "code",
      "source": [
        "y_train"
      ],
      "metadata": {
        "colab": {
          "base_uri": "https://localhost:8080/"
        },
        "id": "BayQtM1Evukr",
        "outputId": "426f3e93-461d-42f4-8240-495184cb5024"
      },
      "execution_count": 120,
      "outputs": [
        {
          "output_type": "execute_result",
          "data": {
            "text/plain": [
              "array([[0., 1., 0.],\n",
              "       [0., 1., 0.],\n",
              "       [0., 1., 0.],\n",
              "       ...,\n",
              "       [0., 0., 1.],\n",
              "       [0., 0., 1.],\n",
              "       [0., 0., 1.]], dtype=float32)"
            ]
          },
          "metadata": {},
          "execution_count": 120
        }
      ]
    },
    {
      "cell_type": "code",
      "source": [
        "X_test.shape, y_test.shape"
      ],
      "metadata": {
        "colab": {
          "base_uri": "https://localhost:8080/"
        },
        "id": "z75ae8wCu884",
        "outputId": "82c07ae5-3164-4ba8-f8b5-7c6314cbaf59"
      },
      "execution_count": 121,
      "outputs": [
        {
          "output_type": "execute_result",
          "data": {
            "text/plain": [
              "((116, 10), (116, 3))"
            ]
          },
          "metadata": {},
          "execution_count": 121
        }
      ]
    },
    {
      "cell_type": "code",
      "source": [
        "model=Sequential()\n",
        "model.add(Dense(1000,input_dim=10,activation='relu'))\n",
        "model.add(Dense(500,activation='relu'))\n",
        "model.add(Dense(300,activation='relu'))\n",
        "model.add(Dropout(0.2))\n",
        "model.add(Dense(3,activation='softmax'))\n",
        "model.compile(loss='categorical_crossentropy',optimizer='multi-verse',metrics=['accuracy'])"
      ],
      "metadata": {
        "id": "y8_2U3VGueAp"
      },
      "execution_count": 123,
      "outputs": []
    },
    {
      "cell_type": "code",
      "source": [
        "model.fit(X_train,y_train,validation_data=(X_test,y_test),batch_size=20,epochs=10,verbose=1)"
      ],
      "metadata": {
        "colab": {
          "base_uri": "https://localhost:8080/"
        },
        "id": "fA7nWkInu6IL",
        "outputId": "a37b3e3c-08de-4ea3-9c10-d1863c09a170"
      },
      "execution_count": 124,
      "outputs": [
        {
          "output_type": "stream",
          "name": "stdout",
          "text": [
            "Epoch 1/10\n",
            "24/24 [==============================] - 1s 21ms/step - loss: 0.7479 - accuracy: 0.6818 - val_loss: 0.5699 - val_accuracy: 0.7414\n",
            "Epoch 2/10\n",
            "24/24 [==============================] - 0s 12ms/step - loss: 0.5985 - accuracy: 0.7078 - val_loss: 0.4955 - val_accuracy: 0.7414\n",
            "Epoch 3/10\n",
            "24/24 [==============================] - 0s 12ms/step - loss: 0.5669 - accuracy: 0.7078 - val_loss: 0.4553 - val_accuracy: 0.7414\n",
            "Epoch 4/10\n",
            "24/24 [==============================] - 1s 26ms/step - loss: 0.5510 - accuracy: 0.7013 - val_loss: 0.4417 - val_accuracy: 0.7414\n",
            "Epoch 5/10\n",
            "24/24 [==============================] - 0s 17ms/step - loss: 0.5419 - accuracy: 0.7056 - val_loss: 0.4242 - val_accuracy: 0.7414\n",
            "Epoch 6/10\n",
            "24/24 [==============================] - 0s 12ms/step - loss: 0.5396 - accuracy: 0.7056 - val_loss: 0.4192 - val_accuracy: 0.7414\n",
            "Epoch 7/10\n",
            "24/24 [==============================] - 0s 12ms/step - loss: 0.5424 - accuracy: 0.6991 - val_loss: 0.4045 - val_accuracy: 0.7414\n",
            "Epoch 8/10\n",
            "24/24 [==============================] - 0s 12ms/step - loss: 0.5392 - accuracy: 0.7035 - val_loss: 0.4521 - val_accuracy: 0.7845\n",
            "Epoch 9/10\n",
            "24/24 [==============================] - 0s 12ms/step - loss: 0.5432 - accuracy: 0.7035 - val_loss: 0.4086 - val_accuracy: 0.7414\n",
            "Epoch 10/10\n",
            "24/24 [==============================] - 0s 12ms/step - loss: 0.5487 - accuracy: 0.6926 - val_loss: 0.4157 - val_accuracy: 0.7414\n"
          ]
        },
        {
          "output_type": "execute_result",
          "data": {
            "text/plain": [
              "<keras.callbacks.History at 0x7f0add14f1f0>"
            ]
          },
          "metadata": {},
          "execution_count": 124
        }
      ]
    },
    {
      "cell_type": "code",
      "source": [
        "prediction=model.predict(X_test)\n",
        "length=len(prediction)\n",
        "y_label=np.argmax(y_test,axis=1)\n",
        "predict_label=np.argmax(prediction,axis=1)\n",
        "\n",
        "accuracy=np.sum(y_label==predict_label)/length * 100 \n",
        "\n",
        "print(\"Multi-verse accuracy - \", accuracy)"
      ],
      "metadata": {
        "colab": {
          "base_uri": "https://localhost:8080/"
        },
        "id": "KW0274oNwBwz",
        "outputId": "c6e31124-549c-4be5-ae38-13f982c38098"
      },
      "execution_count": 128,
      "outputs": [
        {
          "output_type": "stream",
          "name": "stdout",
          "text": [
            "4/4 [==============================] - 0s 5ms/step\n",
            "Multi-verse accuracy -  74.13793103448276\n"
          ]
        }
      ]
    },
    {
      "cell_type": "code",
      "source": [
        "### Particle Swarm"
      ],
      "metadata": {
        "id": "aZv47JMj-OTl"
      },
      "execution_count": 80,
      "outputs": []
    },
    {
      "cell_type": "code",
      "source": [
        "model=Sequential()\n",
        "model.add(Dense(1000,input_dim=10,activation='tanh'))\n",
        "model.add(Dense(500,activation='relu'))\n",
        "model.add(Dense(300,activation='relu'))\n",
        "model.add(Dropout(0.4))\n",
        "model.add(Dense(3,activation='softmax'))\n",
        "model.compile(loss='categorical_crossentropy',optimizer='particle-swarm',metrics=['accuracy'])"
      ],
      "metadata": {
        "id": "XATs27liwLT7"
      },
      "execution_count": 106,
      "outputs": []
    },
    {
      "cell_type": "code",
      "source": [
        "model.fit(X_train,y_train,validation_data=(X_test,y_test),batch_size=25,epochs=22,verbose=1)"
      ],
      "metadata": {
        "colab": {
          "base_uri": "https://localhost:8080/"
        },
        "id": "rTOFYucG-Ho-",
        "outputId": "fa7dbc29-6527-4d08-c340-74cc1e120f59"
      },
      "execution_count": 107,
      "outputs": [
        {
          "output_type": "stream",
          "name": "stdout",
          "text": [
            "Epoch 1/22\n",
            "19/19 [==============================] - 1s 18ms/step - loss: 1.0396 - accuracy: 0.6818 - val_loss: 0.9674 - val_accuracy: 0.7414\n",
            "Epoch 2/22\n",
            "19/19 [==============================] - 0s 11ms/step - loss: 0.9285 - accuracy: 0.7078 - val_loss: 0.8675 - val_accuracy: 0.7414\n",
            "Epoch 3/22\n",
            "19/19 [==============================] - 0s 7ms/step - loss: 0.8485 - accuracy: 0.7078 - val_loss: 0.7961 - val_accuracy: 0.7414\n",
            "Epoch 4/22\n",
            "19/19 [==============================] - 0s 8ms/step - loss: 0.7936 - accuracy: 0.7078 - val_loss: 0.7466 - val_accuracy: 0.7414\n",
            "Epoch 5/22\n",
            "19/19 [==============================] - 0s 7ms/step - loss: 0.7601 - accuracy: 0.7078 - val_loss: 0.7109 - val_accuracy: 0.7414\n",
            "Epoch 6/22\n",
            "19/19 [==============================] - 0s 8ms/step - loss: 0.7279 - accuracy: 0.7078 - val_loss: 0.6847 - val_accuracy: 0.7414\n",
            "Epoch 7/22\n",
            "19/19 [==============================] - 0s 7ms/step - loss: 0.7110 - accuracy: 0.7078 - val_loss: 0.6672 - val_accuracy: 0.7414\n",
            "Epoch 8/22\n",
            "19/19 [==============================] - 0s 7ms/step - loss: 0.6968 - accuracy: 0.7078 - val_loss: 0.6530 - val_accuracy: 0.7414\n",
            "Epoch 9/22\n",
            "19/19 [==============================] - 0s 7ms/step - loss: 0.6868 - accuracy: 0.7078 - val_loss: 0.6433 - val_accuracy: 0.7414\n",
            "Epoch 10/22\n",
            "19/19 [==============================] - 0s 7ms/step - loss: 0.6774 - accuracy: 0.7078 - val_loss: 0.6344 - val_accuracy: 0.7414\n",
            "Epoch 11/22\n",
            "19/19 [==============================] - 0s 9ms/step - loss: 0.6678 - accuracy: 0.7078 - val_loss: 0.6273 - val_accuracy: 0.7414\n",
            "Epoch 12/22\n",
            "19/19 [==============================] - 0s 9ms/step - loss: 0.6615 - accuracy: 0.7078 - val_loss: 0.6214 - val_accuracy: 0.7414\n",
            "Epoch 13/22\n",
            "19/19 [==============================] - 0s 9ms/step - loss: 0.6602 - accuracy: 0.7078 - val_loss: 0.6161 - val_accuracy: 0.7414\n",
            "Epoch 14/22\n",
            "19/19 [==============================] - 0s 8ms/step - loss: 0.6460 - accuracy: 0.7078 - val_loss: 0.6113 - val_accuracy: 0.7414\n",
            "Epoch 15/22\n",
            "19/19 [==============================] - 0s 8ms/step - loss: 0.6498 - accuracy: 0.7078 - val_loss: 0.6075 - val_accuracy: 0.7414\n",
            "Epoch 16/22\n",
            "19/19 [==============================] - 0s 7ms/step - loss: 0.6436 - accuracy: 0.7078 - val_loss: 0.6043 - val_accuracy: 0.7414\n",
            "Epoch 17/22\n",
            "19/19 [==============================] - 0s 8ms/step - loss: 0.6423 - accuracy: 0.7078 - val_loss: 0.6023 - val_accuracy: 0.7414\n",
            "Epoch 18/22\n",
            "19/19 [==============================] - 0s 7ms/step - loss: 0.6406 - accuracy: 0.7078 - val_loss: 0.5994 - val_accuracy: 0.7414\n",
            "Epoch 19/22\n",
            "19/19 [==============================] - 0s 7ms/step - loss: 0.6396 - accuracy: 0.7078 - val_loss: 0.5975 - val_accuracy: 0.7414\n",
            "Epoch 20/22\n",
            "19/19 [==============================] - 0s 8ms/step - loss: 0.6372 - accuracy: 0.7078 - val_loss: 0.5955 - val_accuracy: 0.7414\n",
            "Epoch 21/22\n",
            "19/19 [==============================] - 0s 8ms/step - loss: 0.6352 - accuracy: 0.7078 - val_loss: 0.5939 - val_accuracy: 0.7414\n",
            "Epoch 22/22\n",
            "19/19 [==============================] - 0s 8ms/step - loss: 0.6319 - accuracy: 0.7078 - val_loss: 0.5921 - val_accuracy: 0.7414\n"
          ]
        },
        {
          "output_type": "execute_result",
          "data": {
            "text/plain": [
              "<keras.callbacks.History at 0x7f0ae5985be0>"
            ]
          },
          "metadata": {},
          "execution_count": 107
        }
      ]
    },
    {
      "cell_type": "code",
      "source": [
        "prediction=model.predict(X_test)\n",
        "length=len(prediction)\n",
        "y_label=np.argmax(y_test,axis=1)\n",
        "predict_label=np.argmax(prediction,axis=1)\n",
        "\n",
        "accuracy=np.sum(y_label==predict_label)/length * 100 \n",
        "\n",
        "print(\"Particle Swarm accuracy - \", accuracy)"
      ],
      "metadata": {
        "colab": {
          "base_uri": "https://localhost:8080/"
        },
        "id": "6s9vbaX5-YOA",
        "outputId": "83b0595f-cf7c-439a-b5b2-7ef485cf4712"
      },
      "execution_count": 127,
      "outputs": [
        {
          "output_type": "stream",
          "name": "stdout",
          "text": [
            "4/4 [==============================] - 0s 6ms/step\n",
            "Particle Swarm accuracy -  69.16685298118871\n"
          ]
        }
      ]
    },
    {
      "cell_type": "code",
      "source": [
        "### Firefly"
      ],
      "metadata": {
        "id": "gm-FNjGX-bdb"
      },
      "execution_count": 129,
      "outputs": []
    },
    {
      "cell_type": "code",
      "source": [
        "model=Sequential()\n",
        "model.add(Dense(1000,input_dim=10,activation='tanh'))\n",
        "model.add(Dense(500,activation='relu'))\n",
        "model.add(Dense(300,activation='relu'))\n",
        "model.add(Dropout(0.4))\n",
        "model.add(Dense(3,activation='softmax'))\n",
        "model.compile(loss='categorical_crossentropy',optimizer='adam',metrics=['accuracy'])"
      ],
      "metadata": {
        "id": "Pah4TeMJCpfx"
      },
      "execution_count": 130,
      "outputs": []
    },
    {
      "cell_type": "code",
      "source": [
        "model.fit(X_train,y_train,validation_data=(X_test,y_test),batch_size=25,epochs=22,verbose=1)"
      ],
      "metadata": {
        "colab": {
          "base_uri": "https://localhost:8080/"
        },
        "id": "UZxYcN9FCtok",
        "outputId": "12aac8e3-59c1-488d-9f9b-40e14649e39e"
      },
      "execution_count": 131,
      "outputs": [
        {
          "output_type": "stream",
          "name": "stdout",
          "text": [
            "Epoch 1/22\n",
            "19/19 [==============================] - 1s 23ms/step - loss: 0.8062 - accuracy: 0.6861 - val_loss: 0.5947 - val_accuracy: 0.7414\n",
            "Epoch 2/22\n",
            "19/19 [==============================] - 0s 13ms/step - loss: 0.5970 - accuracy: 0.7056 - val_loss: 0.5381 - val_accuracy: 0.7414\n",
            "Epoch 3/22\n",
            "19/19 [==============================] - 0s 13ms/step - loss: 0.5869 - accuracy: 0.6991 - val_loss: 0.4754 - val_accuracy: 0.7414\n",
            "Epoch 4/22\n",
            "19/19 [==============================] - 0s 14ms/step - loss: 0.5518 - accuracy: 0.7056 - val_loss: 0.4449 - val_accuracy: 0.7414\n",
            "Epoch 5/22\n",
            "19/19 [==============================] - 0s 13ms/step - loss: 0.5455 - accuracy: 0.7013 - val_loss: 0.4397 - val_accuracy: 0.7414\n",
            "Epoch 6/22\n",
            "19/19 [==============================] - 0s 12ms/step - loss: 0.5576 - accuracy: 0.6905 - val_loss: 0.4664 - val_accuracy: 0.7500\n",
            "Epoch 7/22\n",
            "19/19 [==============================] - 0s 12ms/step - loss: 0.5510 - accuracy: 0.7143 - val_loss: 0.4147 - val_accuracy: 0.7414\n",
            "Epoch 8/22\n",
            "19/19 [==============================] - 0s 13ms/step - loss: 0.5430 - accuracy: 0.7035 - val_loss: 0.4340 - val_accuracy: 0.7414\n",
            "Epoch 9/22\n",
            "19/19 [==============================] - 0s 13ms/step - loss: 0.5702 - accuracy: 0.6494 - val_loss: 0.4557 - val_accuracy: 0.7414\n",
            "Epoch 10/22\n",
            "19/19 [==============================] - 0s 12ms/step - loss: 0.5506 - accuracy: 0.7078 - val_loss: 0.4148 - val_accuracy: 0.7414\n",
            "Epoch 11/22\n",
            "19/19 [==============================] - 0s 14ms/step - loss: 0.5386 - accuracy: 0.7035 - val_loss: 0.4144 - val_accuracy: 0.7414\n",
            "Epoch 12/22\n",
            "19/19 [==============================] - 0s 14ms/step - loss: 0.5328 - accuracy: 0.7035 - val_loss: 0.4180 - val_accuracy: 0.7414\n",
            "Epoch 13/22\n",
            "19/19 [==============================] - 0s 12ms/step - loss: 0.5429 - accuracy: 0.6926 - val_loss: 0.4143 - val_accuracy: 0.7414\n",
            "Epoch 14/22\n",
            "19/19 [==============================] - 0s 12ms/step - loss: 0.5383 - accuracy: 0.6991 - val_loss: 0.4532 - val_accuracy: 0.7414\n",
            "Epoch 15/22\n",
            "19/19 [==============================] - 0s 13ms/step - loss: 0.5445 - accuracy: 0.7121 - val_loss: 0.4126 - val_accuracy: 0.7414\n",
            "Epoch 16/22\n",
            "19/19 [==============================] - 0s 13ms/step - loss: 0.5311 - accuracy: 0.7056 - val_loss: 0.4239 - val_accuracy: 0.7414\n",
            "Epoch 17/22\n",
            "19/19 [==============================] - 0s 13ms/step - loss: 0.5401 - accuracy: 0.7056 - val_loss: 0.4117 - val_accuracy: 0.7414\n",
            "Epoch 18/22\n",
            "19/19 [==============================] - 0s 13ms/step - loss: 0.5464 - accuracy: 0.7100 - val_loss: 0.4513 - val_accuracy: 0.7414\n",
            "Epoch 19/22\n",
            "19/19 [==============================] - 0s 13ms/step - loss: 0.5419 - accuracy: 0.7035 - val_loss: 0.4128 - val_accuracy: 0.7414\n",
            "Epoch 20/22\n",
            "19/19 [==============================] - 0s 14ms/step - loss: 0.5333 - accuracy: 0.7035 - val_loss: 0.4065 - val_accuracy: 0.7414\n",
            "Epoch 21/22\n",
            "19/19 [==============================] - 0s 13ms/step - loss: 0.5299 - accuracy: 0.6905 - val_loss: 0.4041 - val_accuracy: 0.7414\n",
            "Epoch 22/22\n",
            "19/19 [==============================] - 0s 12ms/step - loss: 0.5261 - accuracy: 0.6991 - val_loss: 0.4137 - val_accuracy: 0.7414\n"
          ]
        },
        {
          "output_type": "execute_result",
          "data": {
            "text/plain": [
              "<keras.callbacks.History at 0x7f0ae362bdf0>"
            ]
          },
          "metadata": {},
          "execution_count": 131
        }
      ]
    },
    {
      "cell_type": "code",
      "source": [
        "prediction=model.predict(X_test)\n",
        "length=len(prediction)\n",
        "y_label=np.argmax(y_test,axis=1)\n",
        "predict_label=np.argmax(prediction,axis=1)\n",
        "\n",
        "accuracy=np.sum(y_label==predict_label)/length * 100 \n",
        "\n",
        "print(\"Firefly accuracy - \", accuracy)"
      ],
      "metadata": {
        "colab": {
          "base_uri": "https://localhost:8080/"
        },
        "id": "mjOuK-cHCwcV",
        "outputId": "73b46c97-f75b-4f61-824f-dea3fef12d5f"
      },
      "execution_count": 134,
      "outputs": [
        {
          "output_type": "stream",
          "name": "stdout",
          "text": [
            "4/4 [==============================] - 0s 5ms/step\n",
            "Firefly accuracy -  83.86411732821634\n"
          ]
        }
      ]
    },
    {
      "cell_type": "code",
      "source": [],
      "metadata": {
        "id": "7oUw9Pg5C2ei"
      },
      "execution_count": null,
      "outputs": []
    }
  ]
}