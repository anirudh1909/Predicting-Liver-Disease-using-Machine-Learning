{
 "cells": [
  {
   "cell_type": "code",
   "execution_count": 55,
   "id": "4e970c7e",
   "metadata": {},
   "outputs": [],
   "source": [
    "import pandas as pd\n",
    "from sklearn.model_selection import train_test_split\n",
    "from sklearn import svm\n",
    "from sklearn import metrics\n",
    "from sklearn.preprocessing import *\n",
    "import seaborn as sns\n",
    "import tensorflow as tf\n",
    "from tensorflow import keras\n",
    "from tensorflow.keras import *\n",
    "from keras.layers import Activation, Dense"
   ]
  },
  {
   "cell_type": "code",
   "execution_count": 56,
   "id": "8bbeacd5",
   "metadata": {},
   "outputs": [],
   "source": [
    "df = pd.read_csv(\"Indian Liver Patient Dataset (ILPD).csv\")"
   ]
  },
  {
   "cell_type": "code",
   "execution_count": 57,
   "id": "413e06a8",
   "metadata": {},
   "outputs": [],
   "source": [
    "df.columns = [\"Age\", \"Gender\", \"TB\", \"DB\", \"Alk\", \"sgpt\", \"sgot\", \"TP\", \"ALB\", \"AG\", \"label\"]"
   ]
  },
  {
   "cell_type": "code",
   "execution_count": 58,
   "id": "2b6c0861",
   "metadata": {},
   "outputs": [
    {
     "data": {
      "text/html": [
       "<div>\n",
       "<style scoped>\n",
       "    .dataframe tbody tr th:only-of-type {\n",
       "        vertical-align: middle;\n",
       "    }\n",
       "\n",
       "    .dataframe tbody tr th {\n",
       "        vertical-align: top;\n",
       "    }\n",
       "\n",
       "    .dataframe thead th {\n",
       "        text-align: right;\n",
       "    }\n",
       "</style>\n",
       "<table border=\"1\" class=\"dataframe\">\n",
       "  <thead>\n",
       "    <tr style=\"text-align: right;\">\n",
       "      <th></th>\n",
       "      <th>Age</th>\n",
       "      <th>Gender</th>\n",
       "      <th>TB</th>\n",
       "      <th>DB</th>\n",
       "      <th>Alk</th>\n",
       "      <th>sgpt</th>\n",
       "      <th>sgot</th>\n",
       "      <th>TP</th>\n",
       "      <th>ALB</th>\n",
       "      <th>AG</th>\n",
       "      <th>label</th>\n",
       "    </tr>\n",
       "  </thead>\n",
       "  <tbody>\n",
       "    <tr>\n",
       "      <th>0</th>\n",
       "      <td>62</td>\n",
       "      <td>Male</td>\n",
       "      <td>10.9</td>\n",
       "      <td>5.5</td>\n",
       "      <td>699</td>\n",
       "      <td>64</td>\n",
       "      <td>100</td>\n",
       "      <td>7.5</td>\n",
       "      <td>3.2</td>\n",
       "      <td>0.74</td>\n",
       "      <td>1</td>\n",
       "    </tr>\n",
       "    <tr>\n",
       "      <th>1</th>\n",
       "      <td>62</td>\n",
       "      <td>Male</td>\n",
       "      <td>7.3</td>\n",
       "      <td>4.1</td>\n",
       "      <td>490</td>\n",
       "      <td>60</td>\n",
       "      <td>68</td>\n",
       "      <td>7.0</td>\n",
       "      <td>3.3</td>\n",
       "      <td>0.89</td>\n",
       "      <td>1</td>\n",
       "    </tr>\n",
       "    <tr>\n",
       "      <th>2</th>\n",
       "      <td>58</td>\n",
       "      <td>Male</td>\n",
       "      <td>1.0</td>\n",
       "      <td>0.4</td>\n",
       "      <td>182</td>\n",
       "      <td>14</td>\n",
       "      <td>20</td>\n",
       "      <td>6.8</td>\n",
       "      <td>3.4</td>\n",
       "      <td>1.00</td>\n",
       "      <td>1</td>\n",
       "    </tr>\n",
       "    <tr>\n",
       "      <th>3</th>\n",
       "      <td>72</td>\n",
       "      <td>Male</td>\n",
       "      <td>3.9</td>\n",
       "      <td>2.0</td>\n",
       "      <td>195</td>\n",
       "      <td>27</td>\n",
       "      <td>59</td>\n",
       "      <td>7.3</td>\n",
       "      <td>2.4</td>\n",
       "      <td>0.40</td>\n",
       "      <td>1</td>\n",
       "    </tr>\n",
       "    <tr>\n",
       "      <th>4</th>\n",
       "      <td>46</td>\n",
       "      <td>Male</td>\n",
       "      <td>1.8</td>\n",
       "      <td>0.7</td>\n",
       "      <td>208</td>\n",
       "      <td>19</td>\n",
       "      <td>14</td>\n",
       "      <td>7.6</td>\n",
       "      <td>4.4</td>\n",
       "      <td>1.30</td>\n",
       "      <td>1</td>\n",
       "    </tr>\n",
       "  </tbody>\n",
       "</table>\n",
       "</div>"
      ],
      "text/plain": [
       "   Age Gender    TB   DB  Alk  sgpt  sgot   TP  ALB    AG  label\n",
       "0   62   Male  10.9  5.5  699    64   100  7.5  3.2  0.74      1\n",
       "1   62   Male   7.3  4.1  490    60    68  7.0  3.3  0.89      1\n",
       "2   58   Male   1.0  0.4  182    14    20  6.8  3.4  1.00      1\n",
       "3   72   Male   3.9  2.0  195    27    59  7.3  2.4  0.40      1\n",
       "4   46   Male   1.8  0.7  208    19    14  7.6  4.4  1.30      1"
      ]
     },
     "execution_count": 58,
     "metadata": {},
     "output_type": "execute_result"
    }
   ],
   "source": [
    "df.head()"
   ]
  },
  {
   "cell_type": "code",
   "execution_count": 59,
   "id": "2a67a04f",
   "metadata": {},
   "outputs": [],
   "source": [
    "df['Gender'].replace('Female', 0, inplace=True)\n",
    "df['Gender'].replace('Male', 1, inplace=True)"
   ]
  },
  {
   "cell_type": "code",
   "execution_count": 60,
   "id": "df615b6f",
   "metadata": {},
   "outputs": [
    {
     "data": {
      "text/html": [
       "<div>\n",
       "<style scoped>\n",
       "    .dataframe tbody tr th:only-of-type {\n",
       "        vertical-align: middle;\n",
       "    }\n",
       "\n",
       "    .dataframe tbody tr th {\n",
       "        vertical-align: top;\n",
       "    }\n",
       "\n",
       "    .dataframe thead th {\n",
       "        text-align: right;\n",
       "    }\n",
       "</style>\n",
       "<table border=\"1\" class=\"dataframe\">\n",
       "  <thead>\n",
       "    <tr style=\"text-align: right;\">\n",
       "      <th></th>\n",
       "      <th>Age</th>\n",
       "      <th>Gender</th>\n",
       "      <th>TB</th>\n",
       "      <th>DB</th>\n",
       "      <th>Alk</th>\n",
       "      <th>sgpt</th>\n",
       "      <th>sgot</th>\n",
       "      <th>TP</th>\n",
       "      <th>ALB</th>\n",
       "      <th>AG</th>\n",
       "      <th>label</th>\n",
       "    </tr>\n",
       "  </thead>\n",
       "  <tbody>\n",
       "    <tr>\n",
       "      <th>0</th>\n",
       "      <td>62</td>\n",
       "      <td>1</td>\n",
       "      <td>10.9</td>\n",
       "      <td>5.5</td>\n",
       "      <td>699</td>\n",
       "      <td>64</td>\n",
       "      <td>100</td>\n",
       "      <td>7.5</td>\n",
       "      <td>3.2</td>\n",
       "      <td>0.74</td>\n",
       "      <td>1</td>\n",
       "    </tr>\n",
       "    <tr>\n",
       "      <th>1</th>\n",
       "      <td>62</td>\n",
       "      <td>1</td>\n",
       "      <td>7.3</td>\n",
       "      <td>4.1</td>\n",
       "      <td>490</td>\n",
       "      <td>60</td>\n",
       "      <td>68</td>\n",
       "      <td>7.0</td>\n",
       "      <td>3.3</td>\n",
       "      <td>0.89</td>\n",
       "      <td>1</td>\n",
       "    </tr>\n",
       "    <tr>\n",
       "      <th>2</th>\n",
       "      <td>58</td>\n",
       "      <td>1</td>\n",
       "      <td>1.0</td>\n",
       "      <td>0.4</td>\n",
       "      <td>182</td>\n",
       "      <td>14</td>\n",
       "      <td>20</td>\n",
       "      <td>6.8</td>\n",
       "      <td>3.4</td>\n",
       "      <td>1.00</td>\n",
       "      <td>1</td>\n",
       "    </tr>\n",
       "    <tr>\n",
       "      <th>3</th>\n",
       "      <td>72</td>\n",
       "      <td>1</td>\n",
       "      <td>3.9</td>\n",
       "      <td>2.0</td>\n",
       "      <td>195</td>\n",
       "      <td>27</td>\n",
       "      <td>59</td>\n",
       "      <td>7.3</td>\n",
       "      <td>2.4</td>\n",
       "      <td>0.40</td>\n",
       "      <td>1</td>\n",
       "    </tr>\n",
       "    <tr>\n",
       "      <th>4</th>\n",
       "      <td>46</td>\n",
       "      <td>1</td>\n",
       "      <td>1.8</td>\n",
       "      <td>0.7</td>\n",
       "      <td>208</td>\n",
       "      <td>19</td>\n",
       "      <td>14</td>\n",
       "      <td>7.6</td>\n",
       "      <td>4.4</td>\n",
       "      <td>1.30</td>\n",
       "      <td>1</td>\n",
       "    </tr>\n",
       "  </tbody>\n",
       "</table>\n",
       "</div>"
      ],
      "text/plain": [
       "   Age  Gender    TB   DB  Alk  sgpt  sgot   TP  ALB    AG  label\n",
       "0   62       1  10.9  5.5  699    64   100  7.5  3.2  0.74      1\n",
       "1   62       1   7.3  4.1  490    60    68  7.0  3.3  0.89      1\n",
       "2   58       1   1.0  0.4  182    14    20  6.8  3.4  1.00      1\n",
       "3   72       1   3.9  2.0  195    27    59  7.3  2.4  0.40      1\n",
       "4   46       1   1.8  0.7  208    19    14  7.6  4.4  1.30      1"
      ]
     },
     "execution_count": 60,
     "metadata": {},
     "output_type": "execute_result"
    }
   ],
   "source": [
    "df.head()"
   ]
  },
  {
   "cell_type": "code",
   "execution_count": 61,
   "id": "3a46951d",
   "metadata": {},
   "outputs": [
    {
     "data": {
      "text/plain": [
       "(582, 11)"
      ]
     },
     "execution_count": 61,
     "metadata": {},
     "output_type": "execute_result"
    }
   ],
   "source": [
    "df.shape"
   ]
  },
  {
   "cell_type": "code",
   "execution_count": 62,
   "id": "1155d2d3",
   "metadata": {},
   "outputs": [],
   "source": [
    "df.dropna(axis = 0, inplace = True)"
   ]
  },
  {
   "cell_type": "code",
   "execution_count": 63,
   "id": "0560d273",
   "metadata": {},
   "outputs": [
    {
     "data": {
      "text/plain": [
       "<AxesSubplot:>"
      ]
     },
     "execution_count": 63,
     "metadata": {},
     "output_type": "execute_result"
    },
    {
     "data": {
      "image/png": "[encoded data removed]",
      "text/plain": [
       "<Figure size 792x648 with 2 Axes>"
      ]
     },
     "metadata": {},
     "output_type": "display_data"
    }
   ],
   "source": [
    "from string import ascii_letters\n",
    "import numpy as np\n",
    "import pandas as pd\n",
    "import seaborn as sns\n",
    "import matplotlib.pyplot as plt\n",
    "\n",
    "sns.set_theme(style=\"white\")\n",
    "\n",
    "\n",
    "rs = np.random.RandomState(33)\n",
    "d = pd.DataFrame(data=df,\n",
    "                 columns=list(df.columns))\n",
    "\n",
    "\n",
    "corr = d.corr()\n",
    "\n",
    "\n",
    "mask = np.triu(np.ones_like(corr, dtype=bool))\n",
    "\n",
    "\n",
    "f, ax = plt.subplots(figsize=(11, 9))\n",
    "\n",
    "\n",
    "cmap = sns.diverging_palette(230, 20, as_cmap=True)\n",
    "\n",
    "\n",
    "sns.heatmap(corr, mask=mask, cmap=cmap, vmax=.3, center=0,\n",
    "            square=True, linewidths=.5, cbar_kws={\"shrink\": .5})"
   ]
  },
  {
   "cell_type": "markdown",
   "id": "deb33373",
   "metadata": {},
   "source": [
    "### Correlation of attributes"
   ]
  },
  {
   "cell_type": "code",
   "execution_count": 64,
   "id": "377f0568",
   "metadata": {},
   "outputs": [],
   "source": [
    "### Age distribution"
   ]
  },
  {
   "cell_type": "code",
   "execution_count": 65,
   "id": "f29ce0de",
   "metadata": {
    "scrolled": false
   },
   "outputs": [
    {
     "data": {
      "image/png": "[encoded data removed]",
      "text/plain": [
       "<Figure size 576x432 with 1 Axes>"
      ]
     },
     "metadata": {},
     "output_type": "display_data"
    }
   ],
   "source": [
    "fig, ax = plt.subplots(figsize=(8, 6))\n",
    "sns.distplot(df['Age'], hist = False, kde = True, color=\"blue\",\n",
    "                 kde_kws = {'shade': True, 'linewidth': 3}, ax = ax);"
   ]
  },
  {
   "cell_type": "code",
   "execution_count": 66,
   "id": "ee71a846",
   "metadata": {},
   "outputs": [
    {
     "data": {
      "image/png": "[encoded data removed]",
      "text/plain": [
       "<Figure size 576x432 with 1 Axes>"
      ]
     },
     "metadata": {},
     "output_type": "display_data"
    }
   ],
   "source": [
    "fig, ax = plt.subplots(figsize=(8, 6))\n",
    "sns.distplot(df['TB'], hist = False, kde = True, color=\"blue\",\n",
    "                 kde_kws = {'shade': True, 'linewidth': 3}, ax = ax);"
   ]
  },
  {
   "cell_type": "markdown",
   "id": "4f29277e",
   "metadata": {},
   "source": [
    "### TB distribution "
   ]
  },
  {
   "cell_type": "code",
   "execution_count": 67,
   "id": "d185b613",
   "metadata": {},
   "outputs": [
    {
     "data": {
      "text/plain": [
       "Index(['Age', 'Gender', 'TB', 'DB', 'Alk', 'sgpt', 'sgot', 'TP', 'ALB', 'AG',\n",
       "       'label'],\n",
       "      dtype='object')"
      ]
     },
     "execution_count": 67,
     "metadata": {},
     "output_type": "execute_result"
    }
   ],
   "source": [
    "df.columns"
   ]
  },
  {
   "cell_type": "code",
   "execution_count": 68,
   "id": "9bd1f1ff",
   "metadata": {},
   "outputs": [],
   "source": [
    "### Boxplots - To study the distribution of TP, ALB, AG"
   ]
  },
  {
   "cell_type": "code",
   "execution_count": 69,
   "id": "2135d9dc",
   "metadata": {},
   "outputs": [
    {
     "data": {
      "text/plain": [
       "<AxesSubplot:>"
      ]
     },
     "execution_count": 69,
     "metadata": {},
     "output_type": "execute_result"
    },
    {
     "data": {
      "image/png": "[encoded data removed]",
      "text/plain": [
       "<Figure size 1440x720 with 1 Axes>"
      ]
     },
     "metadata": {},
     "output_type": "display_data"
    }
   ],
   "source": [
    "fig, ax = plt.subplots(figsize=(20, 10))\n",
    "sns.boxplot(data = df[['TP', 'ALB', 'AG']], ax = ax)"
   ]
  },
  {
   "cell_type": "markdown",
   "id": "14a4ffd1",
   "metadata": {},
   "source": [
    "### Boxplots to check interquartile ranges"
   ]
  },
  {
   "cell_type": "code",
   "execution_count": 70,
   "id": "2acd4b11",
   "metadata": {},
   "outputs": [
    {
     "data": {
      "image/png": "[encoded data removed]",
      "text/plain": [
       "<Figure size 1080x1440 with 11 Axes>"
      ]
     },
     "metadata": {},
     "output_type": "display_data"
    }
   ],
   "source": [
    "cols = 3\n",
    "rows = 4\n",
    "num_cols = df.select_dtypes(exclude='object').columns\n",
    "fig = plt.figure( figsize=(cols*5, rows*5))\n",
    "for i, col in enumerate(num_cols):\n",
    "    \n",
    "    ax = fig.add_subplot(rows,cols,i+1)\n",
    "    \n",
    "    sns.histplot(x = df[col], ax = ax)\n",
    "    \n",
    "fig.tight_layout()  \n",
    "plt.show()"
   ]
  },
  {
   "cell_type": "markdown",
   "id": "f7517c6d",
   "metadata": {},
   "source": [
    "### Bargraphs for each attribute"
   ]
  },
  {
   "cell_type": "code",
   "execution_count": 71,
   "id": "01450517",
   "metadata": {},
   "outputs": [
    {
     "data": {
      "image/png": "[encoded data removed]",
      "text/plain": [
       "<Figure size 405.725x360 with 1 Axes>"
      ]
     },
     "metadata": {},
     "output_type": "display_data"
    }
   ],
   "source": [
    "sns.set()\n",
    "\n",
    "g = sns.lmplot(x=\"DB\", y=\"TB\", hue=\"label\",\n",
    "               height=5, data=df,  palette=\"Set1\")\n",
    "\n",
    "g.set_axis_labels(\"Direct_Bilirubin\", \"Total_Bilirubin\");"
   ]
  },
  {
   "cell_type": "markdown",
   "id": "a2cb86fd",
   "metadata": {},
   "source": [
    "### Relation between Total_Bilirubin and Direct_Bilirubin"
   ]
  },
  {
   "cell_type": "code",
   "execution_count": 72,
   "id": "c4bc2873",
   "metadata": {},
   "outputs": [
    {
     "data": {
      "text/plain": [
       "(578, 11)"
      ]
     },
     "execution_count": 72,
     "metadata": {},
     "output_type": "execute_result"
    }
   ],
   "source": [
    "df.shape"
   ]
  },
  {
   "cell_type": "code",
   "execution_count": 73,
   "id": "bf3b8f53",
   "metadata": {},
   "outputs": [],
   "source": [
    "X = df.iloc[:,:10]"
   ]
  },
  {
   "cell_type": "code",
   "execution_count": 74,
   "id": "0bcc95a3",
   "metadata": {},
   "outputs": [
    {
     "data": {
      "text/html": [
       "<div>\n",
       "<style scoped>\n",
       "    .dataframe tbody tr th:only-of-type {\n",
       "        vertical-align: middle;\n",
       "    }\n",
       "\n",
       "    .dataframe tbody tr th {\n",
       "        vertical-align: top;\n",
       "    }\n",
       "\n",
       "    .dataframe thead th {\n",
       "        text-align: right;\n",
       "    }\n",
       "</style>\n",
       "<table border=\"1\" class=\"dataframe\">\n",
       "  <thead>\n",
       "    <tr style=\"text-align: right;\">\n",
       "      <th></th>\n",
       "      <th>Age</th>\n",
       "      <th>Gender</th>\n",
       "      <th>TB</th>\n",
       "      <th>DB</th>\n",
       "      <th>Alk</th>\n",
       "      <th>sgpt</th>\n",
       "      <th>sgot</th>\n",
       "      <th>TP</th>\n",
       "      <th>ALB</th>\n",
       "      <th>AG</th>\n",
       "    </tr>\n",
       "  </thead>\n",
       "  <tbody>\n",
       "    <tr>\n",
       "      <th>0</th>\n",
       "      <td>62</td>\n",
       "      <td>1</td>\n",
       "      <td>10.9</td>\n",
       "      <td>5.5</td>\n",
       "      <td>699</td>\n",
       "      <td>64</td>\n",
       "      <td>100</td>\n",
       "      <td>7.5</td>\n",
       "      <td>3.2</td>\n",
       "      <td>0.74</td>\n",
       "    </tr>\n",
       "    <tr>\n",
       "      <th>1</th>\n",
       "      <td>62</td>\n",
       "      <td>1</td>\n",
       "      <td>7.3</td>\n",
       "      <td>4.1</td>\n",
       "      <td>490</td>\n",
       "      <td>60</td>\n",
       "      <td>68</td>\n",
       "      <td>7.0</td>\n",
       "      <td>3.3</td>\n",
       "      <td>0.89</td>\n",
       "    </tr>\n",
       "    <tr>\n",
       "      <th>2</th>\n",
       "      <td>58</td>\n",
       "      <td>1</td>\n",
       "      <td>1.0</td>\n",
       "      <td>0.4</td>\n",
       "      <td>182</td>\n",
       "      <td>14</td>\n",
       "      <td>20</td>\n",
       "      <td>6.8</td>\n",
       "      <td>3.4</td>\n",
       "      <td>1.00</td>\n",
       "    </tr>\n",
       "    <tr>\n",
       "      <th>3</th>\n",
       "      <td>72</td>\n",
       "      <td>1</td>\n",
       "      <td>3.9</td>\n",
       "      <td>2.0</td>\n",
       "      <td>195</td>\n",
       "      <td>27</td>\n",
       "      <td>59</td>\n",
       "      <td>7.3</td>\n",
       "      <td>2.4</td>\n",
       "      <td>0.40</td>\n",
       "    </tr>\n",
       "    <tr>\n",
       "      <th>4</th>\n",
       "      <td>46</td>\n",
       "      <td>1</td>\n",
       "      <td>1.8</td>\n",
       "      <td>0.7</td>\n",
       "      <td>208</td>\n",
       "      <td>19</td>\n",
       "      <td>14</td>\n",
       "      <td>7.6</td>\n",
       "      <td>4.4</td>\n",
       "      <td>1.30</td>\n",
       "    </tr>\n",
       "    <tr>\n",
       "      <th>...</th>\n",
       "      <td>...</td>\n",
       "      <td>...</td>\n",
       "      <td>...</td>\n",
       "      <td>...</td>\n",
       "      <td>...</td>\n",
       "      <td>...</td>\n",
       "      <td>...</td>\n",
       "      <td>...</td>\n",
       "      <td>...</td>\n",
       "      <td>...</td>\n",
       "    </tr>\n",
       "    <tr>\n",
       "      <th>577</th>\n",
       "      <td>60</td>\n",
       "      <td>1</td>\n",
       "      <td>0.5</td>\n",
       "      <td>0.1</td>\n",
       "      <td>500</td>\n",
       "      <td>20</td>\n",
       "      <td>34</td>\n",
       "      <td>5.9</td>\n",
       "      <td>1.6</td>\n",
       "      <td>0.37</td>\n",
       "    </tr>\n",
       "    <tr>\n",
       "      <th>578</th>\n",
       "      <td>40</td>\n",
       "      <td>1</td>\n",
       "      <td>0.6</td>\n",
       "      <td>0.1</td>\n",
       "      <td>98</td>\n",
       "      <td>35</td>\n",
       "      <td>31</td>\n",
       "      <td>6.0</td>\n",
       "      <td>3.2</td>\n",
       "      <td>1.10</td>\n",
       "    </tr>\n",
       "    <tr>\n",
       "      <th>579</th>\n",
       "      <td>52</td>\n",
       "      <td>1</td>\n",
       "      <td>0.8</td>\n",
       "      <td>0.2</td>\n",
       "      <td>245</td>\n",
       "      <td>48</td>\n",
       "      <td>49</td>\n",
       "      <td>6.4</td>\n",
       "      <td>3.2</td>\n",
       "      <td>1.00</td>\n",
       "    </tr>\n",
       "    <tr>\n",
       "      <th>580</th>\n",
       "      <td>31</td>\n",
       "      <td>1</td>\n",
       "      <td>1.3</td>\n",
       "      <td>0.5</td>\n",
       "      <td>184</td>\n",
       "      <td>29</td>\n",
       "      <td>32</td>\n",
       "      <td>6.8</td>\n",
       "      <td>3.4</td>\n",
       "      <td>1.00</td>\n",
       "    </tr>\n",
       "    <tr>\n",
       "      <th>581</th>\n",
       "      <td>38</td>\n",
       "      <td>1</td>\n",
       "      <td>1.0</td>\n",
       "      <td>0.3</td>\n",
       "      <td>216</td>\n",
       "      <td>21</td>\n",
       "      <td>24</td>\n",
       "      <td>7.3</td>\n",
       "      <td>4.4</td>\n",
       "      <td>1.50</td>\n",
       "    </tr>\n",
       "  </tbody>\n",
       "</table>\n",
       "<p>578 rows × 10 columns</p>\n",
       "</div>"
      ],
      "text/plain": [
       "     Age  Gender    TB   DB  Alk  sgpt  sgot   TP  ALB    AG\n",
       "0     62       1  10.9  5.5  699    64   100  7.5  3.2  0.74\n",
       "1     62       1   7.3  4.1  490    60    68  7.0  3.3  0.89\n",
       "2     58       1   1.0  0.4  182    14    20  6.8  3.4  1.00\n",
       "3     72       1   3.9  2.0  195    27    59  7.3  2.4  0.40\n",
       "4     46       1   1.8  0.7  208    19    14  7.6  4.4  1.30\n",
       "..   ...     ...   ...  ...  ...   ...   ...  ...  ...   ...\n",
       "577   60       1   0.5  0.1  500    20    34  5.9  1.6  0.37\n",
       "578   40       1   0.6  0.1   98    35    31  6.0  3.2  1.10\n",
       "579   52       1   0.8  0.2  245    48    49  6.4  3.2  1.00\n",
       "580   31       1   1.3  0.5  184    29    32  6.8  3.4  1.00\n",
       "581   38       1   1.0  0.3  216    21    24  7.3  4.4  1.50\n",
       "\n",
       "[578 rows x 10 columns]"
      ]
     },
     "execution_count": 74,
     "metadata": {},
     "output_type": "execute_result"
    }
   ],
   "source": [
    "X"
   ]
  },
  {
   "cell_type": "code",
   "execution_count": 75,
   "id": "583bdb75",
   "metadata": {},
   "outputs": [],
   "source": [
    "y = df.iloc[:, 10]"
   ]
  },
  {
   "cell_type": "code",
   "execution_count": 76,
   "id": "143618c1",
   "metadata": {},
   "outputs": [
    {
     "data": {
      "text/plain": [
       "0    1\n",
       "1    1\n",
       "2    1\n",
       "3    1\n",
       "4    1\n",
       "Name: label, dtype: int64"
      ]
     },
     "execution_count": 76,
     "metadata": {},
     "output_type": "execute_result"
    }
   ],
   "source": [
    "y.head()"
   ]
  },
  {
   "cell_type": "code",
   "execution_count": 77,
   "id": "b636f0b2",
   "metadata": {},
   "outputs": [
    {
     "data": {
      "text/plain": [
       "1    413\n",
       "2    165\n",
       "Name: label, dtype: int64"
      ]
     },
     "execution_count": 77,
     "metadata": {},
     "output_type": "execute_result"
    }
   ],
   "source": [
    "y.value_counts()"
   ]
  },
  {
   "cell_type": "code",
   "execution_count": 78,
   "id": "cb094474",
   "metadata": {},
   "outputs": [],
   "source": [
    "X_train, X_test, y_train, y_test = train_test_split(X, y, test_size=0.3,random_state=1)"
   ]
  },
  {
   "cell_type": "code",
   "execution_count": 79,
   "id": "001955b6",
   "metadata": {},
   "outputs": [
    {
     "data": {
      "text/html": [
       "<div>\n",
       "<style scoped>\n",
       "    .dataframe tbody tr th:only-of-type {\n",
       "        vertical-align: middle;\n",
       "    }\n",
       "\n",
       "    .dataframe tbody tr th {\n",
       "        vertical-align: top;\n",
       "    }\n",
       "\n",
       "    .dataframe thead th {\n",
       "        text-align: right;\n",
       "    }\n",
       "</style>\n",
       "<table border=\"1\" class=\"dataframe\">\n",
       "  <thead>\n",
       "    <tr style=\"text-align: right;\">\n",
       "      <th></th>\n",
       "      <th>Age</th>\n",
       "      <th>Gender</th>\n",
       "      <th>TB</th>\n",
       "      <th>DB</th>\n",
       "      <th>Alk</th>\n",
       "      <th>sgpt</th>\n",
       "      <th>sgot</th>\n",
       "      <th>TP</th>\n",
       "      <th>ALB</th>\n",
       "      <th>AG</th>\n",
       "    </tr>\n",
       "  </thead>\n",
       "  <tbody>\n",
       "    <tr>\n",
       "      <th>374</th>\n",
       "      <td>47</td>\n",
       "      <td>1</td>\n",
       "      <td>3.5</td>\n",
       "      <td>1.6</td>\n",
       "      <td>206</td>\n",
       "      <td>32</td>\n",
       "      <td>31</td>\n",
       "      <td>6.8</td>\n",
       "      <td>3.4</td>\n",
       "      <td>1.0</td>\n",
       "    </tr>\n",
       "    <tr>\n",
       "      <th>346</th>\n",
       "      <td>38</td>\n",
       "      <td>1</td>\n",
       "      <td>0.7</td>\n",
       "      <td>0.2</td>\n",
       "      <td>216</td>\n",
       "      <td>349</td>\n",
       "      <td>105</td>\n",
       "      <td>7.0</td>\n",
       "      <td>3.5</td>\n",
       "      <td>1.0</td>\n",
       "    </tr>\n",
       "    <tr>\n",
       "      <th>142</th>\n",
       "      <td>30</td>\n",
       "      <td>1</td>\n",
       "      <td>1.6</td>\n",
       "      <td>0.4</td>\n",
       "      <td>332</td>\n",
       "      <td>84</td>\n",
       "      <td>139</td>\n",
       "      <td>5.6</td>\n",
       "      <td>2.7</td>\n",
       "      <td>0.9</td>\n",
       "    </tr>\n",
       "    <tr>\n",
       "      <th>424</th>\n",
       "      <td>58</td>\n",
       "      <td>1</td>\n",
       "      <td>0.4</td>\n",
       "      <td>0.1</td>\n",
       "      <td>100</td>\n",
       "      <td>59</td>\n",
       "      <td>126</td>\n",
       "      <td>4.3</td>\n",
       "      <td>2.5</td>\n",
       "      <td>1.4</td>\n",
       "    </tr>\n",
       "    <tr>\n",
       "      <th>6</th>\n",
       "      <td>29</td>\n",
       "      <td>0</td>\n",
       "      <td>0.9</td>\n",
       "      <td>0.3</td>\n",
       "      <td>202</td>\n",
       "      <td>14</td>\n",
       "      <td>11</td>\n",
       "      <td>6.7</td>\n",
       "      <td>3.6</td>\n",
       "      <td>1.1</td>\n",
       "    </tr>\n",
       "  </tbody>\n",
       "</table>\n",
       "</div>"
      ],
      "text/plain": [
       "     Age  Gender   TB   DB  Alk  sgpt  sgot   TP  ALB   AG\n",
       "374   47       1  3.5  1.6  206    32    31  6.8  3.4  1.0\n",
       "346   38       1  0.7  0.2  216   349   105  7.0  3.5  1.0\n",
       "142   30       1  1.6  0.4  332    84   139  5.6  2.7  0.9\n",
       "424   58       1  0.4  0.1  100    59   126  4.3  2.5  1.4\n",
       "6     29       0  0.9  0.3  202    14    11  6.7  3.6  1.1"
      ]
     },
     "execution_count": 79,
     "metadata": {},
     "output_type": "execute_result"
    }
   ],
   "source": [
    "X_train.head()"
   ]
  },
  {
   "cell_type": "code",
   "execution_count": 80,
   "id": "aa4c8d47",
   "metadata": {},
   "outputs": [
    {
     "data": {
      "text/plain": [
       "374    1\n",
       "346    1\n",
       "142    1\n",
       "424    1\n",
       "6      1\n",
       "Name: label, dtype: int64"
      ]
     },
     "execution_count": 80,
     "metadata": {},
     "output_type": "execute_result"
    }
   ],
   "source": [
    "y_train.head()"
   ]
  },
  {
   "cell_type": "code",
   "execution_count": 81,
   "id": "24785f9e",
   "metadata": {},
   "outputs": [
    {
     "data": {
      "text/plain": [
       "((404, 10), (404,))"
      ]
     },
     "execution_count": 81,
     "metadata": {},
     "output_type": "execute_result"
    }
   ],
   "source": [
    "X_train.shape, y_train.shape"
   ]
  },
  {
   "cell_type": "code",
   "execution_count": 82,
   "id": "ad2ce50c",
   "metadata": {},
   "outputs": [],
   "source": [
    "clf = svm.SVC(kernel='linear')"
   ]
  },
  {
   "cell_type": "code",
   "execution_count": 83,
   "id": "1801ca83",
   "metadata": {},
   "outputs": [
    {
     "data": {
      "text/plain": [
       "SVC(kernel='linear')"
      ]
     },
     "execution_count": 83,
     "metadata": {},
     "output_type": "execute_result"
    }
   ],
   "source": [
    "clf.fit(X_train, y_train)"
   ]
  },
  {
   "cell_type": "code",
   "execution_count": 84,
   "id": "d0a499ed",
   "metadata": {},
   "outputs": [],
   "source": [
    "y_pred = clf.predict(X_test)"
   ]
  },
  {
   "cell_type": "code",
   "execution_count": 85,
   "id": "a8ab510d",
   "metadata": {},
   "outputs": [
    {
     "name": "stdout",
     "output_type": "stream",
     "text": [
      "SVM - Accuracy: 0.7126436781609196\n"
     ]
    }
   ],
   "source": [
    "print(\"SVM - Accuracy:\",metrics.accuracy_score(y_test, y_pred))"
   ]
  },
  {
   "cell_type": "markdown",
   "id": "cbda398c",
   "metadata": {},
   "source": [
    "## SVM - Crow Search"
   ]
  },
  {
   "cell_type": "code",
   "execution_count": 86,
   "id": "581679e2",
   "metadata": {},
   "outputs": [],
   "source": [
    "X_train, X_test, y_train, y_test = train_test_split(X, y, test_size=0.2,random_state=11)"
   ]
  },
  {
   "cell_type": "code",
   "execution_count": 87,
   "id": "402cc9cd",
   "metadata": {},
   "outputs": [],
   "source": [
    "classifier = svm.SVC(kernel='rbf')"
   ]
  },
  {
   "cell_type": "code",
   "execution_count": 88,
   "id": "9bda756d",
   "metadata": {},
   "outputs": [
    {
     "data": {
      "text/plain": [
       "SVC()"
      ]
     },
     "execution_count": 88,
     "metadata": {},
     "output_type": "execute_result"
    }
   ],
   "source": [
    "classifier.fit(X_train, y_train , optimizer = 'csa')"
   ]
  },
  {
   "cell_type": "code",
   "execution_count": 89,
   "id": "6011f5e6",
   "metadata": {},
   "outputs": [
    {
     "data": {
      "text/plain": [
       "SVC()"
      ]
     },
     "execution_count": 89,
     "metadata": {},
     "output_type": "execute_result"
    }
   ],
   "source": [
    "classifier.fit(X_train, y_train)"
   ]
  },
  {
   "cell_type": "code",
   "execution_count": 90,
   "id": "ba005ee8",
   "metadata": {},
   "outputs": [],
   "source": [
    "y_pred = classifier.predict(X_test)"
   ]
  },
  {
   "cell_type": "code",
   "execution_count": 263,
   "id": "cef1fc33",
   "metadata": {},
   "outputs": [
    {
     "name": "stdout",
     "output_type": "stream",
     "text": [
      "SVM w/ Crow Search - Accuracy: 0.8986206896551724\n"
     ]
    }
   ],
   "source": [
    "print(\"SVM w/ Crow Search - Accuracy:\", metrics.accuracy_score(y_test, y_pred))"
   ]
  },
  {
   "cell_type": "markdown",
   "id": "f358c518",
   "metadata": {},
   "source": [
    "## Sequential"
   ]
  },
  {
   "cell_type": "code",
   "execution_count": 91,
   "id": "22ac9f72",
   "metadata": {},
   "outputs": [],
   "source": [
    "import numpy as np\n",
    "from sklearn import datasets\n",
    "import seaborn as sns\n",
    "import pandas as pd\n",
    "import matplotlib.pyplot as plt\n",
    "from sklearn.model_selection import train_test_split\n",
    "from sklearn.metrics import confusion_matrix\n",
    "\n",
    "tol = 0.01\n",
    "eps = 0.01"
   ]
  },
  {
   "cell_type": "code",
   "execution_count": 92,
   "id": "cc15bb83",
   "metadata": {},
   "outputs": [],
   "source": [
    "class SMOModel:\n",
    "    def __init__(self,X,Y,C,b,kernel):\n",
    "        self.m = Y.shape[0]\n",
    "        self.y = Y\n",
    "        self.X = X\n",
    "        self.C = C\n",
    "        self.b = b\n",
    "        self.kernel = kernel\n",
    "        self.alphas = np.zeros(self.m)\n",
    "        self.errors = decision_function(self.alphas, self.y, self.kernel,self.X, self.X, self.b) - self.y"
   ]
  },
  {
   "cell_type": "code",
   "execution_count": 93,
   "id": "325fd419",
   "metadata": {},
   "outputs": [],
   "source": [
    "def gaussian_kernel(x, y, sigma=1):\n",
    "    if np.ndim(x) == 1 and np.ndim(y) == 1:\n",
    "        result = np.exp(- (np.linalg.norm(x - y, 2)) ** 2 / (2 * sigma ** 2))\n",
    "    elif (np.ndim(x) > 1 and np.ndim(y) == 1) or (np.ndim(x) == 1 and np.ndim(y) > 1):\n",
    "        result = np.exp(- (np.linalg.norm(x - y, 2, axis=1) ** 2) / (2 * sigma ** 2))\n",
    "    elif np.ndim(x) > 1 and np.ndim(y) > 1:\n",
    "        result = np.exp(- (np.linalg.norm(x[:, np.newaxis] - y[np.newaxis, :], 2, axis=2) ** 2) / (2 * sigma ** 2))\n",
    "    return result\n",
    "\n",
    "def linear_kernel(X1,X2):\n",
    "    return np.inner(X1,X2)\n",
    "\n",
    "def objective_function(alphas, y, kernel, X):\n",
    "    return np.sum(alphas) - 0.5 * np.sum((y[:, None] * y[None, :]) * kernel(X, X) * (alphas[:, None] * alphas[None, :]))\n",
    "\n",
    "def decision_function(alphas, y, kernel, X_train, x_test, b):\n",
    "    result = (alphas * y) @ kernel(X_train, x_test) - b\n",
    "    return result"
   ]
  },
  {
   "cell_type": "code",
   "execution_count": 95,
   "id": "f8d84645",
   "metadata": {},
   "outputs": [],
   "source": [
    "def takeStep(i1, i2, model):\n",
    "    \n",
    "    if i1 == i2: \n",
    "        return 0, model\n",
    "    \n",
    "    \n",
    "    alph1 = model.alphas[i1]\n",
    "    alph2 = model.alphas[i2]\n",
    "    y1 = model.y[i1]\n",
    "    y2 = model.y[i2]\n",
    "    E1 = model.errors[i1]\n",
    "    E2 = model.errors[i2]\n",
    "    \n",
    "    s = y1*y2\n",
    "    \n",
    "    \n",
    "    if y1 == y2:\n",
    "        L = max(0 , alph1 + alph2 - model.C)\n",
    "        H = min(model.C, alph1 + alph2)\n",
    "    else:\n",
    "        L = max(0, alph2 - alph1)\n",
    "        H = min(model.C, model.C + alph2 - alph1)\n",
    "     \n",
    "    \n",
    "    if L == H:\n",
    "        return 0, model\n",
    "    \n",
    "    \n",
    "    k11 = model.kernel(model.X[i1],model.X[i1])\n",
    "    k12 = model.kernel(model.X[i1],model.X[i2])\n",
    "    k22 = model.kernel(model.X[i2],model.X[i2])\n",
    "    \n",
    "    \n",
    "    eta = k11 + k22 - 2*k12\n",
    "    \n",
    "    \n",
    "    if eta > 0:\n",
    "        a2 = alph2 + (y2*(E1 -E2))/eta\n",
    "        \n",
    "        \n",
    "        if a2 < L:\n",
    "            a2 = L\n",
    "        elif a2 > H:\n",
    "            a2 = H\n",
    "    else:\n",
    "        \n",
    "        alphas_adj = model.alphas.copy()\n",
    "        \n",
    "        alphas_adj[i2] = L\n",
    "        Lobj = objective_function(alphas_adj, model.y, model.kernel, model.X) \n",
    "        \n",
    "        alphas_adj[i2] = H\n",
    "        Hobj = objective_function(alphas_adj, model.y, model.kernel, model.X) \n",
    "        \n",
    "        \n",
    "        if Lobj < (Hobj - eps):\n",
    "            a2 = L\n",
    "        elif Lobj > (Hobj + eps):\n",
    "            a2 = H\n",
    "        else:\n",
    "            a2 = alph2\n",
    "    \n",
    "            \n",
    "    if a2 < 1e-8:\n",
    "        a2 = 0.0\n",
    "    elif a2 > (model.C - 1e-8):\n",
    "        a2 = model.C\n",
    "    \n",
    "           \n",
    "    if abs(a2 - alph2) < eps*(a2+alph2+eps):\n",
    "        return 0, model\n",
    "    \n",
    "    \n",
    "    a1 = alph1 + s*(alph2 - a2)\n",
    "      \n",
    "    \n",
    "    b1 = E1 + y1 * (a1 - alph1) * k11 + y2 * (a2 - alph2) * k12 + model.b\n",
    "    b2 = E2 + y1 * (a1 - alph1) * k12 + y2 * (a2 - alph2) * k22 + model.b\n",
    "     \n",
    "   \n",
    "    if 0 < a1 and a1 < model.C:\n",
    "        b = b1\n",
    "    elif 0 < a2 and a2 < model.C:\n",
    "        b = b2\n",
    "    else:\n",
    "        b = (b1 + b2) * 0.5\n",
    "    \n",
    "    \n",
    "    model.alphas[i1] = a1\n",
    "    model.alphas[i2] = a2\n",
    "\n",
    "    \n",
    "    for index, alph in zip([i1, i2], [a1, a2]):\n",
    "        if 0.0 < alph and alph < model.C:\n",
    "            model.errors[index] = 0.0\n",
    "     \n",
    "    \n",
    "   \n",
    "    NonOpt = list(filter(lambda n: n != i1 and n != i2, list(range(model.m))))\n",
    "    \n",
    "    model.errors[NonOpt] = model.errors[NonOpt] + y1*(a1 - alph1)*model.kernel(model.X[i1], model.X[NonOpt]) +y2*(a2 - alph2)*model.kernel(model.X[i2], model.X[NonOpt]) + model.b - b\n",
    "    \n",
    "    \n",
    "    model.b = b\n",
    "    \n",
    "    return 1, model"
   ]
  },
  {
   "cell_type": "code",
   "execution_count": 96,
   "id": "609b78df",
   "metadata": {},
   "outputs": [],
   "source": [
    "def examineExample(i2, model):\n",
    "    \n",
    "    y2 = model.y[i2]\n",
    "    alph2 = model.alphas[i2]\n",
    "    E2 = model.errors[i2]\n",
    "    r2 = E2*y2\n",
    "    \n",
    "    if ((r2 < -tol and alph2 < model.C) or (r2 > tol and alph2 > 0)):\n",
    "        \n",
    "        if len(model.alphas[(model.alphas != 0) & (model.alphas != model.C)]) > 1:\n",
    "            \n",
    "            \n",
    "            if model.errors[i2] > 0:\n",
    "                i1 = np.argmin(model.errors)\n",
    "            elif model.errors[i2] <= 0:\n",
    "                i1 = np.argmax(model.errors) \n",
    "                \n",
    "            step, model = takeStep(i1, i2, model)\n",
    "            \n",
    "            if step:\n",
    "                return 1, model\n",
    "         \n",
    "        \n",
    "        for i1 in np.roll(np.where((model.alphas != 0) & (model.alphas != model.C))[0], np.random.choice(np.arange(model.m))):\n",
    "            step, model = takeStep(i1, i2, model)\n",
    "            if step:\n",
    "                return 1, model\n",
    "        \n",
    "        \n",
    "        for i1 in np.roll(np.arange(model.m), np.random.choice(np.arange(model.m))):\n",
    "            step, model = takeStep(i1, i2, model)\n",
    "            if step:\n",
    "                return 1, model\n",
    "            \n",
    "    return 0, model"
   ]
  },
  {
   "cell_type": "code",
   "execution_count": 97,
   "id": "2e8ca7cf",
   "metadata": {},
   "outputs": [],
   "source": [
    "def train(model):\n",
    "    numChanged = 0\n",
    "    examineAll = 1\n",
    "\n",
    "    while numChanged > 0 or examineAll:\n",
    "        numChanged = 0\n",
    "        if examineAll:\n",
    "            for i in range(model.m):\n",
    "                res , model = examineExample(i, model)\n",
    "                numChanged += res\n",
    "                \n",
    "        else:\n",
    "            for i in np.where((model.alphas != 0) & (model.alphas != model.C))[0]:\n",
    "                res , model = examineExample(i, model)\n",
    "                numChanged += res\n",
    "                \n",
    "        if examineAll == 1:\n",
    "            examineAll = 0\n",
    "        elif numChanged == 0:\n",
    "            examineAll = 1\n",
    "    return model"
   ]
  },
  {
   "cell_type": "code",
   "execution_count": 98,
   "id": "4018bdd6",
   "metadata": {},
   "outputs": [
    {
     "data": {
      "text/html": [
       "<div>\n",
       "<style scoped>\n",
       "    .dataframe tbody tr th:only-of-type {\n",
       "        vertical-align: middle;\n",
       "    }\n",
       "\n",
       "    .dataframe tbody tr th {\n",
       "        vertical-align: top;\n",
       "    }\n",
       "\n",
       "    .dataframe thead th {\n",
       "        text-align: right;\n",
       "    }\n",
       "</style>\n",
       "<table border=\"1\" class=\"dataframe\">\n",
       "  <thead>\n",
       "    <tr style=\"text-align: right;\">\n",
       "      <th></th>\n",
       "      <th>Age</th>\n",
       "      <th>Gender</th>\n",
       "      <th>TB</th>\n",
       "      <th>DB</th>\n",
       "      <th>Alk</th>\n",
       "      <th>sgpt</th>\n",
       "      <th>sgot</th>\n",
       "      <th>TP</th>\n",
       "      <th>ALB</th>\n",
       "      <th>AG</th>\n",
       "      <th>label</th>\n",
       "      <th>0</th>\n",
       "      <th>1</th>\n",
       "      <th>2</th>\n",
       "    </tr>\n",
       "  </thead>\n",
       "  <tbody>\n",
       "    <tr>\n",
       "      <th>280</th>\n",
       "      <td>50</td>\n",
       "      <td>1</td>\n",
       "      <td>0.7</td>\n",
       "      <td>0.2</td>\n",
       "      <td>192</td>\n",
       "      <td>18</td>\n",
       "      <td>15</td>\n",
       "      <td>7.4</td>\n",
       "      <td>4.2</td>\n",
       "      <td>1.30</td>\n",
       "      <td>2</td>\n",
       "      <td>-1</td>\n",
       "      <td>-1</td>\n",
       "      <td>1</td>\n",
       "    </tr>\n",
       "    <tr>\n",
       "      <th>408</th>\n",
       "      <td>48</td>\n",
       "      <td>1</td>\n",
       "      <td>5.0</td>\n",
       "      <td>2.6</td>\n",
       "      <td>555</td>\n",
       "      <td>284</td>\n",
       "      <td>190</td>\n",
       "      <td>6.5</td>\n",
       "      <td>3.3</td>\n",
       "      <td>1.00</td>\n",
       "      <td>1</td>\n",
       "      <td>-1</td>\n",
       "      <td>1</td>\n",
       "      <td>-1</td>\n",
       "    </tr>\n",
       "    <tr>\n",
       "      <th>182</th>\n",
       "      <td>40</td>\n",
       "      <td>1</td>\n",
       "      <td>0.6</td>\n",
       "      <td>0.1</td>\n",
       "      <td>171</td>\n",
       "      <td>20</td>\n",
       "      <td>17</td>\n",
       "      <td>5.4</td>\n",
       "      <td>2.5</td>\n",
       "      <td>0.80</td>\n",
       "      <td>1</td>\n",
       "      <td>-1</td>\n",
       "      <td>1</td>\n",
       "      <td>-1</td>\n",
       "    </tr>\n",
       "    <tr>\n",
       "      <th>262</th>\n",
       "      <td>38</td>\n",
       "      <td>0</td>\n",
       "      <td>0.8</td>\n",
       "      <td>0.2</td>\n",
       "      <td>185</td>\n",
       "      <td>25</td>\n",
       "      <td>21</td>\n",
       "      <td>7.0</td>\n",
       "      <td>3.0</td>\n",
       "      <td>0.70</td>\n",
       "      <td>1</td>\n",
       "      <td>-1</td>\n",
       "      <td>1</td>\n",
       "      <td>-1</td>\n",
       "    </tr>\n",
       "    <tr>\n",
       "      <th>89</th>\n",
       "      <td>60</td>\n",
       "      <td>1</td>\n",
       "      <td>5.7</td>\n",
       "      <td>2.8</td>\n",
       "      <td>214</td>\n",
       "      <td>412</td>\n",
       "      <td>850</td>\n",
       "      <td>7.3</td>\n",
       "      <td>3.2</td>\n",
       "      <td>0.78</td>\n",
       "      <td>1</td>\n",
       "      <td>-1</td>\n",
       "      <td>1</td>\n",
       "      <td>-1</td>\n",
       "    </tr>\n",
       "    <tr>\n",
       "      <th>294</th>\n",
       "      <td>22</td>\n",
       "      <td>1</td>\n",
       "      <td>0.6</td>\n",
       "      <td>0.2</td>\n",
       "      <td>202</td>\n",
       "      <td>78</td>\n",
       "      <td>41</td>\n",
       "      <td>8.0</td>\n",
       "      <td>3.9</td>\n",
       "      <td>0.90</td>\n",
       "      <td>1</td>\n",
       "      <td>-1</td>\n",
       "      <td>1</td>\n",
       "      <td>-1</td>\n",
       "    </tr>\n",
       "    <tr>\n",
       "      <th>138</th>\n",
       "      <td>15</td>\n",
       "      <td>1</td>\n",
       "      <td>0.8</td>\n",
       "      <td>0.2</td>\n",
       "      <td>380</td>\n",
       "      <td>25</td>\n",
       "      <td>66</td>\n",
       "      <td>6.1</td>\n",
       "      <td>3.7</td>\n",
       "      <td>1.50</td>\n",
       "      <td>1</td>\n",
       "      <td>-1</td>\n",
       "      <td>1</td>\n",
       "      <td>-1</td>\n",
       "    </tr>\n",
       "    <tr>\n",
       "      <th>556</th>\n",
       "      <td>51</td>\n",
       "      <td>1</td>\n",
       "      <td>2.9</td>\n",
       "      <td>1.2</td>\n",
       "      <td>189</td>\n",
       "      <td>80</td>\n",
       "      <td>125</td>\n",
       "      <td>6.2</td>\n",
       "      <td>3.1</td>\n",
       "      <td>1.00</td>\n",
       "      <td>1</td>\n",
       "      <td>-1</td>\n",
       "      <td>1</td>\n",
       "      <td>-1</td>\n",
       "    </tr>\n",
       "    <tr>\n",
       "      <th>460</th>\n",
       "      <td>28</td>\n",
       "      <td>0</td>\n",
       "      <td>0.8</td>\n",
       "      <td>0.2</td>\n",
       "      <td>309</td>\n",
       "      <td>55</td>\n",
       "      <td>23</td>\n",
       "      <td>6.8</td>\n",
       "      <td>4.1</td>\n",
       "      <td>1.51</td>\n",
       "      <td>1</td>\n",
       "      <td>-1</td>\n",
       "      <td>1</td>\n",
       "      <td>-1</td>\n",
       "    </tr>\n",
       "    <tr>\n",
       "      <th>142</th>\n",
       "      <td>30</td>\n",
       "      <td>1</td>\n",
       "      <td>1.6</td>\n",
       "      <td>0.4</td>\n",
       "      <td>332</td>\n",
       "      <td>84</td>\n",
       "      <td>139</td>\n",
       "      <td>5.6</td>\n",
       "      <td>2.7</td>\n",
       "      <td>0.90</td>\n",
       "      <td>1</td>\n",
       "      <td>-1</td>\n",
       "      <td>1</td>\n",
       "      <td>-1</td>\n",
       "    </tr>\n",
       "  </tbody>\n",
       "</table>\n",
       "</div>"
      ],
      "text/plain": [
       "     Age  Gender   TB   DB  Alk  sgpt  sgot   TP  ALB    AG  label  0  1  2\n",
       "280   50       1  0.7  0.2  192    18    15  7.4  4.2  1.30      2 -1 -1  1\n",
       "408   48       1  5.0  2.6  555   284   190  6.5  3.3  1.00      1 -1  1 -1\n",
       "182   40       1  0.6  0.1  171    20    17  5.4  2.5  0.80      1 -1  1 -1\n",
       "262   38       0  0.8  0.2  185    25    21  7.0  3.0  0.70      1 -1  1 -1\n",
       "89    60       1  5.7  2.8  214   412   850  7.3  3.2  0.78      1 -1  1 -1\n",
       "294   22       1  0.6  0.2  202    78    41  8.0  3.9  0.90      1 -1  1 -1\n",
       "138   15       1  0.8  0.2  380    25    66  6.1  3.7  1.50      1 -1  1 -1\n",
       "556   51       1  2.9  1.2  189    80   125  6.2  3.1  1.00      1 -1  1 -1\n",
       "460   28       0  0.8  0.2  309    55    23  6.8  4.1  1.51      1 -1  1 -1\n",
       "142   30       1  1.6  0.4  332    84   139  5.6  2.7  0.90      1 -1  1 -1"
      ]
     },
     "execution_count": 98,
     "metadata": {},
     "output_type": "execute_result"
    }
   ],
   "source": [
    "def isClass(x ,Class):\n",
    "    if Class == x:\n",
    "        return 1\n",
    "    return -1\n",
    "df['0'] = df['label'].apply(lambda x: isClass(x,0))\n",
    "df['1'] = df['label'].apply(lambda x: isClass(x,1))\n",
    "df['2'] = df['label'].apply(lambda x: isClass(x,2))\n",
    "\n",
    "df.sample(10)"
   ]
  },
  {
   "cell_type": "code",
   "execution_count": 99,
   "id": "f7c3afca",
   "metadata": {},
   "outputs": [
    {
     "data": {
      "text/plain": [
       "1    413\n",
       "2    165\n",
       "Name: label, dtype: int64"
      ]
     },
     "execution_count": 99,
     "metadata": {},
     "output_type": "execute_result"
    }
   ],
   "source": [
    "df.label.value_counts()"
   ]
  },
  {
   "cell_type": "code",
   "execution_count": 100,
   "id": "49fa9691",
   "metadata": {},
   "outputs": [],
   "source": [
    "def train_model(C,b,Class,kernel = linear_kernel):\n",
    "    \n",
    "    X_train, X_test, y_train, y_test = train_test_split(df.iloc[:,0:-4], df[Class], test_size=0.4, random_state=42)\n",
    "    X_val, X_test, y_val, y_test = train_test_split(X_test, y_test, test_size=0.5, random_state=42)\n",
    "    X_train, X_val, X_test, y_train, y_test, y_val = X_train.to_numpy(), X_val.to_numpy(), X_test.to_numpy(), y_train.to_numpy(), y_test.to_numpy(), y_val.to_numpy() \n",
    "    \n",
    "    model = SMOModel(X_train, y_train, C, b, kernel)\n",
    "    \n",
    "    np.random.seed(0)\n",
    "    model = train(model)\n",
    "    \n",
    "    return X_train, X_val, X_test, y_train, y_test, y_val, model"
   ]
  },
  {
   "cell_type": "code",
   "execution_count": 101,
   "id": "e72e9175",
   "metadata": {},
   "outputs": [],
   "source": [
    "def predict(model,X_test):\n",
    "    result = np.zeros(X_test.shape[0])\n",
    "    for i,test in enumerate(X_test):\n",
    "        result[i] = decision_function(model.alphas, model.y, model.kernel, model.X, test, model.b)\n",
    "        if result[i] > 0:\n",
    "            result[i] = 1\n",
    "        else:\n",
    "            result[i] = -1\n",
    "    return result\n",
    "\n",
    "\n",
    "\n",
    "def Classifier(model0, model1, model2, X_test):\n",
    "    result = np.zeros(X_test.shape[0])\n",
    "    for i,test in enumerate(X_test):\n",
    "        result[i] = np.argmax(np.array([\n",
    "            predict(model0,np.array([test]))[0],\n",
    "            predict(model1,np.array([test]))[0]+0.0001,\n",
    "            predict(model2,np.array([test]))[0]+0.0001\n",
    "        ]))\n",
    "    return result\n",
    "\n",
    "\n",
    "\n",
    "def plot_confusion_matrix(y_true,y_pred,title,color='Blues',sensitivity = False):\n",
    "    cf_matrix = confusion_matrix(y_true,y_pred)\n",
    "    ax = sns.heatmap(cf_matrix, annot=True, cmap=color)\n",
    "    ax.set_title(title)\n",
    "    ax.set_xlabel('\\nPredicted Values')\n",
    "    ax.set_ylabel('Actual Values ');\n",
    "    plt.show()\n",
    "    accuracy = (np.sum(y_true == y_pred)/len(y_true))*100\n",
    "    print(\"Accuracy - SMO: %.2f%%\\n\" % accuracy)\n",
    "    if sensitivity:\n",
    "        tn, fp, fn, tp = cf_matrix.ravel()\n",
    "        sensitivity = 100*tp / (tp+fn)\n",
    "        print(\"Sensitivity: %.2f%%\\n\" % sensitivity)"
   ]
  },
  {
   "cell_type": "code",
   "execution_count": 102,
   "id": "9354340b",
   "metadata": {},
   "outputs": [],
   "source": [
    "X_train0, X_val0, X_test0, y_train0, y_test0, y_val0, model0 = train_model(C = 1000.0, b = 0.0, Class = '0',kernel = linear_kernel) \n",
    "X_train1, X_val1, X_test1, y_train1, y_test1, y_val1, model1 = train_model(C = 15.0, b = 0.0, Class = '1',kernel = linear_kernel)\n",
    "X_train2, X_val2, X_test2, y_train2, y_test2, y_val2, model2 = train_model(C = 10.0, b = 0.0, Class = '2',kernel = linear_kernel) "
   ]
  },
  {
   "cell_type": "code",
   "execution_count": 103,
   "id": "36209cc7",
   "metadata": {},
   "outputs": [],
   "source": [
    "X_train, X_test, y_train, y_test = train_test_split(df.iloc[:,0:-4], df['label'], test_size=0.4, random_state=1)\n",
    "X_val, X_test, y_val, y_test = train_test_split(X_test, y_test, test_size=0.5, random_state=1)\n",
    "X_train, X_val, X_test, y_train, y_test, y_val = X_train.to_numpy(), X_val.to_numpy(), X_test.to_numpy(), y_train.to_numpy(), y_test.to_numpy(), y_val.to_numpy() \n"
   ]
  },
  {
   "cell_type": "code",
   "execution_count": 104,
   "id": "77b1497e",
   "metadata": {
    "scrolled": true
   },
   "outputs": [
    {
     "data": {
      "image/png": "[encoded data removed]",
      "text/plain": [
       "<Figure size 432x288 with 2 Axes>"
      ]
     },
     "metadata": {},
     "output_type": "display_data"
    },
    {
     "name": "stdout",
     "output_type": "stream",
     "text": [
      "Accuracy - SMO: 79.31%\n",
      "\n"
     ]
    }
   ],
   "source": [
    "\n",
    "plot_confusion_matrix(y_val,Classifier(model0, model1,model2,X_val),\"Confusion matrix for the multiclass problem\",\"Blues\")"
   ]
  },
  {
   "cell_type": "markdown",
   "id": "ee41e20a",
   "metadata": {},
   "source": [
    "## Genetic Algo"
   ]
  },
  {
   "cell_type": "code",
   "execution_count": 105,
   "id": "af3b78db",
   "metadata": {},
   "outputs": [],
   "source": [
    "temp = df.copy()"
   ]
  },
  {
   "cell_type": "code",
   "execution_count": 106,
   "id": "8a9661a1",
   "metadata": {},
   "outputs": [],
   "source": [
    "df = df.iloc[:, :-3]"
   ]
  },
  {
   "cell_type": "code",
   "execution_count": 107,
   "id": "76644a93",
   "metadata": {},
   "outputs": [
    {
     "data": {
      "text/html": [
       "<div>\n",
       "<style scoped>\n",
       "    .dataframe tbody tr th:only-of-type {\n",
       "        vertical-align: middle;\n",
       "    }\n",
       "\n",
       "    .dataframe tbody tr th {\n",
       "        vertical-align: top;\n",
       "    }\n",
       "\n",
       "    .dataframe thead th {\n",
       "        text-align: right;\n",
       "    }\n",
       "</style>\n",
       "<table border=\"1\" class=\"dataframe\">\n",
       "  <thead>\n",
       "    <tr style=\"text-align: right;\">\n",
       "      <th></th>\n",
       "      <th>Age</th>\n",
       "      <th>Gender</th>\n",
       "      <th>TB</th>\n",
       "      <th>DB</th>\n",
       "      <th>Alk</th>\n",
       "      <th>sgpt</th>\n",
       "      <th>sgot</th>\n",
       "      <th>TP</th>\n",
       "      <th>ALB</th>\n",
       "      <th>AG</th>\n",
       "      <th>label</th>\n",
       "    </tr>\n",
       "  </thead>\n",
       "  <tbody>\n",
       "    <tr>\n",
       "      <th>0</th>\n",
       "      <td>62</td>\n",
       "      <td>1</td>\n",
       "      <td>10.9</td>\n",
       "      <td>5.5</td>\n",
       "      <td>699</td>\n",
       "      <td>64</td>\n",
       "      <td>100</td>\n",
       "      <td>7.5</td>\n",
       "      <td>3.2</td>\n",
       "      <td>0.74</td>\n",
       "      <td>1</td>\n",
       "    </tr>\n",
       "    <tr>\n",
       "      <th>1</th>\n",
       "      <td>62</td>\n",
       "      <td>1</td>\n",
       "      <td>7.3</td>\n",
       "      <td>4.1</td>\n",
       "      <td>490</td>\n",
       "      <td>60</td>\n",
       "      <td>68</td>\n",
       "      <td>7.0</td>\n",
       "      <td>3.3</td>\n",
       "      <td>0.89</td>\n",
       "      <td>1</td>\n",
       "    </tr>\n",
       "    <tr>\n",
       "      <th>2</th>\n",
       "      <td>58</td>\n",
       "      <td>1</td>\n",
       "      <td>1.0</td>\n",
       "      <td>0.4</td>\n",
       "      <td>182</td>\n",
       "      <td>14</td>\n",
       "      <td>20</td>\n",
       "      <td>6.8</td>\n",
       "      <td>3.4</td>\n",
       "      <td>1.00</td>\n",
       "      <td>1</td>\n",
       "    </tr>\n",
       "    <tr>\n",
       "      <th>3</th>\n",
       "      <td>72</td>\n",
       "      <td>1</td>\n",
       "      <td>3.9</td>\n",
       "      <td>2.0</td>\n",
       "      <td>195</td>\n",
       "      <td>27</td>\n",
       "      <td>59</td>\n",
       "      <td>7.3</td>\n",
       "      <td>2.4</td>\n",
       "      <td>0.40</td>\n",
       "      <td>1</td>\n",
       "    </tr>\n",
       "    <tr>\n",
       "      <th>4</th>\n",
       "      <td>46</td>\n",
       "      <td>1</td>\n",
       "      <td>1.8</td>\n",
       "      <td>0.7</td>\n",
       "      <td>208</td>\n",
       "      <td>19</td>\n",
       "      <td>14</td>\n",
       "      <td>7.6</td>\n",
       "      <td>4.4</td>\n",
       "      <td>1.30</td>\n",
       "      <td>1</td>\n",
       "    </tr>\n",
       "  </tbody>\n",
       "</table>\n",
       "</div>"
      ],
      "text/plain": [
       "   Age  Gender    TB   DB  Alk  sgpt  sgot   TP  ALB    AG  label\n",
       "0   62       1  10.9  5.5  699    64   100  7.5  3.2  0.74      1\n",
       "1   62       1   7.3  4.1  490    60    68  7.0  3.3  0.89      1\n",
       "2   58       1   1.0  0.4  182    14    20  6.8  3.4  1.00      1\n",
       "3   72       1   3.9  2.0  195    27    59  7.3  2.4  0.40      1\n",
       "4   46       1   1.8  0.7  208    19    14  7.6  4.4  1.30      1"
      ]
     },
     "execution_count": 107,
     "metadata": {},
     "output_type": "execute_result"
    }
   ],
   "source": [
    "df.head()"
   ]
  },
  {
   "cell_type": "code",
   "execution_count": 108,
   "id": "4d8f9927",
   "metadata": {},
   "outputs": [],
   "source": [
    "y_train = df['label']\n",
    "x_train = df.drop(labels =['label'],axis=1)\n",
    "\n",
    "ohe = OneHotEncoder()\n",
    "le = LabelEncoder()\n",
    "\n",
    "cols = x_train.columns.values\n",
    "for col in cols:\n",
    "    x_train[col] = le.fit_transform(x_train[col])\n",
    "\n",
    "y_train = le.fit_transform(y_train)\n",
    "\n",
    "ohe = OneHotEncoder()\n",
    "x_train = ohe.fit_transform(x_train).toarray()\n",
    "sc = StandardScaler()\n",
    "x_train = sc.fit_transform(x_train)\n",
    "\n",
    "\n",
    "x_train, x_test, y_train, y_test = train_test_split(x_train,y_train, test_size = 0.30, random_state = 42)\n",
    "x_valid, x_test, y_valid, y_test = train_test_split(x_test,y_test, test_size = 0.50, random_state = 42)"
   ]
  },
  {
   "cell_type": "code",
   "execution_count": 109,
   "id": "f4b38544",
   "metadata": {},
   "outputs": [],
   "source": [
    "def sigmoid(x):\n",
    "    return 1/(1 + np.exp(-x)) \n",
    "\n",
    "def relu(x):\n",
    "    return np.maximum(0, x)\n",
    "\n",
    "def forward(x, w, activation):\n",
    "    return activation(np.matmul(x, w))\n",
    "\n",
    "def accuracy_fn(y, y_hat):\n",
    "    return (np.where(y == y_hat)[0].size / y_hat.size)\n",
    "\n",
    "def predict(x, y_hat, weights, activation):\n",
    "    predictions = np.zeros(shape=(x.shape[0]))\n",
    "    \n",
    "    for idx in range(x.shape[0]):\n",
    "        r1 = x[idx, :]\n",
    "        for curr_weights in weights:\n",
    "            r1 = forward(r1, curr_weights, activation)\n",
    "        predictions[idx] = np.where(r1 == np.max(r1))[0][0]\n",
    "\n",
    "    accuracy = accuracy_fn(predictions, y_hat)\n",
    "    return accuracy, predictions\n",
    "    \n",
    "def fitness(x, y_hat, weights, activation):\n",
    "    accuracy = np.empty(shape=(weights.shape[0]))\n",
    "    for idx in range(weights.shape[0]):\n",
    "        accuracy[idx], _ = predict(x, y_hat, weights[idx, :], activation)\n",
    "    return accuracy"
   ]
  },
  {
   "cell_type": "code",
   "execution_count": 110,
   "id": "0d958ab5",
   "metadata": {},
   "outputs": [],
   "source": [
    "def mat_to_vector(mat_pop_weights):\n",
    "    weights_vector = []\n",
    "    for idx in range(mat_pop_weights.shape[0]):\n",
    "        curr_vector = []\n",
    "        for layer_idx in range(mat_pop_weights.shape[1]):\n",
    "            vector_weights = np.reshape(mat_pop_weights[idx, layer_idx], newshape=(mat_pop_weights[idx, layer_idx].size))\n",
    "            curr_vector.extend(vector_weights)\n",
    "        weights_vector.append(curr_vector)\n",
    "    return np.array(weights_vector)\n",
    "\n",
    "\n",
    "def vector_to_mat(vector_weights, mat_pop_weights):\n",
    "    mat_weights = []\n",
    "    for idx in range(mat_pop_weights.shape[0]):\n",
    "        start = 0\n",
    "        end = 0\n",
    "        for layer_idx in range(mat_pop_weights.shape[1]):\n",
    "            end = end + mat_pop_weights[idx, layer_idx].size\n",
    "            curr_vector = vector_weights[idx, start:end]\n",
    "            mat_layer_weights = np.reshape(curr_vector, newshape=(mat_pop_weights[idx, layer_idx].shape))\n",
    "            mat_weights.append(mat_layer_weights)\n",
    "            start = end\n",
    "    return np.reshape(mat_weights, newshape=mat_pop_weights.shape)"
   ]
  },
  {
   "cell_type": "code",
   "execution_count": 111,
   "id": "48b2f591",
   "metadata": {},
   "outputs": [],
   "source": [
    "def mating_pool(pop, fitness, num_parents):\n",
    "    parents = np.empty((num_parents, pop.shape[1]))\n",
    "    for parent_num in range(num_parents):\n",
    "        max_fitness_idx = np.where(fitness == np.max(fitness))\n",
    "        max_fitness_idx = max_fitness_idx[0][0]\n",
    "        parents[parent_num, :] = pop[max_fitness_idx, :]\n",
    "        fitness[max_fitness_idx] = -99\n",
    "    return parents\n",
    "\n",
    "\n",
    "def crossover(parents, offspring_size):\n",
    "    offspring = np.empty(offspring_size)\n",
    "    crossover_point = np.uint32(offspring_size[1]/2)\n",
    "\n",
    "    for k in range(offspring_size[0]):\n",
    "        \n",
    "        parent1_idx = k%parents.shape[0]\n",
    "        parent2_idx = (k+1)%parents.shape[0]\n",
    "        \n",
    "        offspring[k, 0:crossover_point] = parents[parent1_idx, 0:crossover_point]\n",
    "        offspring[k, crossover_point:] = parents[parent2_idx, crossover_point:]\n",
    "        \n",
    "    return offspring\n",
    "\n",
    "\n",
    "def mutation(offspring_crossover, mutation_percent):\n",
    "    num_mutations = np.uint32((mutation_percent*offspring_crossover.shape[1]))\n",
    "    mutation_indices = np.array(random.sample(range(0, offspring_crossover.shape[1]), num_mutations))\n",
    "    \n",
    "    for idx in range(offspring_crossover.shape[0]):\n",
    "        random_value = np.random.uniform(-1.0, 1.0, 1)\n",
    "        offspring_crossover[idx, mutation_indices] = offspring_crossover[idx, mutation_indices] + random_value\n",
    "    \n",
    "    return offspring_crossover"
   ]
  },
  {
   "cell_type": "code",
   "execution_count": 112,
   "id": "c4797ccb",
   "metadata": {},
   "outputs": [],
   "source": [
    "solution_per_population = 8\n",
    "num_parents_mating = 4\n",
    "num_generations = 100\n",
    "mutation_percent = 0.20\n",
    "input_shape = x_train.shape[1]\n",
    "output_shape = len(np.unique(y_train))"
   ]
  },
  {
   "cell_type": "code",
   "execution_count": 113,
   "id": "6fe34947",
   "metadata": {},
   "outputs": [],
   "source": [
    "initial_weights = []\n",
    "for curr_sol in np.arange(0, solution_per_population):\n",
    "    \n",
    "    w1 = np.random.uniform(low=-0.1, high=0.1, size=(input_shape, 128))\n",
    "    w2 = np.random.uniform(low=-0.1, high=0.1, size=(128, 64))\n",
    "    w3 = np.random.uniform(low=-0.1, high=0.1,size=(64, output_shape))\n",
    "\n",
    "    initial_weights.append(np.array([w1, w2, w3]))\n",
    "weights_mat = np.array(initial_weights)\n",
    "weights_vector = mat_to_vector(weights_mat)\n",
    "\n",
    "best_outputs = []\n",
    "accuracies = np.empty(shape=(num_generations))"
   ]
  },
  {
   "cell_type": "code",
   "execution_count": 114,
   "id": "058df042",
   "metadata": {},
   "outputs": [],
   "source": [
    "import random"
   ]
  },
  {
   "cell_type": "code",
   "execution_count": 115,
   "id": "40484eb4",
   "metadata": {},
   "outputs": [],
   "source": [
    "from tqdm.auto import tqdm"
   ]
  },
  {
   "cell_type": "code",
   "execution_count": 116,
   "id": "1443c836",
   "metadata": {},
   "outputs": [
    {
     "data": {
      "application/vnd.jupyter.widget-view+json": {
       "model_id": "55b1876ed2644db5922468464782d6c3",
       "version_major": 2,
       "version_minor": 0
      },
      "text/plain": [
       "  0%|          | 0/100 [00:00<?, ?it/s]"
      ]
     },
     "metadata": {},
     "output_type": "display_data"
    }
   ],
   "source": [
    "for generation in tqdm(range(num_generations)):\n",
    "    \n",
    "    weights_mat = vector_to_mat(weights_vector, weights_mat)\n",
    "\n",
    "    fit = fitness(x_train, y_train, weights_mat, activation=sigmoid)\n",
    "    \n",
    "    accuracies[generation] = fit[0]\n",
    "\n",
    "    parents = mating_pool(weights_vector, fit.copy(), num_parents_mating)\n",
    "\n",
    "    offspring_crossover = crossover(parents, offspring_size=(weights_vector.shape[0]-parents.shape[0], weights_vector.shape[1]))\n",
    "\n",
    "    offspring_mutation = mutation(offspring_crossover, mutation_percent=mutation_percent)\n",
    "    \n",
    "    weights_vector[0:parents.shape[0], :] = parents\n",
    "    weights_vector[parents.shape[0]:, :] = offspring_mutation"
   ]
  },
  {
   "cell_type": "code",
   "execution_count": 117,
   "id": "b1491d38",
   "metadata": {},
   "outputs": [
    {
     "name": "stdout",
     "output_type": "stream",
     "text": [
      "Accuracy - Genetic Algorithm :  0.7931034482758621\n"
     ]
    }
   ],
   "source": [
    "weights_mat = vector_to_mat(weights_vector, weights_mat)\n",
    "best_weights = weights_mat [0, :]\n",
    "acc, predictions = predict(x_test, y_test, best_weights, sigmoid)\n",
    "print(\"Accuracy - Genetic Algorithm : \", acc)"
   ]
  },
  {
   "cell_type": "markdown",
   "id": "a03c70eb",
   "metadata": {},
   "source": []
  },
  {
   "cell_type": "markdown",
   "id": "6ba21f5b",
   "metadata": {},
   "source": [
    "# Accuracies\n",
    "### SVM - 71.2%\n",
    "### SVM with CSA - 89.8%\n",
    "### SMO - 79.3%\n",
    "### Genetic Algorithm - 79.31%\n",
    "### Multi-verse -  74.13%\n",
    "### Particle Swarm -  69.16%\n",
    "### Firefly -  83.86%\n"
   ]
  },
  {
   "cell_type": "code",
   "execution_count": 119,
   "id": "5d86041e",
   "metadata": {},
   "outputs": [],
   "source": [
    "models = ['SVM', 'SVM with CSA', 'SMO', 'Genetic', 'Multi-verse', 'Particle Swarm', 'Firefly']\n",
    "accuracies = [71.2, 89.8, 79.3, 79.31, 74.13, 69.16, 83.86]"
   ]
  },
  {
   "cell_type": "code",
   "execution_count": 120,
   "id": "13989f57",
   "metadata": {},
   "outputs": [],
   "source": [
    "import seaborn as sns"
   ]
  },
  {
   "cell_type": "code",
   "execution_count": 121,
   "id": "222e18b5",
   "metadata": {},
   "outputs": [
    {
     "data": {
      "image/png": "[encoded data removed]",
      "text/plain": [
       "<Figure size 1440x720 with 1 Axes>"
      ]
     },
     "metadata": {},
     "output_type": "display_data"
    }
   ],
   "source": [
    "fig, ax = plt.subplots(figsize=(20, 10))\n",
    "sns.barplot(models, accuracies, capsize=0.2, ax=ax)\n",
    "\n",
    "\n",
    "for p in ax.patches:\n",
    "    h, w, x = p.get_height(), p.get_width(), p.get_x()\n",
    "    xy = (x + w / 2., h / 2)\n",
    "    text = f'{h:0.2f}'\n",
    "    ax.annotate(text=text, xy=xy, ha='center', va='center')\n",
    "\n",
    "ax.set(xlabel='Models', ylabel='Accuracy')\n",
    "plt.show()"
   ]
  }
 ],
 "metadata": {
  "kernelspec": {
   "display_name": "Python 3",
   "language": "python",
   "name": "python3"
  },
  "language_info": {
   "codemirror_mode": {
    "name": "ipython",
    "version": 3
   },
   "file_extension": ".py",
   "mimetype": "text/x-python",
   "name": "python",
   "nbconvert_exporter": "python",
   "pygments_lexer": "ipython3",
   "version": "3.8.8"
  }
 },
 "nbformat": 4,
 "nbformat_minor": 5
}
