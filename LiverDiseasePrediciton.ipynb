{
 "cells": [
  {
   "cell_type": "code",
   "execution_count": 273,
   "id": "9a4c833d",
   "metadata": {},
   "outputs": [],
   "source": [
    "import pandas as pd\n",
    "from sklearn.model_selection import train_test_split\n",
    "from sklearn import svm\n",
    "from sklearn import metrics\n",
    "from sklearn.preprocessing import *\n",
    "import seaborn as sns\n",
    "import tensorflow as tf\n",
    "from tensorflow import keras\n",
    "from tensorflow.keras import *\n",
    "from keras.layers import Activation, Dense"
   ]
  },
  {
   "cell_type": "code",
   "execution_count": 274,
   "id": "46c5beb8",
   "metadata": {},
   "outputs": [],
   "source": [
    "df = pd.read_csv(\"data.csv\")"
   ]
  },
  {
   "cell_type": "code",
   "execution_count": 275,
   "id": "e723a08b",
   "metadata": {},
   "outputs": [],
   "source": [
    "df.columns = [\"Age\", \"Gender\", \"TB\", \"DB\", \"Alk\", \"sgpt\", \"sgot\", \"TP\", \"ALB\", \"AG\", \"label\"]"
   ]
  },
  {
   "cell_type": "code",
   "execution_count": 276,
   "id": "15c5eeb9",
   "metadata": {},
   "outputs": [
    {
     "data": {
      "text/html": [
       "<div>\n",
       "<style scoped>\n",
       "    .dataframe tbody tr th:only-of-type {\n",
       "        vertical-align: middle;\n",
       "    }\n",
       "\n",
       "    .dataframe tbody tr th {\n",
       "        vertical-align: top;\n",
       "    }\n",
       "\n",
       "    .dataframe thead th {\n",
       "        text-align: right;\n",
       "    }\n",
       "</style>\n",
       "<table border=\"1\" class=\"dataframe\">\n",
       "  <thead>\n",
       "    <tr style=\"text-align: right;\">\n",
       "      <th></th>\n",
       "      <th>Age</th>\n",
       "      <th>Gender</th>\n",
       "      <th>TB</th>\n",
       "      <th>DB</th>\n",
       "      <th>Alk</th>\n",
       "      <th>sgpt</th>\n",
       "      <th>sgot</th>\n",
       "      <th>TP</th>\n",
       "      <th>ALB</th>\n",
       "      <th>AG</th>\n",
       "      <th>label</th>\n",
       "    </tr>\n",
       "  </thead>\n",
       "  <tbody>\n",
       "    <tr>\n",
       "      <th>0</th>\n",
       "      <td>62</td>\n",
       "      <td>Male</td>\n",
       "      <td>10.9</td>\n",
       "      <td>5.5</td>\n",
       "      <td>699</td>\n",
       "      <td>64</td>\n",
       "      <td>100</td>\n",
       "      <td>7.5</td>\n",
       "      <td>3.2</td>\n",
       "      <td>0.74</td>\n",
       "      <td>1</td>\n",
       "    </tr>\n",
       "    <tr>\n",
       "      <th>1</th>\n",
       "      <td>62</td>\n",
       "      <td>Male</td>\n",
       "      <td>7.3</td>\n",
       "      <td>4.1</td>\n",
       "      <td>490</td>\n",
       "      <td>60</td>\n",
       "      <td>68</td>\n",
       "      <td>7.0</td>\n",
       "      <td>3.3</td>\n",
       "      <td>0.89</td>\n",
       "      <td>1</td>\n",
       "    </tr>\n",
       "    <tr>\n",
       "      <th>2</th>\n",
       "      <td>58</td>\n",
       "      <td>Male</td>\n",
       "      <td>1.0</td>\n",
       "      <td>0.4</td>\n",
       "      <td>182</td>\n",
       "      <td>14</td>\n",
       "      <td>20</td>\n",
       "      <td>6.8</td>\n",
       "      <td>3.4</td>\n",
       "      <td>1.00</td>\n",
       "      <td>1</td>\n",
       "    </tr>\n",
       "    <tr>\n",
       "      <th>3</th>\n",
       "      <td>72</td>\n",
       "      <td>Male</td>\n",
       "      <td>3.9</td>\n",
       "      <td>2.0</td>\n",
       "      <td>195</td>\n",
       "      <td>27</td>\n",
       "      <td>59</td>\n",
       "      <td>7.3</td>\n",
       "      <td>2.4</td>\n",
       "      <td>0.40</td>\n",
       "      <td>1</td>\n",
       "    </tr>\n",
       "    <tr>\n",
       "      <th>4</th>\n",
       "      <td>46</td>\n",
       "      <td>Male</td>\n",
       "      <td>1.8</td>\n",
       "      <td>0.7</td>\n",
       "      <td>208</td>\n",
       "      <td>19</td>\n",
       "      <td>14</td>\n",
       "      <td>7.6</td>\n",
       "      <td>4.4</td>\n",
       "      <td>1.30</td>\n",
       "      <td>1</td>\n",
       "    </tr>\n",
       "  </tbody>\n",
       "</table>\n",
       "</div>"
      ],
      "text/plain": [
       "   Age Gender    TB   DB  Alk  sgpt  sgot   TP  ALB    AG  label\n",
       "0   62   Male  10.9  5.5  699    64   100  7.5  3.2  0.74      1\n",
       "1   62   Male   7.3  4.1  490    60    68  7.0  3.3  0.89      1\n",
       "2   58   Male   1.0  0.4  182    14    20  6.8  3.4  1.00      1\n",
       "3   72   Male   3.9  2.0  195    27    59  7.3  2.4  0.40      1\n",
       "4   46   Male   1.8  0.7  208    19    14  7.6  4.4  1.30      1"
      ]
     },
     "execution_count": 276,
     "metadata": {},
     "output_type": "execute_result"
    }
   ],
   "source": [
    "df.head()"
   ]
  },
  {
   "cell_type": "code",
   "execution_count": 277,
   "id": "4394fe5c",
   "metadata": {},
   "outputs": [],
   "source": [
    "df['Gender'].replace('Female', 0, inplace=True)\n",
    "df['Gender'].replace('Male', 1, inplace=True)"
   ]
  },
  {
   "cell_type": "code",
   "execution_count": 278,
   "id": "85bc2074",
   "metadata": {},
   "outputs": [
    {
     "data": {
      "text/html": [
       "<div>\n",
       "<style scoped>\n",
       "    .dataframe tbody tr th:only-of-type {\n",
       "        vertical-align: middle;\n",
       "    }\n",
       "\n",
       "    .dataframe tbody tr th {\n",
       "        vertical-align: top;\n",
       "    }\n",
       "\n",
       "    .dataframe thead th {\n",
       "        text-align: right;\n",
       "    }\n",
       "</style>\n",
       "<table border=\"1\" class=\"dataframe\">\n",
       "  <thead>\n",
       "    <tr style=\"text-align: right;\">\n",
       "      <th></th>\n",
       "      <th>Age</th>\n",
       "      <th>Gender</th>\n",
       "      <th>TB</th>\n",
       "      <th>DB</th>\n",
       "      <th>Alk</th>\n",
       "      <th>sgpt</th>\n",
       "      <th>sgot</th>\n",
       "      <th>TP</th>\n",
       "      <th>ALB</th>\n",
       "      <th>AG</th>\n",
       "      <th>label</th>\n",
       "    </tr>\n",
       "  </thead>\n",
       "  <tbody>\n",
       "    <tr>\n",
       "      <th>0</th>\n",
       "      <td>62</td>\n",
       "      <td>1</td>\n",
       "      <td>10.9</td>\n",
       "      <td>5.5</td>\n",
       "      <td>699</td>\n",
       "      <td>64</td>\n",
       "      <td>100</td>\n",
       "      <td>7.5</td>\n",
       "      <td>3.2</td>\n",
       "      <td>0.74</td>\n",
       "      <td>1</td>\n",
       "    </tr>\n",
       "    <tr>\n",
       "      <th>1</th>\n",
       "      <td>62</td>\n",
       "      <td>1</td>\n",
       "      <td>7.3</td>\n",
       "      <td>4.1</td>\n",
       "      <td>490</td>\n",
       "      <td>60</td>\n",
       "      <td>68</td>\n",
       "      <td>7.0</td>\n",
       "      <td>3.3</td>\n",
       "      <td>0.89</td>\n",
       "      <td>1</td>\n",
       "    </tr>\n",
       "    <tr>\n",
       "      <th>2</th>\n",
       "      <td>58</td>\n",
       "      <td>1</td>\n",
       "      <td>1.0</td>\n",
       "      <td>0.4</td>\n",
       "      <td>182</td>\n",
       "      <td>14</td>\n",
       "      <td>20</td>\n",
       "      <td>6.8</td>\n",
       "      <td>3.4</td>\n",
       "      <td>1.00</td>\n",
       "      <td>1</td>\n",
       "    </tr>\n",
       "    <tr>\n",
       "      <th>3</th>\n",
       "      <td>72</td>\n",
       "      <td>1</td>\n",
       "      <td>3.9</td>\n",
       "      <td>2.0</td>\n",
       "      <td>195</td>\n",
       "      <td>27</td>\n",
       "      <td>59</td>\n",
       "      <td>7.3</td>\n",
       "      <td>2.4</td>\n",
       "      <td>0.40</td>\n",
       "      <td>1</td>\n",
       "    </tr>\n",
       "    <tr>\n",
       "      <th>4</th>\n",
       "      <td>46</td>\n",
       "      <td>1</td>\n",
       "      <td>1.8</td>\n",
       "      <td>0.7</td>\n",
       "      <td>208</td>\n",
       "      <td>19</td>\n",
       "      <td>14</td>\n",
       "      <td>7.6</td>\n",
       "      <td>4.4</td>\n",
       "      <td>1.30</td>\n",
       "      <td>1</td>\n",
       "    </tr>\n",
       "  </tbody>\n",
       "</table>\n",
       "</div>"
      ],
      "text/plain": [
       "   Age  Gender    TB   DB  Alk  sgpt  sgot   TP  ALB    AG  label\n",
       "0   62       1  10.9  5.5  699    64   100  7.5  3.2  0.74      1\n",
       "1   62       1   7.3  4.1  490    60    68  7.0  3.3  0.89      1\n",
       "2   58       1   1.0  0.4  182    14    20  6.8  3.4  1.00      1\n",
       "3   72       1   3.9  2.0  195    27    59  7.3  2.4  0.40      1\n",
       "4   46       1   1.8  0.7  208    19    14  7.6  4.4  1.30      1"
      ]
     },
     "execution_count": 278,
     "metadata": {},
     "output_type": "execute_result"
    }
   ],
   "source": [
    "df.head()"
   ]
  },
  {
   "cell_type": "code",
   "execution_count": 279,
   "id": "8e7e6f65",
   "metadata": {},
   "outputs": [
    {
     "data": {
      "text/plain": [
       "(582, 11)"
      ]
     },
     "execution_count": 279,
     "metadata": {},
     "output_type": "execute_result"
    }
   ],
   "source": [
    "df.shape"
   ]
  },
  {
   "cell_type": "code",
   "execution_count": 280,
   "id": "3fe95e9d",
   "metadata": {},
   "outputs": [],
   "source": [
    "df.dropna(axis = 0, inplace = True)"
   ]
  },
  {
   "cell_type": "code",
   "execution_count": 281,
   "id": "cc04f4a9",
   "metadata": {},
   "outputs": [
    {
     "data": {
      "text/plain": [
       "<AxesSubplot:>"
      ]
     },
     "execution_count": 281,
     "metadata": {},
     "output_type": "execute_result"
    },
    {
     "data": {
      "image/png": "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\n",
      "text/plain": [
       "<Figure size 792x648 with 2 Axes>"
      ]
     },
     "metadata": {},
     "output_type": "display_data"
    }
   ],
   "source": [
    "from string import ascii_letters\n",
    "import numpy as np\n",
    "import pandas as pd\n",
    "import seaborn as sns\n",
    "import matplotlib.pyplot as plt\n",
    "\n",
    "sns.set_theme(style=\"white\")\n",
    "\n",
    "# Generate a large random dataset\n",
    "rs = np.random.RandomState(33)\n",
    "d = pd.DataFrame(data=df,\n",
    "                 columns=list(df.columns))\n",
    "\n",
    "# Compute the correlation matrix\n",
    "corr = d.corr()\n",
    "\n",
    "# Generate a mask for the upper triangle\n",
    "mask = np.triu(np.ones_like(corr, dtype=bool))\n",
    "\n",
    "# Set up the matplotlib figure\n",
    "f, ax = plt.subplots(figsize=(11, 9))\n",
    "\n",
    "# Generate a custom diverging colormap\n",
    "cmap = sns.diverging_palette(230, 20, as_cmap=True)\n",
    "\n",
    "# Draw the heatmap with the mask and correct aspect ratio\n",
    "sns.heatmap(corr, mask=mask, cmap=cmap, vmax=.3, center=0,\n",
    "            square=True, linewidths=.5, cbar_kws={\"shrink\": .5})"
   ]
  },
  {
   "cell_type": "code",
   "execution_count": 304,
   "id": "84c9cc4c",
   "metadata": {},
   "outputs": [],
   "source": [
    "### AGE histogram"
   ]
  },
  {
   "cell_type": "code",
   "execution_count": 324,
   "id": "97432ca9",
   "metadata": {
    "scrolled": false
   },
   "outputs": [
    {
     "name": "stderr",
     "output_type": "stream",
     "text": [
      "/Users/vishnutammishetti/opt/anaconda3/lib/python3.8/site-packages/seaborn/distributions.py:2557: FutureWarning: `distplot` is a deprecated function and will be removed in a future version. Please adapt your code to use either `displot` (a figure-level function with similar flexibility) or `kdeplot` (an axes-level function for kernel density plots).\n",
      "  warnings.warn(msg, FutureWarning)\n"
     ]
    },
    {
     "data": {
      "image/png": "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\n",
      "text/plain": [
       "<Figure size 576x432 with 1 Axes>"
      ]
     },
     "metadata": {},
     "output_type": "display_data"
    }
   ],
   "source": [
    "fig, ax = plt.subplots(figsize=(8, 6))\n",
    "sns.distplot(df['Age'], hist = False, kde = True, color=\"blue\",\n",
    "                 kde_kws = {'shade': True, 'linewidth': 3}, ax = ax);"
   ]
  },
  {
   "cell_type": "code",
   "execution_count": 325,
   "id": "ebcc1d4e",
   "metadata": {},
   "outputs": [
    {
     "name": "stderr",
     "output_type": "stream",
    },
    {
     "data": {
      "image/png": "iVBORw0KGgoAAAANSUhEUgAAAf8AAAF2CAYAAABgTpGuAAAAOXRFWHRTb2Z0d2FyZQBNYXRwbG90bGliIHZlcnNpb24zLjMuNCwgaHR0cHM6Ly9tYXRwbG90bGliLm9yZy8QVMy6AAAACXBIWXMAAAsTAAALEwEAmpwYAAA7FklEQVR4nO3deXSU9aE38O8zS5YhAwNhJkGkqMUSF5baABF5oYoStjRK4ZRFQw+HAN5e4eYo3BQtKhfL0mBir4petO3hCr3agknTgwHUS4Um78vSKqGiRQSBEJLJRpbJNvM87x+PmYVsk2SeJZnv5xyPz8w8M/PLL2G+81sfQZIkCURERBQ2DFoXgIiIiNTF8CciIgozDH8iIqIww/AnIiIKMwx/IiKiMMPwJyIiCjMMfyIiojBj0roAaqquboAo9o9tDWJjY1BZWa91McIS615brH/tsO61o0TdGwwChg4d1OFjYRX+oij1m/AH0K/KOtCw7rXF+tcO6147atY9u/2JiIjCDMOfiIgozDD8iYiIwgzDn4iIKMww/ImIiMIMw5+IiCjMMPyJiIjCDMOfiIgozCi6yU9+fj527doFt9uN5cuXY9myZR2et2HDBiQlJWHBggWorKzEihUrvI/V1dWhuroaf//733HixAk89dRTiI+PBwDcfffd2Lp1q5I/AhER0YCjWPiXlZUhOzsbBw4cQEREBBYvXowpU6ZgzJgxAec8//zzKCoqQlJSEgAgNjYWeXl5AABRFLF8+XJkZGQAAM6ePYsVK1Zg9erVShWbiIhowFOs27+wsBBJSUmw2WywWCxITk5GQUFBwDn5+fmYOXMm5syZ0+Fr7N+/H9HR0UhJSQEAFBcX4/jx40hJScGaNWtQWlqqVPGJiIgGLMXCv7y8HHa73Xvb4XCgrKws4JyVK1di0aJFHT7f4/HgjTfewNNPP+29z2q14oknnkB+fj5mzJjh7REIBx4P8P/+nxEVFYLWRSEion5OsW5/URQhCL6gkiQp4HZ3jh07httuuw1jx4713rd582bv8ZIlS7Bz507U1dXBarUG9ZqxsTFBv78e2O2+n2vDBuBXvwLi44HPPweGDtWwYGHAv+5Jfax/7bDutaNm3SsW/vHx8Th16pT3ttPphMPhCPr5H374IebOneu9LYoi3nzzTaxatQpGo9F7v/9xdyor6/vNFavsdiuczjoAgCQBv/3tIAAGXL8OvPNOIxYvdmtbwAHMv+5Jfax/7bDutaNE3RsMQqeNXsW6/adOnYqioiJUVVWhsbERhw8fxvTp04N+/qefforExETvbYPBgCNHjuDQoUMAgNzcXEyYMAEWiyXkZdebCxcEVFT4flVHjoTVlZiJiCjEFAv/uLg4ZGRkIC0tDY8++ijmz5+P8ePHIz09HcXFxd0+/8qVK94lfW22b9+OPXv2YN68edi/fz+2bNmiVPF1pagoMOyPHjWhpUWjwhARUb8nSJLUP/rBQ6C/dvv/7GdR+MMfzAGP79/vwv/5Px4tijbgsetTW6x/7bDutTNguv0pdP7v/20/r4Fd/0RE1FsMf527elXAlSvtf00MfyIi6i2Gv875t/rvusuDyEh52OLCBQMuXuSafyIi6jmGv84VFfnCf+JEDxISRO/tf/6Tvz4iIuo5pofO/f3vvvC/+24RsbG+CYtlZfz1ERFRzzE9dO76dV/X/i23SBg61D/82e1PREQ9x/DXMY8HqKryBfzgwRKGDfOFv/8XAyIiomAx/HWsqkqAKMoBHxMjwWRCQMu/vJy/PiIi6jmmh445nb6Wvc0mhz67/YmIqK8Y/jrmH/5Dhsihz25/IiLqK4a/jlVUtG/5t/0fkL8ceLjDLxER9RDDX8c66vaPiJDH/wHA4xFQWcnWPxER9QzDX8f8W/5t3f4Ax/2JiKhvGP465nT6fj3+4e8/7s/wJyKinmL461hgy993f2DLn79CIiLqGSaHjnU05g+w25+IiPqG4a9jHS31Axj+RETUNwx/nZKkjpf6AVzrT0REfcPw16naWqC5WQ72yEgJUVG+x7jFLxER9QWTQ6fKy33H/q1+gN3+RETUNwx/nSor8x37j/cD7Zf6SYEPExERdYnhr1NdhX9kJGCxyPe1tgoBl/0lIiLqDsNfpwK7/ds/zq5/IiLqLYa/TnXV8gcY/kRE1HsMf53qasIfAAwe7LuvpobhT0REwWP461R3Lf+2K/sBDH8iIuoZhr9O+Yd/Ry3/QYN8xzduMPyJiCh4DH+d8u/2Z8ufiIhCieGvU9XVvmP/oO/ovhs31CgRERENFAx/HZKkwEC3WNqf49/tz5Y/ERH1BMNfh5qagNZW+dhkkhAR0f6cwJY/w5+IiILH8Neh2lpfmFssgNBBtnPMn4iIeovhr0N1db7jtm18b8bZ/kRE1FsMfx26ueXfEbb8iYiotxj+OhQY/h23/OXhAPmxujoBHo8qRSMiogGA4a9DdXW+8B80qOPwNxgCewW43I+IiIKlaPjn5+dj7ty5mDVrFvbu3dvpeRs2bMCBAwe8t99//31MmzYNqampSE1NRXZ2NgCgtrYWq1atwpw5c7Bs2TI4nU4li6+ZYLr9AXb9ExFR75iUeuGysjJkZ2fjwIEDiIiIwOLFizFlyhSMGTMm4Jznn38eRUVFSEpK8t5/9uxZZGZmYv78+QGvmZOTg8TERPzXf/0XcnNz8dJLLyEnJ0epH0EztbW+4866/YGOJv11fi4REVEbxVr+hYWFSEpKgs1mg8ViQXJyMgoKCgLOyc/Px8yZMzFnzpyA+4uLi/H+++8jJSUFzzzzDG5826d99OhRpKSkAADmz5+PTz75BK1tC+IHELb8iYhISYqFf3l5Oex2u/e2w+FAmf/VagCsXLkSixYtavdcu92Of/mXf8Gf/vQnjBgxAps3b273miaTCTExMaiqqlLqR9BMMGP+Nz/G5X5ERBQsxbr9RVGE4Lc7jSRJAbe78tprr3mPV65ciUceeaTD8yRJgsEQ/PeX2NiYoM/VUkuL73j48AjYbB1s8Qdg2DDfsccTDb/vWtRHdrtV6yKENda/dlj32lGz7hUL//j4eJw6dcp72+l0wuFwdPu8uro67N+/Hz/96U8ByAFvNBoByL0HFRUViI+Ph9vtRkNDA2w2W9Blqqyshyjqf1y8vDwKgPnbW82oqel4HZ/ZbPaed/VqM5zOlg7Po56x261wOuu6P5EUwfrXDuteO0rUvcEgdNroVazbf+rUqSgqKkJVVRUaGxtx+PBhTJ8+vdvnWSwWvPXWW/jss88AAO+884635T9jxgzk5uYCAA4ePIjExMRvA3BgCbbbn2P+RETUG4q1/OPi4pCRkYG0tDS0trZi4cKFGD9+PNLT07F27VqMGzeuw+cZjUbk5OTghRdeQFNTE2677Tbs2LEDALBu3TpkZmZi3rx5sFqtyMrKUqr4mgp2wl/gbH8FC0RERAOKIEmS/vvBQ6S/dPtPmTIIFy/KnTL/+Z+NuPXWjst8/LgRO3dGAgDmz2/Fb37TpFoZBzJ2fWqL9a8d1r12Bky3P/VeMBf2AXhZXyIi6h2Gvw75d/v7d+3fzP8xjvkTEVGwGP4609QEtLTIQW40SojoeJUfALb8iYiodxj+OnPzZL+utkbwXwnAlj8REQWL4a8zwY73A4Hd/rW1vKwvEREFh+GvM8GO9wOA0Rj4BcH/gkBERESdYfjrTGC3f/fLEtn1T0REPcXw15mehn+M3xJOTvojIqJgMPx1JnDMv/vz2fInIqKeYvjrTOCYfzAtfy73IyKinmH460yw+/p3dI7/BYGIiIg6w/DXGf8AD2bM3/+cOm7JTUREQWD460xPJ/xFR/uO2fInIqJgMPx1xn+tfnfr/OVz/Fv+DH8iIuoew19net7yZ7c/ERH1DMNfZwLH/Ls/nxP+iIiopxj+OtPTln/g9r4MfyIi6h7DX2f8u+6DGfP3b/nX1zP8iYioewx/nWlo8AW4/3h+ZzjmT0REPcXw1xGPB3C5fOEfGdn9c26+rC8REVF3GP464nL5jqOiAEMQv53Alj/Dn4iIusfw1xH/Lv9gZvoDgZv8NDQI8HhCXCgiIhpwGP46Ul/vO/YP9a4YDIGtf//XICIi6gjDX0d60/KXz2XXPxERBY/hryP+S/WCbfkD3OiHiIh6huGvIw0NvuOehL9/tz9n/BMRUXcY/joSipY/x/yJiKg7DH8d4Zg/ERGpgeGvI72Z7Q8EflFgtz8REXWH4a8jvW35c4tfIiLqCYa/jvR2zH/QIHb7ExFR8Bj+OtL72f6+Y4Y/ERF1h+GvI72f7c+WPxERBY/hryP+Lf+ezfb3HdfWhq48REQ0MDH8dcR/wh9b/kREpBRFwz8/Px9z587FrFmzsHfv3k7P27BhAw4cOOC9ffr0aSxcuBCpqalYvnw5SkpKAAAnTpzAlClTkJqaitTUVPz85z9Xsviq6/1sf9+x/9ABERFRR0xKvXBZWRmys7Nx4MABREREYPHixZgyZQrGjBkTcM7zzz+PoqIiJCUlee9fv349Xn/9dSQkJOCPf/wjtmzZgl27duHs2bNYsWIFVq9erVSxNdX7df7c3peIiIKnWMu/sLAQSUlJsNlssFgsSE5ORkFBQcA5+fn5mDlzJubMmeO9r6WlBevWrUNCQgIAYOzYsSgtLQUAFBcX4/jx40hJScGaNWu89w8Uve/29x1znT8REXVHsfAvLy+H3W733nY4HCgrKws4Z+XKlVi0aFHAfREREUhNTQUAiKKIV199FQ8//DAAwGq14oknnkB+fj5mzJiBjIwMpYqviVDM9me3PxERdUexbn9RFCEIviCSJCngdndaWlqQmZkJt9vt7ebfvHmz9/ElS5Zg586dqKurg9VqDeo1Y2Njgn5/tUlS+9n+ZnNwA/9DhgCCIL+GyyXAZrPCbFaooGHCbg/ub4qUwfrXDuteO2rWvWLhHx8fj1OnTnlvO51OOByOoJ7b0NCAJ598EjabDbt27YLZbIYoinjzzTexatUqGI1G77n+x92prKyHKErdn6iB5mbA7ZZ/8SaTBLNZQE2NK+jnR0dHw+WSv1xdvFiHoUMVKWZYsNutcDo5fqIV1r92WPfaUaLuDQah00avYt3+U6dORVFREaqqqtDY2IjDhw9j+vTpQT13/fr1GD16NHJychARESEX1GDAkSNHcOjQIQBAbm4uJkyYAEtPpsXrmH93fVRUz5/PLX6JiChYirX84+LikJGRgbS0NLS2tmLhwoUYP3480tPTsXbtWowbN67D533++ef46KOPMGbMGDz22GMA5PkCu3fvxvbt2/GLX/wCr732GoYNG4YdO3YoVXzVBW7tKwHoWYD7zxGQZ/zrs4eDiIi0J0iSFDYpoedu/88/N+CHPxwEABg1SsSePYYedfv//OeR+OILeQjkT39yISnJo0g5wwG7PrXF+tcO6147A6bbn3qmfcu/Z7jcj4iIgsXw14neLvNrw41+iIgoWAx/nfDf4Ccqquctf17Wl4iIgsXw14nebu3bhhf3ISKiYDH8daLvLX/fc/znDxAREd2M4a8Tvd3Xv03ghD+2/ImIqHMMf53wb633teXP8Ccioq4w/HWi77P9fcdc6kdERF1h+OtEX1v+nPBHRETBYvjrRF9b/v7P4WV9iYioKwx/nQjlbH92+xMRUVcY/jrR93X+vmN2+xMRUVcY/joR2pY/w5+IiDrH8NeJvo75R0X5jhsaBHh4UT8iIuoEw18n+jrb32gMfB53+SMios4w/HWirzv8AYHL/Tjjn4iIOsPw1wFRBFwuX1hHRvbudXhlPyIiCgbDXwdcLt9xVJQEQy9/K4Eb/fSxUERENGAx/HUgcKZ/71+Hy/2IiCgYDH8d8J+cFxnZ88l+bfyX+3HMn4iIOsPw14FQTPYDeHEfIiIKDsNfB/q6wU8bbvRDRETBYPjrQOCEv96/Dmf7ExFRMBj+OhCqlj8v60tERMFg+OtA4O5+vX+dwMv69v51iIhoYGP46wBb/kREpCaGvw6EarY/l/oREVEwGP460NeL+rThUj8iIgoGw18HQrfDH7v9iYioewx/HQhVyz9wwh/Dn4iIOsbw14HQ7fDHlj8REXWP4a8Doer2D9zkB5B634lAREQDGMNfB0LV7W82AyaT/Hy3W0BTU19LRkREAxHDXwdcrtC0/AFe1peIiLrH8NeBULX8gZvX+vfppYiIaIBi+OtAqCb8AWz5ExFR94IK/6eeegqFhYU9fvH8/HzMnTsXs2bNwt69ezs9b8OGDThw4ID39rVr17Bs2TLMnj0bTz75JBq+bRrX1tZi1apVmDNnDpYtWwan09njMulRqLb3BXhZXyIi6l5Q4f/II4/g9ddfR3JyMt5++23U1NR0+5yysjJkZ2dj3759yM3Nxbvvvouvvvqq3Tlr1qzBoUOHAu5/8cUXsXTpUhQUFODee+/F66+/DgDIyclBYmIiPvjgAyxatAgvvfRSkD+mfklSYLd/ZGTfXs+/5c9ufyIi6khQ4f+jH/0I77zzDl5//XVUVlZi4cKFWL9+Pc6cOdPpcwoLC5GUlASbzQaLxYLk5GQUFBQEnJOfn4+ZM2dizpw53vtaW1tx8uRJJCcnAwAWLFjgfd7Ro0eRkpICAJg/fz4++eQTtLa29uwn1pmWFnlmPiDP1Deb+/Z6XOtPRETdCXrMXxRFfPPNN7h06RI8Hg9iY2Pxwgsv4Ne//nWH55eXl8Nut3tvOxwOlJWVBZyzcuVKLFq0KOC+6upqxMTEwGQyAQDsdrv3ef6vaTKZEBMTg6qqqmB/BF0K1eV82/h3+9fWMvyJiKg9UzAnZWdn48CBAxg1ahSWLl2KV155BWazGS6XCw8++CDWrl3b7jmiKEIQfOEjSVLA7c50dF5nz5MkCQZD8HMWY2Njgj5XLS6X79hiEWCz+frt/Y+DNXSo71gUo2C3h+AbRRiy261aFyGssf61w7rXjpp1H1T4V1VVYffu3UhISAi432KxYOfOnR0+Jz4+HqdOnfLedjqdcDgc3b7XsGHDUFdXB4/HA6PRGPA8h8OBiooKxMfHw+12o6GhATabLZgfAQBQWVkPUdTXtneXLxsADAIARESIqKmRd+ax2SyoqXF18cyOGY0mABEAgNLSZjidLaEqatiw261wOnlZRK2w/rXDuteOEnVvMAidNnqDajZ7PJ52wd/W2p82bVqHz5k6dSqKiopQVVWFxsZGHD58GNOnT+/2vcxmMxITE3Hw4EEAQG5urvd5M2bMQG5uLgDg4MGDSExMhLmvg+QaC+Uaf4BL/YiIqHtdtvyff/55lJWV4fTp0wFj6263G1euXOnyhePi4pCRkYG0tDS0trZi4cKFGD9+PNLT07F27VqMGzeuy/fNzMzErl27MGLECLz88ssAgHXr1iEzMxPz5s2D1WpFVlZWT35WXQrVvv5tOOGPiIi602X4L1y4EOfPn8eXX37pnX0PAEajERMnTuz2xVNSUryz89vs3r273Xnbtm0LuD1y5Ej893//d7vzbDYb3njjjW7ftz8J3OCn7y3/QYN8x5zwR0REHeky/MeNG4dx48bhgQceQFxcnFplCiuhnu3v3/Kvre376xER0cDTZfivW7cOr7zyClauXNnh4/n5+YoUKpyw25+IiNTWZfinp6cDAH7xi1+oUphwFOoJf+z2JyKi7nQ52//ee+8FAEyePBkjRozA5MmT4XK5cPLkSdx1112qFHCgC3XLn5v8EBFRd4Ja6rdp0ybs3r0bFy5cwHPPPYerV69i48aNSpctLIR6wt/Ne/uLYp9fkoiIBpigwv/s2bN44YUXcOTIETz22GPYunUrSkpKlC5bWAj1hD+j0Td8IElCwOsTEREBQYZ/2za6f/3rX5GUlAQAaGpqUrRg4SKUl/NtEzjjn13/REQUKKjw/853voP09HRcvXoVkydPxtNPP42xY8cqXbawEOqWPxDY9c/wJyKimwW1t//WrVtx5MgR/OAHP/Buv/voo48qXLTw4HKFdswfYMufiIi6FlTL32KxIDExEbW1tfjHP/6B8ePH4+uvv1a6bGEh1LP9gcDlfnW8RgcREd0kqJb/K6+8gt/85jeIjY313icIAj766CPFChYuQr3OH2DLn4iIuhZU+Ofl5eHw4cPc4lcBSrT8OeZPRERdCarbf8SIEQx+hbhcvmO2/ImISA1Btfzvv/9+7NixAzNnzkSUX/P0nnvuUaxg4UKZlr8v/OvrQ/OaREQ0cAQV/gcOHAAAFBQUeO/jmH/fud1AY6Mc/oIgISIiNK/Lbn8iIupKUOH/8ccfK12OsHTzGn9DUIMw3WO3PxERdSWouGloaMDmzZuxfPly1NTUYNOmTWjgvrF9Fup9/dsELvVj+BMRUaCgwn/Lli2wWq2orKxEZGQk6uvrsWnTJqXLNuDV14d+vB+4ueUfutclIqKBIajwP3fuHDIyMmAymRAdHY2srCycO3dO6bINeP6T8ULZ8me3PxERdSWo8DfcNBjt8Xja3Uc9F9jtH7rX9Z/wx25/IiK6WVAT/iZNmoRf/epXaGpqwrFjx/DOO+9gypQpSpdtwPPv9g/tmD9b/kRE1Lmgmu/PPPMMLBYLrFYrcnJykJCQgA0bNihdtgHPv9s/lGP+/r0IdXWAFLrvFURENAB02/I/cuQI3n77bXz55ZeIiorC2LFjcd999yEyMlKN8g1oSrX8zWYgIkJCS4sAj0eAyxW4AoCIiMJbl+H/wQcfIDs7G2vXrkVCQgIEQUBxcTFeeuklNDc3Y9asWWqVc0DyXy0ZyjF/QB73b2mRj+vqhIChACIiCm9dhv+ePXvwu9/9Drfccov3vu9+97uYMGECNm7cyPDvI6WW+gHyjP+aGvn1a2sFxMcz/ImISNblmH9DQ0NA8Le5/fbb0dzcrFihwoVSm/wAXOtPRESd6zL8jUZjp49JnEXWZ0qt8wcCx/g545+IiPxxsb6GlFrnDwS2/LnWn4iI/HU55v/ll1/ivvvua3e/JEloaZtNRr2m7Ji/75gtfyIi8tdl+B85ckStcoQlJbv9OeZPRESd6TL8R44cqVY5wpKSE/5iYnyvd+MGW/5EROTDMX8NKdntHxPjO25b8kdERAQw/DUV2O0f2tf239SHLX8iIvLH8NeQWt3+bPkTEZE/hr9GPB7A5fKFcqgvleC/zp/hT0RE/oK6pG9v5efnY9euXXC73Vi+fDmWLVsW8Pi5c+fw7LPPoqGhAYmJiXjxxRdx48YNrFixwntOXV0dqqur8fe//x0nTpzAU089hfj4eADA3Xffja1btyr5IyjG5fIdR0VJMIT4a5jVypY/ERF1TLHwLysrQ3Z2Ng4cOICIiAgsXrwYU6ZMwZgxY7znrF+/Hlu2bMHEiROxceNGvPfee1i6dCny8vIAAKIoYvny5cjIyAAAnD17FitWrMDq1auVKrZqAq/oF/rXDxzzD/3rExFR/6VYt39hYSGSkpJgs9lgsViQnJyMgoIC7+MlJSVoamrCxIkTAQALFiwIeBwA9u/fj+joaKSkpAAAiouLcfz4caSkpGDNmjUoLS1VqviK87+iX1RU6LdK9p/tf+OGAO7GTEREbRQL//Lyctjtdu9th8OBsrKyTh+32+0Bj3s8Hrzxxht4+umnvfdZrVY88cQTyM/Px4wZM7w9Av2R0i1/k8n3pcLjEQJWFhARUXhTrNtfFEUIgi/gJEkKuN3d48eOHcNtt92GsWPHeu/bvHmz93jJkiXYuXMn6urqYLVagypTbGxM9yepxORX8zExBthslnbndHRfT1itQFOTfGw0WuH3XYu6YbcH9zdFymD9a4d1rx01616x8I+Pj8epU6e8t51OJxwOR8DjTqfTe7uioiLg8Q8//BBz58713hZFEW+++SZWrVoVcLXBrq48eLPKynqIoj76v69eNQKQw91s9qCmJvASyTabBTU1rg6eGTyLJQptnTsXLjTAYhH79Hrhwm63wums07oYYYv1rx3WvXaUqHuDQei00atYt//UqVNRVFSEqqoqNDY24vDhw5g+fbr38ZEjRyIyMhKnT58GAOTl5QU8/umnnyIxMdFXUIMBR44cwaFDhwAAubm5mDBhAiyWvrWOtaLkGv82XOtPREQdUSz84+LikJGRgbS0NDz66KOYP38+xo8fj/T0dBQXFwMAsrKysHXrVsyePRsulwtpaWne51+5csW7pK/N9u3bsWfPHsybNw/79+/Hli1blCq+4pTc2rcNw5+IiDqi6Dr/lJQU70z9Nrt37/YeJyQk4I9//GOHz/3ss8/a3XfnnXfif/7nf0JbSI0oeUW/Nv4b/XCLXyIiasMd/jQS2O2vzHsEtvyVeQ8iIup/GP4aCez255g/ERGph+GvEf9NfpRq+XN/fyIi6gjDXyOBm/wo0/L339+fY/5ERNSG4a8RNcb8/ff3Z8ufiIjaMPw14j/bX7kxf98xW/5ERNSG4a8Rpff2BwJb/tXVDH8iIpIx/DWi9g5/bPkTEVEbhr9GArv9lXmPwE1+AJFb+xMRERj+mlFjtr/J5HttSRJQx+t1EBERGP6aEEXA5XfBPqVa/gA3+iEiovYY/hpwueSWOABERkrowVWJe4wb/RAR0c0Y/hqorfWFsMWiTJd/G7b8iYjoZgx/DQSGv7Lv5b/cjzP+iYgIYPhrorbWd+wfzkrw3+iHLX8iIgIY/pqoq1N+g5827PYnIqKbMfw14B/+So/5+1/cp6qK4U9ERAx/TfiP+fvPxlfCkCG+8K+oYPgTERHDXxP+Y/5Kt/wHD/YdV1Yy/ImIiOGvCTW7/QcP9r0+w5+IiACGvybUXOrn3+3P8CciIoDhrwk1N/lh+BMR0c0Y/hrwv8CO0i3/6GjAZJK/ALhcQsA1BYiIKDwx/DXgP+av9CY/gsDWPxERBWL4a0DNMX8gcMY/l/sRERHDXwNqjvkDnPFPRESBGP4aCBzzVz78udEPERH5Y/irTJJuXuev/HtyzJ+IiPwx/FXW1AS0tsoBbDJJiIhQ/j3Z7U9ERP4Y/ipTe7IfcHP481dORBTumAQq8x/vV3qZX5shQ3zHbPkTERHDX2Vqz/QHAlv+nPBHREQMf5Vp0e3P2f5EROSP4a8yNa/o14az/YmIyB/DX2Vq7uvv/z5t+/s3NAhoalLnfYmISJ8Y/irTYsxfEACrla1/IiKSKRr++fn5mDt3LmbNmoW9e/e2e/zcuXNYsGABkpOT8eyzz8LtdgMA3n//fUybNg2pqalITU1FdnY2AKC2tharVq3CnDlzsGzZMjidTiWLrwgtxvwBzvgnIiIfxcK/rKwM2dnZ2LdvH3Jzc/Huu+/iq6++Cjhn/fr12LRpEw4dOgRJkvDee+8BAM6ePYvMzEzk5eUhLy8PGRkZAICcnBwkJibigw8+wKJFi/DSSy8pVXzFqHlFP3+c8U9ERG0UC//CwkIkJSXBZrPBYrEgOTkZBQUF3sdLSkrQ1NSEiRMnAgAWLFjgfby4uBjvv/8+UlJS8Mwzz+DGjRsAgKNHjyIlJQUAMH/+fHzyySdobW1V6kdQhNr7+rfhjH8iImpjUuqFy8vLYbfbvbcdDgfOnDnT6eN2ux1lZWXe4xUrVuC+++7Dyy+/jM2bN2Pnzp0BzzGZTIiJiUFVVRXi4uKCKlNsbEwofrQ+aW72HQ8fHgmbrfNzbbbQjQv4VTWam6MDblN7drtV6yKENda/dlj32lGz7hULf1EUIQi+FqYkSQG3u3r8tdde896/cuVKPPLIIx2+hyRJMBiC77yorKyHKKrX2u6I0xkNX7U3oaZG7PA8m82CmhpXyN43KsoEQL6QwKVLzXA6W0L22gON3W6F01nX/YmkCNa/dlj32lGi7g0GodNGr2Ld/vHx8QET8pxOJxwOR6ePV1RUwOFwoK6uDr/73e+890uSBKPRCEDuPaioqAAAuN1uNDQ0wNZV01mH1L6iX5uhQ31fekpLuciDiCicKZYCU6dORVFREaqqqtDY2IjDhw9j+vTp3sdHjhyJyMhInD59GgCQl5eH6dOnw2Kx4K233sJnn30GAHjnnXe8Lf8ZM2YgNzcXAHDw4EEkJibCbDYr9SMoQoulfgAwfLjvva5f55g/EVE4U6zbPy4uDhkZGUhLS0NraysWLlyI8ePHIz09HWvXrsW4ceOQlZWF5557DvX19bjnnnuQlpYGo9GInJwcvPDCC2hqasJtt92GHTt2AADWrVuHzMxMzJs3D1arFVlZWUoVXzGBF/ZR732HDfOF/7VrbPkTEYUzQZIkbQfBVaSHMf/Ro2PQ2Ci3vH//exeiojo+L9Rj/g0NwOOPy+MMFouEixfrIbADoEMc99QW6187rHvtDJgxf2qvtRXe4DcYJERGqvfeFgsQFSV/8XG5BHy7epKIiMIQw19FN24ETvZTs+UtCEBsLCf9ERERw19V1dW+tPffa18t/uP+paXs8yciClcMfxVVV/uOtQh/tvyJiAhg+KsqsOWv/vv7h/+1a2z5ExGFK4a/ivzDPyZG25Y/1/oTEYUvhr+Kqqr0M+bPtf5EROGLCaCimhptwz9wzJ8tfyKicMXwV5F/yz9GgwsMxsb6LiLECX9EROGLCaAirZf6DRkCGI2StyyNjaoXgYiIdIDhryKtu/0NBq71JyIihr+qtJ7wBwSG//Xr/PUTEYUjfvqrSOt1/gDX+hMREcNfVVqP+QPc5Y+IiBj+qmls9F3Rz2iUOr2Ur9L8w7+khC1/IqJwxPBXSeBkP3Wv6OcvLs4X/hcv8tdPRBSO+OmvEj1M9gOAW27xrfW/cIG/fiKicMRPf5XoYbwfAOLjJQiC/P5XrwpoadGsKEREpBGGv0q0vqhPm4gIYPhw+f1FUcA33/BPgIgo3PCTXyV6WObXZsQI35ePr7/mpD8ionDD8FeJXrr9gcBx/6+/5p8AEVG44Se/SvTS7Q8Etvw56Y+IKPzwk18lemr5jxjha/lzuR8RUfjhJ79Kqqt9x1qP+d9yi/+YP/8EiIjCDT/5VaKXdf4A4HBIMBjkMpSUGHhpXyKiMMPwV4nWl/P1ZzbLXwDasOufiCi88FNfJYEtfw0L8q3A5X78MyAiCif81FeBJAW2/LWe7Q9wuR8RUTjjp74K6uoAt1sO/8hICRERGhcIgZP+zp/nnwERUTjhp74KKip8rf7Bg7Vv9QPA6NG+lv+ZM/wzICIKJ/zUV0F5ua+ahw7VR/jfcYfovcDPl18a4HJpXCAiIlINw18F16/7Wv56Cf/oaGDkSN8Ffs6e5Z8CEVG44Ce+CsrK9Bf+ADBmjH/Xv1HDkhARkZoY/iq4ft1XzcOG6Sf877jDF/6ffsrwJyIKFwx/FfSHlv9nn/FPgYgoXCj6iZ+fn4+5c+di1qxZ2Lt3b7vHz507hwULFiA5ORnPPvss3G43AOD06dNYuHAhUlNTsXz5cpSUlAAATpw4gSlTpiA1NRWpqan4+c9/rmTxQ8Y//PXU8r/9dtG7ze/58wbU12tcICIiUoVi4V9WVobs7Gzs27cPubm5ePfdd/HVV18FnLN+/Xps2rQJhw4dgiRJeO+997z3b9myBXl5eUhJScGWLVsAAGfPnsWKFSuQl5eHvLw8bN26Vanih5ReW/5RUTdP+mPXPxFROFAs/AsLC5GUlASbzQaLxYLk5GQUFBR4Hy8pKUFTUxMmTpwIAFiwYAEKCgrQ0tKCdevWISEhAQAwduxYlJaWAgCKi4tx/PhxpKSkYM2aNd779U6vY/4Au/6JiMKRYp/25eXlsNvt3tsOhwNlZWWdPm6321FWVoaIiAikpqYCAERRxKuvvoqHH34YAGC1WvHEE08gPz8fM2bMQEZGhlLFD5nGRqC2Vm75G42SLvb19+cf/qdOseVPRBQOTEq9sCiKEARfd7ckSQG3u3u8paUFmZmZcLvdWL16NQBg8+bN3seXLFmCnTt3oq6uDtYgEzU2NqbXP09vff21//sLGDbMEvRzbbbgz+2tyZOB3bvl42PHzBg2zAwjvwPAbtfZt7Qww/rXDuteO2rWvWLhHx8fj1OnTnlvO51OOByOgMedTqf3dkVFhffxhoYGPPnkk7DZbNi1axfMZjNEUcSbb76JVatWweiXTsYeJFVlZT1EUd1u93/8wwhADvEhQzyoqWkO6nk2mwU1NcpvuxcbCwwdGoXqagOqqoDDhxuQmCh2/8QBzG63wums07oYYYv1rx3WvXaUqHuDQei00atYt//UqVNRVFSEqqoqNDY24vDhw5g+fbr38ZEjRyIyMhKnT58GAOTl5XkfX79+PUaPHo2cnBxEfHsVHIPBgCNHjuDQoUMAgNzcXEyYMAEWi/Kt474oL9fnTP82ggB8//u+sP/4Y8W+DxIRkU4oFv5xcXHIyMhAWloaHn30UcyfPx/jx49Heno6iouLAQBZWVnYunUrZs+eDZfLhbS0NHz++ef46KOP8Le//Q2PPfYYUlNTkZ6eDgDYvn079uzZg3nz5mH//v3eVQB6psetfW92330e7zHDn4ho4BMkSdJnIilAi27///iPCPznf0YCAJYubcGiRe6gnqdWtz8A1NcDy5dHQxQFCIKEzz9vQGxs2PxZtMOuT22x/rXDutfOgOn2J5n/Mj+9tvxjYoDvfU/u+pckAX/5C2f8ERENZAx/hel1g5+bff/7vq7/Q4fY9U9ENJAx/BWm1619bzZpki/8P/jAhBs3NCwMEREpiuGvsLIy/Xf7A8Dtt0veq/w1NQnYv9+scYmIiEgpDH8FNTYCNTW+3f0GD9a4QN2YOdM3GXHfPoY/EdFAxfBXkH+Xv80mwaDz2p4+3Q2zWe6dOHPGiOJinReYiIh6hZ/uCrp40Ve9cXH67fJvExMD3H+/b+x/zx62/omIBiKGv4K+/tpXvSNG6D/8AeCRR3xd/7//vRnXrgldnE1ERP0Rw19BgeHfP/bLv+ceEd/7ntz6b2kRkJMToXGJiIgo1Bj+CvIP/1tu6R8tf0EAlixp9d7eu9eMK1fY+iciGkgY/goKDP/+0fIHgAkTRNx1l9z6b20VsGNHpMYlIiKiUGL4K6S1Fbh82ddijo/vHy1/oH3r/913zSgs5Ja/REQDBcNfIZcvC/B45PCPjRUR2c8az+PGiUhK8k3+W78+Es3NGhaIiIhChuGvkP443n+zlStbER0tl/38eSNeeYWT/4iIBgKGv0IuXOh/M/1vFhsrYdkyX/d/dnYETpzgnwwRUX/HT3KFDISWPwDMnu32Tv7zeASsWRONmhpty0RERH3D8FdIf9zgpyNGI5CR0YKYGPlnuHrVgLVroyD2z84MIiICw18x/XWZX0fsdgk/+1mL93ZBgRnbtnH8n4iov2L4K6CpCSgpkWf6GwxSv9jXvztJSR786Ee+8f+cnEj88Y8mDUtERES9xfBXwFdfGSBJcvjb7RLMA+T6OGlprfj+930X/lm7NgoffcT1/0RE/Q3DXwGnT/sC8fbb+3eXvz+jEXj66WaMGiX/TG63gBUrolFUxC8ARET9CcNfASdO+MIwIWHghD8ADBoEbNrUDLtd/rkaGwUsWRKNjz/mFwAiov6C4a+AkycHbvgDwPDhEl58sRlDh8pzGVwuAU88EY39+zkHgIioP2D4h1h5uYBLl+RqNZsl3HHHwAt/QF6++B//0eTtAWhtFfDkk9HYtCkSbnc3TyYiIk0x/EPMv9U/Zow4YCb7dWTkSAm//GUzbr3V9wXnjTcikJJiwT//yT8tIiK94id0iA3k8f6ODB8uYdu2Jkya5Gvunz5txEMPWbBtWwTq6jQsHBERdYjhH2IDfby/I4MGAZmZLXj88RaYTPI8gJYWAS+/HInJkwfh17+OQHW1xoUkIiIvhn8INTUBZ874qjQhwdPF2QOLwQD8+MduZGU1YcwY389dWWnAli2R+P73Y/Bv/xaJwkIjtwYmItIYp2eH0F//akRLi7y5zy23iBg8WOMCaWD0aAnbtjXj2DEj9u0zw+mUvwy5XAL27YvAvn0RcDhEPPKIGzNmeDBliifoax+IIlBWJuDKFQFXrxpQXi6gqkpAXZ2Alhb58chIYNAgCbGxEhwOCaNGSbjtNhEOhwRBUPInJyLqPxj+IfT73/tm9yUmhk+r/2ZGI/DDH3rwwAMefPKJEX/+s9m7AgIAyssN2Ls3Anv3yrftdhF33ili5Eg5tKOjJUgS0NAgoLpaQFmZgJISA0pKBDQ39y7Bhw6VkJDgwfjxIiZO9OAHP/Bg9Gh+ISCi8MTwD5HKSgEffOCrzpkzud7NbAZmzvTgoYc8+PJLA/7yFyMKC02orQ1MXKfT4O0hUEp1tYCiIhOKinz32e0iJk3yYPJk+b9x40RERipaDCIiXWD4h8j+/Sa0tsqh9r3vefCd7/T/i/mEiiDIkx8TEkSsXNmK8+cN+NvfjDh3zoB//tPgHSoJhtUqweEQYbfLvQSDB0uIjgYiI+X6drsFNDQAdXUCKioElJUZcO2agKam9u/hdBpw8KABBw/KPTYRERLuvlvE5MnAqFFmjBkjYsQIefhg8GAJEbyQIRENEAz/EJAkYO9eX5c/W/2dMxp9XwQAwOORN0YqKRFQUyOP37vdcp1GRsphP2SIhOHDJdjtEiyWnr+nKAIVFQIuXjTgwgUDzp+Xv3S4XIFfCFpaBHz6qRGffgoAUe1ex2SSYDLJkxulb7/bGQxARAQQEyOXc8QICd/5jogxY0Tcc4+Ie+/1ICam52UmIlISwz8EPvrIiHPn5CV+ERESpk0L3/H+njIa5d0Cg5301xsGA+BwSHA45AmGgPyF4MoVAV98YcQXXxjw5ZcGlJZ2PfTgdgsd7l7Y0CAPK1y5Apw9G/iYIEhISAgcXuBcAyLSGsO/j6qqgH/7N18rcfp0T69ap6Qug0FemTB6tBvJyfJ9dXXA118bUFYWha++cqO0VJ5wWFMjoLEREMWeJ7YkCTh3Tv5yuGePfN/w4SImTpR7Be66S8R3vyti9Gh5dQi/FBCRGhQN//z8fOzatQtutxvLly/HsmXLAh4/d+4cnn32WTQ0NCAxMREvvvgiTCYTrl27hvXr16OyshK33347srKyMGjQINTW1uKZZ57BlStXMGzYMOTk5MButyv5I3RJFIENG6JQXi63GG02CU880aJZeahvrFZgwgQRNhtQUxP4e5QkwO2Wf+ei6AtpUZTvb2gQUF8vzzO4fl3A5csGXLpkwOXLQrsvDRUVBnz4oQEffhj4z2/QIAkjRogYPlzC0KESbDZg8GAJgwZJGDQIiIqSYDbLEykNBnlFhCgKaG2Vy9DS4uud8HjkLzgmExAdLSEmRl7xMHy4iFtukRAfLw9hEFF4EiRJUqS/taysDEuWLMGBAwcQERGBxYsX4+WXX8aYMWO858yfPx9btmzBxIkTsXHjRtx7771YunQpVq9ejR/96EeYN28eXnvtNbhcLqxfvx6bN29GfHw8Vq1ahdzcXBw9ehQ5OTlBl6mysh6iGJoft7oaWLs2GocO+T5BN25swqRJodnBxmazoKbGFZLXop4JZd03NgLnzxvwxRcGfPGFEf/8pwENDdo37w0GCbfeKuH22+X5CWPGyMst77xTRHy8tsMSdrsVTif3hdYC6147StS9wSAgNrbjSUeKffcvLCxEUlISbDYbACA5ORkFBQX413/9VwBASUkJmpqaMHHiRADAggUL8Otf/xqLFi3CyZMn8dprr3nvf/zxx7F+/XocPXoUe79dHD5//nxs3rwZra2tMKt89ZyaGiA5eVDA2vVZs1pDFvw0cERHA+PHixg/XgTghigC167Jkw8vXjTg6lUB164Z4HQKPVr10FeiKODyZbmH4i9/CXzMYpGvRnnbbSJGj5Zw661yb0HbKothw+SeCKW/IIiiPJ+ivl7w/t/lko+bmgQ0NeHbXg+5IIIgT8o0m4GoKLnHY9AgfNtzIh/HxMiTRjm8Qm1aWuBdIST34Mmbkrlc8t9Yc7P8NyaKcg+gyQQYjRKiouRJyRaLBItF7l2LiZG+/Q+6v6ibYuFfXl4e0CXvcDhw5syZTh+32+0oKytDdXU1YmJiYPq2T7Lt/pufYzKZEBMTg6qqKsTFxQVVJoMhNP/iP/vMBEkyYPRo330mkwG/+U3oFombTIDbzUXnWlCz7uPjgfh4CZIkweUCamsF1Nb2fjOj0BBQV2dEcbERxcValcGq1RsT615DVqxe3Yyf/rQ1JEuLu8o8xcJfFEUIfl+vJUkKuN3Z4zefB6Ddbf/nGAzBbw4zdOigoM/tysKF8n+BjB2d2kdKvCYFh3VPRFqI/PY/ZSm2rVp8fDycTqf3ttPphMPh6PTxiooKOBwODBs2DHV1dfB4PO2e53A4UFFRAQBwu91oaGjwDisQERFRcBQL/6lTp6KoqAhVVVVobGzE4cOHMX36dO/jI0eORGRkJE6fPg0AyMvLw/Tp02E2m5GYmIiDBw8CAHJzc73PmzFjBnJzcwEABw8eRGJiourj/URERP2dYrP9AXmp35tvvonW1lYsXLgQ6enpSE9Px9q1azFu3Dh88cUXeO6551BfX4977rkHW7duRUREBEpKSpCZmYnKykqMGDECL7/8MoYMGYKamhpkZmbiypUrsFqtyMrKwq233qpU8YmIiAYkRcOfiIiI9EfZS6kRERGR7jD8iYiIwgzDn4iIKMww/ImIiMIMw5+IiCjMMPx1Jj8/H3PnzsWsWbO81zEg5bz66quYN28e5s2bhx07dgCQr0uRkpKCWbNmITs7W+MShoft27cjMzMTAOtfLR9//DEWLFiAOXPmYMuWLQBY92rKy8vzfvZs374dgMr1L5FuXL9+XXrwwQel6upqqaGhQUpJSZHOnz+vdbEGrL/+9a/ST37yE6m5uVlqaWmR0tLSpPz8fGnGjBnS5cuXpdbWVmnFihXS0aNHtS7qgFZYWChNmTJF+vd//3epsbGR9a+Cy5cvS9OmTZNKS0ullpYWacmSJdLRo0dZ9ypxuVzSpEmTpMrKSqm1tVVauHCh9NFHH6la/2z564j/lRAtFov3SoikDLvdjszMTERERMBsNuO73/0uLl26hNGjR2PUqFEwmUxISUnh70BBNTU1yM7Oxpo1awAAZ86cYf2r4MiRI5g7dy7i4+NhNpuRnZ2N6Oho1r1KPB4PRFFEY2Mj3G433G43YmJiVK1/xS7sQz3X3ZUQKbTuvPNO7/GlS5fwwQcf4PHHH2/3O2i7qiSF3qZNm5CRkYHS0lIAHf8bYP2H3jfffAOz2Yw1a9agtLQUP/zhD3HnnXey7lUSExODdevWYc6cOYiOjsakSZNU/9tny19HursSIinj/PnzWLFiBTZs2IBRo0bxd6CSP/zhDxgxYgTuv/9+7338N6AOj8eDoqIi/PKXv8S7776LM2fO4MqVK6x7lXzxxRfYv38//vd//xfHjh2DwWDApUuXVK1/tvx1JD4+HqdOnfLevvlKiBR6p0+fxtq1a7Fx40bMmzcPJ06c6PJqlBQ6Bw8ehNPpRGpqKm7cuAGXy4WSkhIYjb7LKbP+lTF8+HDcf//9GDZsGADg4YcfRkFBAeteJcePH8f999+P2NhYAMCCBQvw9ttvq1r/bPnrSHdXQqTQKi0txc9+9jNkZWVh3rx5AIAJEybg4sWL+Oabb+DxePDnP/+ZvwOF/Pa3v8Wf//xn5OXlYe3atXjooYfw1ltvsf5V8OCDD+L48eOora2Fx+PBsWPHMHv2bNa9ShISElBYWAiXywVJkvDxxx+r/tnDlr+OxMXFISMjA2lpad4rIY4fP17rYg1Yb7/9Npqbm7Ft2zbvfYsXL8a2bdvw1FNPobm5GTNmzMDs2bM1LGV4iYyMZP2rYMKECVi5ciWWLl2K1tZWPPDAA1iyZAnuuOMO1r0Kpk2bhs8//xwLFiyA2WzGuHHj8NRTT+GBBx5Qrf55VT8iIqIww25/IiKiMMPwJyIiCjMMfyIiojDD8CciIgozDH8iIqIww6V+RNRnW7ZswcmTJwEAFy5cwMiRIxEVFQVA3qzEarUiKioKoihCFEWkpaXhJz/5iZZFJgprXOpHRCH10EMP4ZVXXsG4ceM6vF1aWork5GQcOnQII0aM0LKoRGGL3f5EpKobN24gOjoaFotF66IQhS12+xOR4p555hlERUWhubkZ33zzDVatWoUhQ4ZoXSyisMXwJyLFZWVlebv9r1y5gp/+9Ke48847MX/+fI1LRhSe2O1PRKoaNWoUHnroIe8EQSJSH8OfiFTlcrlw8uRJXrSKSEPs9icixbWN+QuCgMbGRsyZMwc//vGPtS4WUdjiUj8iIqIww25/IiKiMMPwJyIiCjMMfyIiojDD8CciIgozDH8iIqIww/AnIiIKMwx/IiKiMMPwJyIiCjP/H3l0OvFnVw4EAAAAAElFTkSuQmCC\n",
      "text/plain": [
       "<Figure size 576x432 with 1 Axes>"
      ]
     },
     "metadata": {},
     "output_type": "display_data"
    }
   ],
   "source": [
    "fig, ax = plt.subplots(figsize=(8, 6))\n",
    "sns.distplot(df['TB'], hist = False, kde = True, color=\"blue\",\n",
    "                 kde_kws = {'shade': True, 'linewidth': 3}, ax = ax);"
   ]
  },
  {
   "cell_type": "code",
   "execution_count": 294,
   "id": "af65a38a",
   "metadata": {},
   "outputs": [
    {
     "data": {
      "text/plain": [
       "Index(['Age', 'Gender', 'TB', 'DB', 'Alk', 'sgpt', 'sgot', 'TP', 'ALB', 'AG',\n",
       "       'label'],\n",
       "      dtype='object')"
      ]
     },
     "execution_count": 294,
     "metadata": {},
     "output_type": "execute_result"
    }
   ],
   "source": [
    "df.columns"
   ]
  },
  {
   "cell_type": "code",
   "execution_count": 305,
   "id": "05eaf7b6",
   "metadata": {},
   "outputs": [],
   "source": [
    "### Boxplots - To study the distribution of TP, ALB, AG"
   ]
  },
  {
   "cell_type": "code",
   "execution_count": 296,
   "id": "6c02c38e",
   "metadata": {},
   "outputs": [
    {
     "data": {
      "text/plain": [
       "<AxesSubplot:>"
      ]
     },
     "execution_count": 296,
     "metadata": {},
     "output_type": "execute_result"
    },
    {
     "data": {
      "image/png": "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\n",
      "text/plain": [
       "<Figure size 1440x720 with 1 Axes>"
      ]
     },
     "metadata": {},
     "output_type": "display_data"
    }
   ],
   "source": [
    "fig, ax = plt.subplots(figsize=(20, 10))\n",
    "sns.boxplot(data = df[['TP', 'ALB', 'AG']], ax = ax)"
   ]
  },
  {
   "cell_type": "code",
   "execution_count": 303,
   "id": "11be653f",
   "metadata": {},
   "outputs": [
    {
     "data": {
      "image/png": "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\n",
      "text/plain": [
       "<Figure size 1080x1440 with 11 Axes>"
      ]
     },
     "metadata": {},
     "output_type": "display_data"
    }
   ],
   "source": [
    "cols = 3\n",
    "rows = 4\n",
    "num_cols = df.select_dtypes(exclude='object').columns\n",
    "fig = plt.figure( figsize=(cols*5, rows*5))\n",
    "for i, col in enumerate(num_cols):\n",
    "    \n",
    "    ax = fig.add_subplot(rows,cols,i+1)\n",
    "    \n",
    "    sns.histplot(x = df[col], ax = ax)\n",
    "    \n",
    "fig.tight_layout()  \n",
    "plt.show()"
   ]
  },
  {
   "cell_type": "code",
   "execution_count": 315,
   "id": "214bc5c8",
   "metadata": {},
   "outputs": [
    {
     "data": {
      "image/png": "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\n",
      "text/plain": [
       "<Figure size 405.725x360 with 1 Axes>"
      ]
     },
     "metadata": {},
     "output_type": "display_data"
    }
   ],
   "source": [
    "sns.set()\n",
    "\n",
    "g = sns.lmplot(x=\"DB\", y=\"TB\", hue=\"label\",\n",
    "               height=5, data=df,  palette=\"Set1\")\n",
    "\n",
    "g.set_axis_labels(\"Direct_Bilirubin\", \"Total_Bilirubin\");"
   ]
  },
  {
   "cell_type": "code",
   "execution_count": null,
   "id": "78265ddd",
   "metadata": {},
   "outputs": [],
   "source": []
  },
  {
   "cell_type": "code",
   "execution_count": null,
   "id": "aaaa3581",
   "metadata": {},
   "outputs": [],
   "source": []
  },
  {
   "cell_type": "code",
   "execution_count": 164,
   "id": "161e85ba",
   "metadata": {},
   "outputs": [
    {
     "data": {
      "text/plain": [
       "(578, 11)"
      ]
     },
     "execution_count": 164,
     "metadata": {},
     "output_type": "execute_result"
    }
   ],
   "source": [
    "df.shape"
   ]
  },
  {
   "cell_type": "code",
   "execution_count": 165,
   "id": "1f966c4d",
   "metadata": {},
   "outputs": [],
   "source": [
    "X = df.iloc[:,:10]"
   ]
  },
  {
   "cell_type": "code",
   "execution_count": 166,
   "id": "59d91a83",
   "metadata": {},
   "outputs": [
    {
     "data": {
      "text/html": [
       "<div>\n",
       "<style scoped>\n",
       "    .dataframe tbody tr th:only-of-type {\n",
       "        vertical-align: middle;\n",
       "    }\n",
       "\n",
       "    .dataframe tbody tr th {\n",
       "        vertical-align: top;\n",
       "    }\n",
       "\n",
       "    .dataframe thead th {\n",
       "        text-align: right;\n",
       "    }\n",
       "</style>\n",
       "<table border=\"1\" class=\"dataframe\">\n",
       "  <thead>\n",
       "    <tr style=\"text-align: right;\">\n",
       "      <th></th>\n",
       "      <th>Age</th>\n",
       "      <th>Gender</th>\n",
       "      <th>TB</th>\n",
       "      <th>DB</th>\n",
       "      <th>Alk</th>\n",
       "      <th>sgpt</th>\n",
       "      <th>sgot</th>\n",
       "      <th>TP</th>\n",
       "      <th>ALB</th>\n",
       "      <th>AG</th>\n",
       "    </tr>\n",
       "  </thead>\n",
       "  <tbody>\n",
       "    <tr>\n",
       "      <th>0</th>\n",
       "      <td>62</td>\n",
       "      <td>1</td>\n",
       "      <td>10.9</td>\n",
       "      <td>5.5</td>\n",
       "      <td>699</td>\n",
       "      <td>64</td>\n",
       "      <td>100</td>\n",
       "      <td>7.5</td>\n",
       "      <td>3.2</td>\n",
       "      <td>0.74</td>\n",
       "    </tr>\n",
       "    <tr>\n",
       "      <th>1</th>\n",
       "      <td>62</td>\n",
       "      <td>1</td>\n",
       "      <td>7.3</td>\n",
       "      <td>4.1</td>\n",
       "      <td>490</td>\n",
       "      <td>60</td>\n",
       "      <td>68</td>\n",
       "      <td>7.0</td>\n",
       "      <td>3.3</td>\n",
       "      <td>0.89</td>\n",
       "    </tr>\n",
       "    <tr>\n",
       "      <th>2</th>\n",
       "      <td>58</td>\n",
       "      <td>1</td>\n",
       "      <td>1.0</td>\n",
       "      <td>0.4</td>\n",
       "      <td>182</td>\n",
       "      <td>14</td>\n",
       "      <td>20</td>\n",
       "      <td>6.8</td>\n",
       "      <td>3.4</td>\n",
       "      <td>1.00</td>\n",
       "    </tr>\n",
       "    <tr>\n",
       "      <th>3</th>\n",
       "      <td>72</td>\n",
       "      <td>1</td>\n",
       "      <td>3.9</td>\n",
       "      <td>2.0</td>\n",
       "      <td>195</td>\n",
       "      <td>27</td>\n",
       "      <td>59</td>\n",
       "      <td>7.3</td>\n",
       "      <td>2.4</td>\n",
       "      <td>0.40</td>\n",
       "    </tr>\n",
       "    <tr>\n",
       "      <th>4</th>\n",
       "      <td>46</td>\n",
       "      <td>1</td>\n",
       "      <td>1.8</td>\n",
       "      <td>0.7</td>\n",
       "      <td>208</td>\n",
       "      <td>19</td>\n",
       "      <td>14</td>\n",
       "      <td>7.6</td>\n",
       "      <td>4.4</td>\n",
       "      <td>1.30</td>\n",
       "    </tr>\n",
       "    <tr>\n",
       "      <th>...</th>\n",
       "      <td>...</td>\n",
       "      <td>...</td>\n",
       "      <td>...</td>\n",
       "      <td>...</td>\n",
       "      <td>...</td>\n",
       "      <td>...</td>\n",
       "      <td>...</td>\n",
       "      <td>...</td>\n",
       "      <td>...</td>\n",
       "      <td>...</td>\n",
       "    </tr>\n",
       "    <tr>\n",
       "      <th>577</th>\n",
       "      <td>60</td>\n",
       "      <td>1</td>\n",
       "      <td>0.5</td>\n",
       "      <td>0.1</td>\n",
       "      <td>500</td>\n",
       "      <td>20</td>\n",
       "      <td>34</td>\n",
       "      <td>5.9</td>\n",
       "      <td>1.6</td>\n",
       "      <td>0.37</td>\n",
       "    </tr>\n",
       "    <tr>\n",
       "      <th>578</th>\n",
       "      <td>40</td>\n",
       "      <td>1</td>\n",
       "      <td>0.6</td>\n",
       "      <td>0.1</td>\n",
       "      <td>98</td>\n",
       "      <td>35</td>\n",
       "      <td>31</td>\n",
       "      <td>6.0</td>\n",
       "      <td>3.2</td>\n",
       "      <td>1.10</td>\n",
       "    </tr>\n",
       "    <tr>\n",
       "      <th>579</th>\n",
       "      <td>52</td>\n",
       "      <td>1</td>\n",
       "      <td>0.8</td>\n",
       "      <td>0.2</td>\n",
       "      <td>245</td>\n",
       "      <td>48</td>\n",
       "      <td>49</td>\n",
       "      <td>6.4</td>\n",
       "      <td>3.2</td>\n",
       "      <td>1.00</td>\n",
       "    </tr>\n",
       "    <tr>\n",
       "      <th>580</th>\n",
       "      <td>31</td>\n",
       "      <td>1</td>\n",
       "      <td>1.3</td>\n",
       "      <td>0.5</td>\n",
       "      <td>184</td>\n",
       "      <td>29</td>\n",
       "      <td>32</td>\n",
       "      <td>6.8</td>\n",
       "      <td>3.4</td>\n",
       "      <td>1.00</td>\n",
       "    </tr>\n",
       "    <tr>\n",
       "      <th>581</th>\n",
       "      <td>38</td>\n",
       "      <td>1</td>\n",
       "      <td>1.0</td>\n",
       "      <td>0.3</td>\n",
       "      <td>216</td>\n",
       "      <td>21</td>\n",
       "      <td>24</td>\n",
       "      <td>7.3</td>\n",
       "      <td>4.4</td>\n",
       "      <td>1.50</td>\n",
       "    </tr>\n",
       "  </tbody>\n",
       "</table>\n",
       "<p>578 rows × 10 columns</p>\n",
       "</div>"
      ],
      "text/plain": [
       "     Age  Gender    TB   DB  Alk  sgpt  sgot   TP  ALB    AG\n",
       "0     62       1  10.9  5.5  699    64   100  7.5  3.2  0.74\n",
       "1     62       1   7.3  4.1  490    60    68  7.0  3.3  0.89\n",
       "2     58       1   1.0  0.4  182    14    20  6.8  3.4  1.00\n",
       "3     72       1   3.9  2.0  195    27    59  7.3  2.4  0.40\n",
       "4     46       1   1.8  0.7  208    19    14  7.6  4.4  1.30\n",
       "..   ...     ...   ...  ...  ...   ...   ...  ...  ...   ...\n",
       "577   60       1   0.5  0.1  500    20    34  5.9  1.6  0.37\n",
       "578   40       1   0.6  0.1   98    35    31  6.0  3.2  1.10\n",
       "579   52       1   0.8  0.2  245    48    49  6.4  3.2  1.00\n",
       "580   31       1   1.3  0.5  184    29    32  6.8  3.4  1.00\n",
       "581   38       1   1.0  0.3  216    21    24  7.3  4.4  1.50\n",
       "\n",
       "[578 rows x 10 columns]"
      ]
     },
     "execution_count": 166,
     "metadata": {},
     "output_type": "execute_result"
    }
   ],
   "source": [
    "X"
   ]
  },
  {
   "cell_type": "code",
   "execution_count": 167,
   "id": "2a61b7ba",
   "metadata": {},
   "outputs": [],
   "source": [
    "y = df.iloc[:, 10]"
   ]
  },
  {
   "cell_type": "code",
   "execution_count": 168,
   "id": "c9068a57",
   "metadata": {},
   "outputs": [
    {
     "data": {
      "text/plain": [
       "0    1\n",
       "1    1\n",
       "2    1\n",
       "3    1\n",
       "4    1\n",
       "Name: label, dtype: int64"
      ]
     },
     "execution_count": 168,
     "metadata": {},
     "output_type": "execute_result"
    }
   ],
   "source": [
    "y.head()"
   ]
  },
  {
   "cell_type": "code",
   "execution_count": 169,
   "id": "29066fbd",
   "metadata": {},
   "outputs": [
    {
     "data": {
      "text/plain": [
       "1    413\n",
       "2    165\n",
       "Name: label, dtype: int64"
      ]
     },
     "execution_count": 169,
     "metadata": {},
     "output_type": "execute_result"
    }
   ],
   "source": [
    "y.value_counts()"
   ]
  },
  {
   "cell_type": "code",
   "execution_count": 170,
   "id": "891d3af5",
   "metadata": {},
   "outputs": [],
   "source": [
    "X_train, X_test, y_train, y_test = train_test_split(X, y, test_size=0.3,random_state=1)"
   ]
  },
  {
   "cell_type": "code",
   "execution_count": 171,
   "id": "0d76e8c3",
   "metadata": {},
   "outputs": [
    {
     "data": {
      "text/html": [
       "<div>\n",
       "<style scoped>\n",
       "    .dataframe tbody tr th:only-of-type {\n",
       "        vertical-align: middle;\n",
       "    }\n",
       "\n",
       "    .dataframe tbody tr th {\n",
       "        vertical-align: top;\n",
       "    }\n",
       "\n",
       "    .dataframe thead th {\n",
       "        text-align: right;\n",
       "    }\n",
       "</style>\n",
       "<table border=\"1\" class=\"dataframe\">\n",
       "  <thead>\n",
       "    <tr style=\"text-align: right;\">\n",
       "      <th></th>\n",
       "      <th>Age</th>\n",
       "      <th>Gender</th>\n",
       "      <th>TB</th>\n",
       "      <th>DB</th>\n",
       "      <th>Alk</th>\n",
       "      <th>sgpt</th>\n",
       "      <th>sgot</th>\n",
       "      <th>TP</th>\n",
       "      <th>ALB</th>\n",
       "      <th>AG</th>\n",
       "    </tr>\n",
       "  </thead>\n",
       "  <tbody>\n",
       "    <tr>\n",
       "      <th>374</th>\n",
       "      <td>47</td>\n",
       "      <td>1</td>\n",
       "      <td>3.5</td>\n",
       "      <td>1.6</td>\n",
       "      <td>206</td>\n",
       "      <td>32</td>\n",
       "      <td>31</td>\n",
       "      <td>6.8</td>\n",
       "      <td>3.4</td>\n",
       "      <td>1.0</td>\n",
       "    </tr>\n",
       "    <tr>\n",
       "      <th>346</th>\n",
       "      <td>38</td>\n",
       "      <td>1</td>\n",
       "      <td>0.7</td>\n",
       "      <td>0.2</td>\n",
       "      <td>216</td>\n",
       "      <td>349</td>\n",
       "      <td>105</td>\n",
       "      <td>7.0</td>\n",
       "      <td>3.5</td>\n",
       "      <td>1.0</td>\n",
       "    </tr>\n",
       "    <tr>\n",
       "      <th>142</th>\n",
       "      <td>30</td>\n",
       "      <td>1</td>\n",
       "      <td>1.6</td>\n",
       "      <td>0.4</td>\n",
       "      <td>332</td>\n",
       "      <td>84</td>\n",
       "      <td>139</td>\n",
       "      <td>5.6</td>\n",
       "      <td>2.7</td>\n",
       "      <td>0.9</td>\n",
       "    </tr>\n",
       "    <tr>\n",
       "      <th>424</th>\n",
       "      <td>58</td>\n",
       "      <td>1</td>\n",
       "      <td>0.4</td>\n",
       "      <td>0.1</td>\n",
       "      <td>100</td>\n",
       "      <td>59</td>\n",
       "      <td>126</td>\n",
       "      <td>4.3</td>\n",
       "      <td>2.5</td>\n",
       "      <td>1.4</td>\n",
       "    </tr>\n",
       "    <tr>\n",
       "      <th>6</th>\n",
       "      <td>29</td>\n",
       "      <td>0</td>\n",
       "      <td>0.9</td>\n",
       "      <td>0.3</td>\n",
       "      <td>202</td>\n",
       "      <td>14</td>\n",
       "      <td>11</td>\n",
       "      <td>6.7</td>\n",
       "      <td>3.6</td>\n",
       "      <td>1.1</td>\n",
       "    </tr>\n",
       "  </tbody>\n",
       "</table>\n",
       "</div>"
      ],
      "text/plain": [
       "     Age  Gender   TB   DB  Alk  sgpt  sgot   TP  ALB   AG\n",
       "374   47       1  3.5  1.6  206    32    31  6.8  3.4  1.0\n",
       "346   38       1  0.7  0.2  216   349   105  7.0  3.5  1.0\n",
       "142   30       1  1.6  0.4  332    84   139  5.6  2.7  0.9\n",
       "424   58       1  0.4  0.1  100    59   126  4.3  2.5  1.4\n",
       "6     29       0  0.9  0.3  202    14    11  6.7  3.6  1.1"
      ]
     },
     "execution_count": 171,
     "metadata": {},
     "output_type": "execute_result"
    }
   ],
   "source": [
    "X_train.head()"
   ]
  },
  {
   "cell_type": "code",
   "execution_count": 172,
   "id": "d5924e74",
   "metadata": {},
   "outputs": [
    {
     "data": {
      "text/plain": [
       "374    1\n",
       "346    1\n",
       "142    1\n",
       "424    1\n",
       "6      1\n",
       "Name: label, dtype: int64"
      ]
     },
     "execution_count": 172,
     "metadata": {},
     "output_type": "execute_result"
    }
   ],
   "source": [
    "y_train.head()"
   ]
  },
  {
   "cell_type": "code",
   "execution_count": 173,
   "id": "c9afbe13",
   "metadata": {},
   "outputs": [
    {
     "data": {
      "text/plain": [
       "((404, 10), (404,))"
      ]
     },
     "execution_count": 173,
     "metadata": {},
     "output_type": "execute_result"
    }
   ],
   "source": [
    "X_train.shape, y_train.shape"
   ]
  },
  {
   "cell_type": "code",
   "execution_count": 175,
   "id": "223d9041",
   "metadata": {},
   "outputs": [
    {
     "ename": "AttributeError",
     "evalue": "'SVC' object has no attribute 'SVC'",
     "output_type": "error",
     "traceback": [
      "\u001b[0;31m---------------------------------------------------------------------------\u001b[0m",
      "\u001b[0;31mAttributeError\u001b[0m                            Traceback (most recent call last)",
      "\u001b[0;32m<ipython-input-175-afd4b7d39588>\u001b[0m in \u001b[0;36m<module>\u001b[0;34m\u001b[0m\n\u001b[0;32m----> 1\u001b[0;31m \u001b[0msvm\u001b[0m \u001b[0;34m=\u001b[0m \u001b[0msvm\u001b[0m\u001b[0;34m.\u001b[0m\u001b[0mSVC\u001b[0m\u001b[0;34m(\u001b[0m\u001b[0mkernel\u001b[0m\u001b[0;34m=\u001b[0m\u001b[0;34m'linear'\u001b[0m\u001b[0;34m)\u001b[0m\u001b[0;34m\u001b[0m\u001b[0;34m\u001b[0m\u001b[0m\n\u001b[0m",
      "\u001b[0;31mAttributeError\u001b[0m: 'SVC' object has no attribute 'SVC'"
     ]
    }
   ],
   "source": [
    "svm = svm.SVC(kernel='linear')"
   ]
  },
  {
   "cell_type": "code",
   "execution_count": 176,
   "id": "563ccb1a",
   "metadata": {},
   "outputs": [
    {
     "data": {
      "text/plain": [
       "SVC(kernel='linear')"
      ]
     },
     "execution_count": 176,
     "metadata": {},
     "output_type": "execute_result"
    }
   ],
   "source": [
    "svm.fit(X_train, y_train)"
   ]
  },
  {
   "cell_type": "code",
   "execution_count": 177,
   "id": "d23e3236",
   "metadata": {},
   "outputs": [],
   "source": [
    "y_pred = svm.predict(X_test)"
   ]
  },
  {
   "cell_type": "code",
   "execution_count": 178,
   "id": "39f6a9c7",
   "metadata": {},
   "outputs": [
    {
     "name": "stdout",
     "output_type": "stream",
     "text": [
      "SVM - Accuracy: 0.7126436781609196\n"
     ]
    }
   ],
   "source": [
    "print(\"SVM - Accuracy:\",metrics.accuracy_score(y_test, y_pred))"
   ]
  },
  {
   "cell_type": "markdown",
   "id": "f3b1ef6e",
   "metadata": {},
   "source": [
    "## SVM - Crow Search"
   ]
  },
  {
   "cell_type": "code",
   "execution_count": 245,
   "id": "995c8710",
   "metadata": {},
   "outputs": [],
   "source": [
    "X_train, X_test, y_train, y_test = train_test_split(X, y, test_size=0.2,random_state=11)"
   ]
  },
  {
   "cell_type": "code",
   "execution_count": 258,
   "id": "9cca1267",
   "metadata": {},
   "outputs": [],
   "source": [
    "classifier = svm.SVC(kernel='rbf')"
   ]
  },
  {
   "cell_type": "code",
   "execution_count": 259,
   "id": "549f0ef9",
   "metadata": {},
   "outputs": [
    {
     "data": {
      "text/plain": [
       "SVC()"
      ]
     },
     "execution_count": 259,
     "metadata": {},
     "output_type": "execute_result"
    }
   ],
   "source": [
    "classifier.fit(X_train, y_train , optimizer = 'csa')"
   ]
  },
  {
   "cell_type": "code",
   "execution_count": 260,
   "id": "e9a00410",
   "metadata": {},
   "outputs": [
    {
     "data": {
      "text/plain": [
       "SVC()"
      ]
     },
     "execution_count": 260,
     "metadata": {},
     "output_type": "execute_result"
    }
   ],
   "source": [
    "classifier.fit(X_train, y_train)"
   ]
  },
  {
   "cell_type": "code",
   "execution_count": 261,
   "id": "5f3dcf3a",
   "metadata": {},
   "outputs": [],
   "source": [
    "y_pred = classifier.predict(X_test)"
   ]
  },
  {
   "cell_type": "code",
   "execution_count": 263,
   "id": "21f35f04",
   "metadata": {},
   "outputs": [
    {
     "name": "stdout",
     "output_type": "stream",
     "text": [
      "SVM w/ Crow Search - Accuracy: 0.8986206896551724\n"
     ]
    }
   ],
   "source": [
    "print(\"SVM w/ Crow Search - Accuracy:\", metrics.accuracy_score(y_test, y_pred))"
   ]
  },
  {
   "cell_type": "markdown",
   "id": "01b05483",
   "metadata": {},
   "source": [
    "## Sequential"
   ]
  },
  {
   "cell_type": "code",
   "execution_count": 179,
   "id": "61eeaed3",
   "metadata": {},
   "outputs": [],
   "source": [
    "import numpy as np\n",
    "from sklearn import datasets\n",
    "import seaborn as sns\n",
    "import pandas as pd\n",
    "import matplotlib.pyplot as plt\n",
    "from sklearn.model_selection import train_test_split\n",
    "from sklearn.metrics import confusion_matrix\n",
    "\n",
    "tol = 0.01\n",
    "eps = 0.01"
   ]
  },
  {
   "cell_type": "code",
   "execution_count": 180,
   "id": "65eb87f9",
   "metadata": {},
   "outputs": [],
   "source": [
    "class SMOModel:\n",
    "    def __init__(self,X,Y,C,b,kernel):\n",
    "        self.m = Y.shape[0]\n",
    "        self.y = Y\n",
    "        self.X = X\n",
    "        self.C = C\n",
    "        self.b = b\n",
    "        self.kernel = kernel\n",
    "        self.alphas = np.zeros(self.m)\n",
    "        self.errors = decision_function(self.alphas, self.y, self.kernel,self.X, self.X, self.b) - self.y"
   ]
  },
  {
   "cell_type": "code",
   "execution_count": 181,
   "id": "dda26dd8",
   "metadata": {},
   "outputs": [],
   "source": [
    "def gaussian_kernel(x, y, sigma=1):\n",
    "    if np.ndim(x) == 1 and np.ndim(y) == 1:\n",
    "        result = np.exp(- (np.linalg.norm(x - y, 2)) ** 2 / (2 * sigma ** 2))\n",
    "    elif (np.ndim(x) > 1 and np.ndim(y) == 1) or (np.ndim(x) == 1 and np.ndim(y) > 1):\n",
    "        result = np.exp(- (np.linalg.norm(x - y, 2, axis=1) ** 2) / (2 * sigma ** 2))\n",
    "    elif np.ndim(x) > 1 and np.ndim(y) > 1:\n",
    "        result = np.exp(- (np.linalg.norm(x[:, np.newaxis] - y[np.newaxis, :], 2, axis=2) ** 2) / (2 * sigma ** 2))\n",
    "    return result\n",
    "\n",
    "def linear_kernel(X1,X2):\n",
    "    return np.inner(X1,X2)\n",
    "\n",
    "def objective_function(alphas, y, kernel, X):\n",
    "    return np.sum(alphas) - 0.5 * np.sum((y[:, None] * y[None, :]) * kernel(X, X) * (alphas[:, None] * alphas[None, :]))\n",
    "\n",
    "def decision_function(alphas, y, kernel, X_train, x_test, b):\n",
    "    result = (alphas * y) @ kernel(X_train, x_test) - b\n",
    "    return result"
   ]
  },
  {
   "cell_type": "code",
   "execution_count": 182,
   "id": "881eee07",
   "metadata": {},
   "outputs": [
    {
     "data": {
      "text/plain": [
       "True"
      ]
     },
     "execution_count": 182,
     "metadata": {},
     "output_type": "execute_result"
    }
   ],
   "source": [
    "linear_kernel(np.random.rand(x_len, 1), np.random.rand(y_len, 1)).shape == (x_len,y_len)"
   ]
  },
  {
   "cell_type": "code",
   "execution_count": 183,
   "id": "b984c21d",
   "metadata": {},
   "outputs": [
    {
     "data": {
      "text/plain": [
       "True"
      ]
     },
     "execution_count": 183,
     "metadata": {},
     "output_type": "execute_result"
    }
   ],
   "source": [
    "gaussian_kernel(np.random.rand(x_len, 1), np.random.rand(y_len, 1)).shape == (5,10)"
   ]
  },
  {
   "cell_type": "code",
   "execution_count": 184,
   "id": "3724a444",
   "metadata": {},
   "outputs": [],
   "source": [
    "def takeStep(i1, i2, model):\n",
    "    \n",
    "    if i1 == i2: #If the alphas are the same - skip\n",
    "        return 0, model\n",
    "    \n",
    "    # Extraction of the variables from the cache\n",
    "    alph1 = model.alphas[i1]\n",
    "    alph2 = model.alphas[i2]\n",
    "    y1 = model.y[i1]\n",
    "    y2 = model.y[i2]\n",
    "    E1 = model.errors[i1]\n",
    "    E2 = model.errors[i2]\n",
    "    \n",
    "    s = y1*y2\n",
    "    \n",
    "    #Calculate the upper and lower boundary (depending on the value of the labels y1 & y2)\n",
    "    if y1 == y2:\n",
    "        L = max(0 , alph1 + alph2 - model.C)\n",
    "        H = min(model.C, alph1 + alph2)\n",
    "    else:\n",
    "        L = max(0, alph2 - alph1)\n",
    "        H = min(model.C, model.C + alph2 - alph1)\n",
    "     \n",
    "    #Skip if the lower and the upper bounds are the same\n",
    "    if L == H:\n",
    "        return 0, model\n",
    "    \n",
    "    #Compute the differnet kernels\n",
    "    k11 = model.kernel(model.X[i1],model.X[i1])\n",
    "    k12 = model.kernel(model.X[i1],model.X[i2])\n",
    "    k22 = model.kernel(model.X[i2],model.X[i2])\n",
    "    \n",
    "    #Compute eta\n",
    "    eta = k11 + k22 - 2*k12\n",
    "    \n",
    "    #If eta is positive - compute a2 as function of the old a2, the errors, the label and eta.\n",
    "    #(This solution can be reached analytically without the need for complicated optimization,\n",
    "    #which is the advantage of the SMO algorithm)\n",
    "    if eta > 0:\n",
    "        a2 = alph2 + (y2*(E1 -E2))/eta\n",
    "        \n",
    "        #Clip a2 by the bounds L and H\n",
    "        if a2 < L:\n",
    "            a2 = L\n",
    "        elif a2 > H:\n",
    "            a2 = H\n",
    "    else:\n",
    "        #Here we make copy because we don't want to chahge the original alphas values, we just wanna to compute the\n",
    "        #different objective functions for a2.\n",
    "        alphas_adj = model.alphas.copy()\n",
    "        \n",
    "        alphas_adj[i2] = L\n",
    "        Lobj = objective_function(alphas_adj, model.y, model.kernel, model.X) # Objective function at a2=L\n",
    "        \n",
    "        alphas_adj[i2] = H\n",
    "        Hobj = objective_function(alphas_adj, model.y, model.kernel, model.X) # Objective function at a2=H\n",
    "        \n",
    "        #Clip a2 at the same way as mentioned in the article\n",
    "        if Lobj < (Hobj - eps):\n",
    "            a2 = L\n",
    "        elif Lobj > (Hobj + eps):\n",
    "            a2 = H\n",
    "        else:\n",
    "            a2 = alph2\n",
    "    \n",
    "    #If a2 value is very small - enter a value of 0        \n",
    "    if a2 < 1e-8:\n",
    "        a2 = 0.0\n",
    "    elif a2 > (model.C - 1e-8):\n",
    "        a2 = model.C\n",
    "    \n",
    "    #Skip this step if the change in a2 is less than *eps(a2_new + a2_old + eps)       \n",
    "    if abs(a2 - alph2) < eps*(a2+alph2+eps):\n",
    "        return 0, model\n",
    "    \n",
    "    #Compute a1 as a function of the old a1, a2 and s.\n",
    "    #(This solution can be reached analytically without the need for complicated optimization,\n",
    "    #which is the advantage of the SMO algorithm)\n",
    "    a1 = alph1 + s*(alph2 - a2)\n",
    "      \n",
    "    # Update value of the threshold b by the new a1 & a2, Compute both possible values for the new treshold.\n",
    "    b1 = E1 + y1 * (a1 - alph1) * k11 + y2 * (a2 - alph2) * k12 + model.b\n",
    "    b2 = E2 + y1 * (a1 - alph1) * k12 + y2 * (a2 - alph2) * k22 + model.b\n",
    "     \n",
    "    #Update the threshold according to the a that does not violate the conditions, \n",
    "    #if both don't violate the conditions than new_b = average of a1 and a2 \n",
    "    if 0 < a1 and a1 < model.C:\n",
    "        b = b1\n",
    "    elif 0 < a2 and a2 < model.C:\n",
    "        b = b2\n",
    "    else:\n",
    "        b = (b1 + b2) * 0.5\n",
    "    \n",
    "    #Push the new alphas values to cache\n",
    "    model.alphas[i1] = a1\n",
    "    model.alphas[i2] = a2\n",
    "\n",
    "    #Update error cache to 0 if a1 ,a2 are in the bounds range\n",
    "    for index, alph in zip([i1, i2], [a1, a2]):\n",
    "        if 0.0 < alph and alph < model.C:\n",
    "            model.errors[index] = 0.0\n",
    "     \n",
    "    \n",
    "    #Update error cache of the other alpahs\n",
    "    NonOpt = list(filter(lambda n: n != i1 and n != i2, list(range(model.m))))\n",
    "    \n",
    "    model.errors[NonOpt] = model.errors[NonOpt] + y1*(a1 - alph1)*model.kernel(model.X[i1], model.X[NonOpt]) +y2*(a2 - alph2)*model.kernel(model.X[i2], model.X[NonOpt]) + model.b - b\n",
    "    \n",
    "    #Update b\n",
    "    model.b = b\n",
    "    \n",
    "    return 1, model"
   ]
  },
  {
   "cell_type": "code",
   "execution_count": 185,
   "id": "610132f5",
   "metadata": {},
   "outputs": [],
   "source": [
    "def examineExample(i2, model):\n",
    "    \n",
    "    y2 = model.y[i2]\n",
    "    alph2 = model.alphas[i2]\n",
    "    E2 = model.errors[i2]\n",
    "    r2 = E2*y2\n",
    "    \n",
    "    if ((r2 < -tol and alph2 < model.C) or (r2 > tol and alph2 > 0)):\n",
    "        #if (number of non-zero & non-C alpha > 1)\n",
    "        if len(model.alphas[(model.alphas != 0) & (model.alphas != model.C)]) > 1:\n",
    "            \n",
    "            #This is the heuristic method I found online\n",
    "            if model.errors[i2] > 0:\n",
    "                i1 = np.argmin(model.errors)\n",
    "            elif model.errors[i2] <= 0:\n",
    "                i1 = np.argmax(model.errors) \n",
    "                \n",
    "            step, model = takeStep(i1, i2, model)\n",
    "            \n",
    "            if step:\n",
    "                return 1, model\n",
    "         \n",
    "        #loop over all non-zero and non-C alpha, starting at a random point\n",
    "        for i1 in np.roll(np.where((model.alphas != 0) & (model.alphas != model.C))[0], np.random.choice(np.arange(model.m))):\n",
    "            step, model = takeStep(i1, i2, model)\n",
    "            if step:\n",
    "                return 1, model\n",
    "        \n",
    "        #loop over all possible i1, starting at a random point\n",
    "        for i1 in np.roll(np.arange(model.m), np.random.choice(np.arange(model.m))):\n",
    "            step, model = takeStep(i1, i2, model)\n",
    "            if step:\n",
    "                return 1, model\n",
    "            \n",
    "    return 0, model"
   ]
  },
  {
   "cell_type": "code",
   "execution_count": 186,
   "id": "85b8695d",
   "metadata": {},
   "outputs": [],
   "source": [
    "def train(model):\n",
    "    numChanged = 0\n",
    "    examineAll = 1\n",
    "\n",
    "    while numChanged > 0 or examineAll:\n",
    "        numChanged = 0\n",
    "        if examineAll:\n",
    "            for i in range(model.m):\n",
    "                res , model = examineExample(i, model)\n",
    "                numChanged += res\n",
    "                \n",
    "        else:\n",
    "            for i in np.where((model.alphas != 0) & (model.alphas != model.C))[0]:\n",
    "                res , model = examineExample(i, model)\n",
    "                numChanged += res\n",
    "                \n",
    "        if examineAll == 1:\n",
    "            examineAll = 0\n",
    "        elif numChanged == 0:\n",
    "            examineAll = 1\n",
    "    return model"
   ]
  },
  {
   "cell_type": "code",
   "execution_count": 195,
   "id": "94a9a3b9",
   "metadata": {},
   "outputs": [
    {
     "data": {
      "text/html": [
       "<div>\n",
       "<style scoped>\n",
       "    .dataframe tbody tr th:only-of-type {\n",
       "        vertical-align: middle;\n",
       "    }\n",
       "\n",
       "    .dataframe tbody tr th {\n",
       "        vertical-align: top;\n",
       "    }\n",
       "\n",
       "    .dataframe thead th {\n",
       "        text-align: right;\n",
       "    }\n",
       "</style>\n",
       "<table border=\"1\" class=\"dataframe\">\n",
       "  <thead>\n",
       "    <tr style=\"text-align: right;\">\n",
       "      <th></th>\n",
       "      <th>Age</th>\n",
       "      <th>Gender</th>\n",
       "      <th>TB</th>\n",
       "      <th>DB</th>\n",
       "      <th>Alk</th>\n",
       "      <th>sgpt</th>\n",
       "      <th>sgot</th>\n",
       "      <th>TP</th>\n",
       "      <th>ALB</th>\n",
       "      <th>AG</th>\n",
       "      <th>label</th>\n",
       "      <th>1</th>\n",
       "      <th>2</th>\n",
       "      <th>0</th>\n",
       "    </tr>\n",
       "  </thead>\n",
       "  <tbody>\n",
       "    <tr>\n",
       "      <th>437</th>\n",
       "      <td>65</td>\n",
       "      <td>1</td>\n",
       "      <td>0.8</td>\n",
       "      <td>0.2</td>\n",
       "      <td>162</td>\n",
       "      <td>30</td>\n",
       "      <td>90</td>\n",
       "      <td>3.8</td>\n",
       "      <td>1.4</td>\n",
       "      <td>0.50</td>\n",
       "      <td>1</td>\n",
       "      <td>1</td>\n",
       "      <td>-1</td>\n",
       "      <td>-1</td>\n",
       "    </tr>\n",
       "    <tr>\n",
       "      <th>136</th>\n",
       "      <td>18</td>\n",
       "      <td>1</td>\n",
       "      <td>0.8</td>\n",
       "      <td>0.2</td>\n",
       "      <td>282</td>\n",
       "      <td>72</td>\n",
       "      <td>140</td>\n",
       "      <td>5.5</td>\n",
       "      <td>2.5</td>\n",
       "      <td>0.80</td>\n",
       "      <td>1</td>\n",
       "      <td>1</td>\n",
       "      <td>-1</td>\n",
       "      <td>-1</td>\n",
       "    </tr>\n",
       "    <tr>\n",
       "      <th>301</th>\n",
       "      <td>50</td>\n",
       "      <td>0</td>\n",
       "      <td>1.7</td>\n",
       "      <td>0.6</td>\n",
       "      <td>430</td>\n",
       "      <td>28</td>\n",
       "      <td>32</td>\n",
       "      <td>6.8</td>\n",
       "      <td>3.5</td>\n",
       "      <td>1.00</td>\n",
       "      <td>1</td>\n",
       "      <td>1</td>\n",
       "      <td>-1</td>\n",
       "      <td>-1</td>\n",
       "    </tr>\n",
       "    <tr>\n",
       "      <th>213</th>\n",
       "      <td>38</td>\n",
       "      <td>1</td>\n",
       "      <td>1.7</td>\n",
       "      <td>1.0</td>\n",
       "      <td>180</td>\n",
       "      <td>18</td>\n",
       "      <td>34</td>\n",
       "      <td>7.2</td>\n",
       "      <td>3.6</td>\n",
       "      <td>1.00</td>\n",
       "      <td>1</td>\n",
       "      <td>1</td>\n",
       "      <td>-1</td>\n",
       "      <td>-1</td>\n",
       "    </tr>\n",
       "    <tr>\n",
       "      <th>45</th>\n",
       "      <td>21</td>\n",
       "      <td>1</td>\n",
       "      <td>3.9</td>\n",
       "      <td>1.8</td>\n",
       "      <td>150</td>\n",
       "      <td>36</td>\n",
       "      <td>27</td>\n",
       "      <td>6.8</td>\n",
       "      <td>3.9</td>\n",
       "      <td>1.34</td>\n",
       "      <td>1</td>\n",
       "      <td>1</td>\n",
       "      <td>-1</td>\n",
       "      <td>-1</td>\n",
       "    </tr>\n",
       "    <tr>\n",
       "      <th>27</th>\n",
       "      <td>20</td>\n",
       "      <td>1</td>\n",
       "      <td>1.1</td>\n",
       "      <td>0.5</td>\n",
       "      <td>128</td>\n",
       "      <td>20</td>\n",
       "      <td>30</td>\n",
       "      <td>3.9</td>\n",
       "      <td>1.9</td>\n",
       "      <td>0.95</td>\n",
       "      <td>2</td>\n",
       "      <td>-1</td>\n",
       "      <td>1</td>\n",
       "      <td>-1</td>\n",
       "    </tr>\n",
       "    <tr>\n",
       "      <th>251</th>\n",
       "      <td>65</td>\n",
       "      <td>1</td>\n",
       "      <td>1.1</td>\n",
       "      <td>0.3</td>\n",
       "      <td>258</td>\n",
       "      <td>48</td>\n",
       "      <td>40</td>\n",
       "      <td>7.0</td>\n",
       "      <td>3.9</td>\n",
       "      <td>1.20</td>\n",
       "      <td>2</td>\n",
       "      <td>-1</td>\n",
       "      <td>1</td>\n",
       "      <td>-1</td>\n",
       "    </tr>\n",
       "    <tr>\n",
       "      <th>31</th>\n",
       "      <td>57</td>\n",
       "      <td>1</td>\n",
       "      <td>1.0</td>\n",
       "      <td>0.3</td>\n",
       "      <td>187</td>\n",
       "      <td>19</td>\n",
       "      <td>23</td>\n",
       "      <td>5.2</td>\n",
       "      <td>2.9</td>\n",
       "      <td>1.20</td>\n",
       "      <td>2</td>\n",
       "      <td>-1</td>\n",
       "      <td>1</td>\n",
       "      <td>-1</td>\n",
       "    </tr>\n",
       "    <tr>\n",
       "      <th>345</th>\n",
       "      <td>46</td>\n",
       "      <td>1</td>\n",
       "      <td>0.6</td>\n",
       "      <td>0.2</td>\n",
       "      <td>115</td>\n",
       "      <td>14</td>\n",
       "      <td>11</td>\n",
       "      <td>6.9</td>\n",
       "      <td>3.4</td>\n",
       "      <td>0.90</td>\n",
       "      <td>1</td>\n",
       "      <td>1</td>\n",
       "      <td>-1</td>\n",
       "      <td>-1</td>\n",
       "    </tr>\n",
       "    <tr>\n",
       "      <th>290</th>\n",
       "      <td>60</td>\n",
       "      <td>1</td>\n",
       "      <td>0.7</td>\n",
       "      <td>0.2</td>\n",
       "      <td>174</td>\n",
       "      <td>32</td>\n",
       "      <td>14</td>\n",
       "      <td>7.8</td>\n",
       "      <td>4.2</td>\n",
       "      <td>1.10</td>\n",
       "      <td>2</td>\n",
       "      <td>-1</td>\n",
       "      <td>1</td>\n",
       "      <td>-1</td>\n",
       "    </tr>\n",
       "  </tbody>\n",
       "</table>\n",
       "</div>"
      ],
      "text/plain": [
       "     Age  Gender   TB   DB  Alk  sgpt  sgot   TP  ALB    AG  label  1  2  0\n",
       "437   65       1  0.8  0.2  162    30    90  3.8  1.4  0.50      1  1 -1 -1\n",
       "136   18       1  0.8  0.2  282    72   140  5.5  2.5  0.80      1  1 -1 -1\n",
       "301   50       0  1.7  0.6  430    28    32  6.8  3.5  1.00      1  1 -1 -1\n",
       "213   38       1  1.7  1.0  180    18    34  7.2  3.6  1.00      1  1 -1 -1\n",
       "45    21       1  3.9  1.8  150    36    27  6.8  3.9  1.34      1  1 -1 -1\n",
       "27    20       1  1.1  0.5  128    20    30  3.9  1.9  0.95      2 -1  1 -1\n",
       "251   65       1  1.1  0.3  258    48    40  7.0  3.9  1.20      2 -1  1 -1\n",
       "31    57       1  1.0  0.3  187    19    23  5.2  2.9  1.20      2 -1  1 -1\n",
       "345   46       1  0.6  0.2  115    14    11  6.9  3.4  0.90      1  1 -1 -1\n",
       "290   60       1  0.7  0.2  174    32    14  7.8  4.2  1.10      2 -1  1 -1"
      ]
     },
     "execution_count": 195,
     "metadata": {},
     "output_type": "execute_result"
    }
   ],
   "source": [
    "def isClass(x ,Class):\n",
    "    if Class == x:\n",
    "        return 1\n",
    "    return -1\n",
    "df['0'] = df['label'].apply(lambda x: isClass(x,0))\n",
    "df['1'] = df['label'].apply(lambda x: isClass(x,1))\n",
    "df['2'] = df['label'].apply(lambda x: isClass(x,2))\n",
    "\n",
    "df.sample(10)"
   ]
  },
  {
   "cell_type": "code",
   "execution_count": 196,
   "id": "163d039b",
   "metadata": {},
   "outputs": [
    {
     "data": {
      "text/plain": [
       "1    413\n",
       "2    165\n",
       "Name: label, dtype: int64"
      ]
     },
     "execution_count": 196,
     "metadata": {},
     "output_type": "execute_result"
    }
   ],
   "source": [
    "df.label.value_counts()"
   ]
  },
  {
   "cell_type": "code",
   "execution_count": 197,
   "id": "1d6fdbc8",
   "metadata": {},
   "outputs": [],
   "source": [
    "def train_model(C,b,Class,kernel = linear_kernel):\n",
    "    \n",
    "    X_train, X_test, y_train, y_test = train_test_split(df.iloc[:,0:-4], df[Class], test_size=0.4, random_state=42)\n",
    "    X_val, X_test, y_val, y_test = train_test_split(X_test, y_test, test_size=0.5, random_state=42)\n",
    "    X_train, X_val, X_test, y_train, y_test, y_val = X_train.to_numpy(), X_val.to_numpy(), X_test.to_numpy(), y_train.to_numpy(), y_test.to_numpy(), y_val.to_numpy() \n",
    "    \n",
    "    model = SMOModel(X_train, y_train, C, b, kernel)\n",
    "    \n",
    "    np.random.seed(0)\n",
    "    model = train(model)\n",
    "    \n",
    "    return X_train, X_val, X_test, y_train, y_test, y_val, model"
   ]
  },
  {
   "cell_type": "code",
   "execution_count": 209,
   "id": "5da9b3be",
   "metadata": {},
   "outputs": [],
   "source": [
    "def predict(model,X_test):\n",
    "    result = np.zeros(X_test.shape[0])\n",
    "    for i,test in enumerate(X_test):\n",
    "        result[i] = decision_function(model.alphas, model.y, model.kernel, model.X, test, model.b)\n",
    "        if result[i] > 0:\n",
    "            result[i] = 1\n",
    "        else:\n",
    "            result[i] = -1\n",
    "    return result\n",
    "\n",
    "# The purpose of this function is to check which class the X_test belongs to\n",
    "\n",
    "def Classifier(model0, model1, model2, X_test):\n",
    "    result = np.zeros(X_test.shape[0])\n",
    "    for i,test in enumerate(X_test):\n",
    "        result[i] = np.argmax(np.array([\n",
    "            predict(model0,np.array([test]))[0],\n",
    "            predict(model1,np.array([test]))[0]+0.0001,\n",
    "            predict(model2,np.array([test]))[0]+0.0001\n",
    "        ]))\n",
    "    return result\n",
    "\n",
    "# This function plot confusion matrix and also prints the accuracy and the sensitivity (if necessary)\n",
    "\n",
    "def plot_confusion_matrix(y_true,y_pred,title,color='Blues',sensitivity = False):\n",
    "    cf_matrix = confusion_matrix(y_true,y_pred)\n",
    "    ax = sns.heatmap(cf_matrix, annot=True, cmap=color)\n",
    "    ax.set_title(title)\n",
    "    ax.set_xlabel('\\nPredicted Values')\n",
    "    ax.set_ylabel('Actual Values ');\n",
    "    plt.show()\n",
    "    accuracy = (np.sum(y_true == y_pred)/len(y_true))*100\n",
    "    print(\"Accuracy - SMO: %.2f%%\\n\" % accuracy)\n",
    "    if sensitivity:\n",
    "        tn, fp, fn, tp = cf_matrix.ravel()\n",
    "        sensitivity = 100*tp / (tp+fn)\n",
    "        print(\"Sensitivity: %.2f%%\\n\" % sensitivity)"
   ]
  },
  {
   "cell_type": "code",
   "execution_count": 202,
   "id": "cadc604a",
   "metadata": {},
   "outputs": [],
   "source": [
    "X_train0, X_val0, X_test0, y_train0, y_test0, y_val0, model0 = train_model(C = 1000.0, b = 0.0, Class = '0',kernel = linear_kernel) \n",
    "X_train1, X_val1, X_test1, y_train1, y_test1, y_val1, model1 = train_model(C = 15.0, b = 0.0, Class = '1',kernel = linear_kernel)\n",
    "X_train2, X_val2, X_test2, y_train2, y_test2, y_val2, model2 = train_model(C = 10.0, b = 0.0, Class = '2',kernel = linear_kernel) "
   ]
  },
  {
   "cell_type": "code",
   "execution_count": null,
   "id": "14acaa3b",
   "metadata": {},
   "outputs": [],
   "source": []
  },
  {
   "cell_type": "code",
   "execution_count": 207,
   "id": "44db53c0",
   "metadata": {},
   "outputs": [],
   "source": [
    "X_train, X_test, y_train, y_test = train_test_split(df.iloc[:,0:-4], df['label'], test_size=0.4, random_state=1)\n",
    "X_val, X_test, y_val, y_test = train_test_split(X_test, y_test, test_size=0.5, random_state=1)\n",
    "X_train, X_val, X_test, y_train, y_test, y_val = X_train.to_numpy(), X_val.to_numpy(), X_test.to_numpy(), y_train.to_numpy(), y_test.to_numpy(), y_val.to_numpy() \n"
   ]
  },
  {
   "cell_type": "code",
   "execution_count": 210,
   "id": "18af578f",
   "metadata": {
    "scrolled": true
   },
   "outputs": [
    {
     "data": {
      "image/png": "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\n",
      "text/plain": [
       "<Figure size 432x288 with 2 Axes>"
      ]
     },
     "metadata": {
      "needs_background": "light"
     },
     "output_type": "display_data"
    },
    {
     "name": "stdout",
     "output_type": "stream",
     "text": [
      "Accuracy - SMO: 79.31%\n",
      "\n"
     ]
    }
   ],
   "source": [
    "\n",
    "plot_confusion_matrix(y_val,Classifier(model0, model1,model2,X_val),\"Confusion matrix for the multiclass problem\",\"Blues\")"
   ]
  },
  {
   "cell_type": "code",
   "execution_count": null,
   "id": "c3d980da",
   "metadata": {},
   "outputs": [],
   "source": []
  },
  {
   "cell_type": "markdown",
   "id": "af89e2c4",
   "metadata": {},
   "source": [
    "## Genetic Algo"
   ]
  },
  {
   "cell_type": "code",
   "execution_count": 212,
   "id": "1fd0236d",
   "metadata": {},
   "outputs": [],
   "source": [
    "temp = df.copy()"
   ]
  },
  {
   "cell_type": "code",
   "execution_count": 215,
   "id": "bfb02bc1",
   "metadata": {},
   "outputs": [],
   "source": [
    "df = df.iloc[:, :-3]"
   ]
  },
  {
   "cell_type": "code",
   "execution_count": 216,
   "id": "e95ad673",
   "metadata": {},
   "outputs": [
    {
     "data": {
      "text/html": [
       "<div>\n",
       "<style scoped>\n",
       "    .dataframe tbody tr th:only-of-type {\n",
       "        vertical-align: middle;\n",
       "    }\n",
       "\n",
       "    .dataframe tbody tr th {\n",
       "        vertical-align: top;\n",
       "    }\n",
       "\n",
       "    .dataframe thead th {\n",
       "        text-align: right;\n",
       "    }\n",
       "</style>\n",
       "<table border=\"1\" class=\"dataframe\">\n",
       "  <thead>\n",
       "    <tr style=\"text-align: right;\">\n",
       "      <th></th>\n",
       "      <th>Age</th>\n",
       "      <th>Gender</th>\n",
       "      <th>TB</th>\n",
       "      <th>DB</th>\n",
       "      <th>Alk</th>\n",
       "      <th>sgpt</th>\n",
       "      <th>sgot</th>\n",
       "      <th>TP</th>\n",
       "      <th>ALB</th>\n",
       "      <th>AG</th>\n",
       "      <th>label</th>\n",
       "    </tr>\n",
       "  </thead>\n",
       "  <tbody>\n",
       "    <tr>\n",
       "      <th>0</th>\n",
       "      <td>62</td>\n",
       "      <td>1</td>\n",
       "      <td>10.9</td>\n",
       "      <td>5.5</td>\n",
       "      <td>699</td>\n",
       "      <td>64</td>\n",
       "      <td>100</td>\n",
       "      <td>7.5</td>\n",
       "      <td>3.2</td>\n",
       "      <td>0.74</td>\n",
       "      <td>1</td>\n",
       "    </tr>\n",
       "    <tr>\n",
       "      <th>1</th>\n",
       "      <td>62</td>\n",
       "      <td>1</td>\n",
       "      <td>7.3</td>\n",
       "      <td>4.1</td>\n",
       "      <td>490</td>\n",
       "      <td>60</td>\n",
       "      <td>68</td>\n",
       "      <td>7.0</td>\n",
       "      <td>3.3</td>\n",
       "      <td>0.89</td>\n",
       "      <td>1</td>\n",
       "    </tr>\n",
       "    <tr>\n",
       "      <th>2</th>\n",
       "      <td>58</td>\n",
       "      <td>1</td>\n",
       "      <td>1.0</td>\n",
       "      <td>0.4</td>\n",
       "      <td>182</td>\n",
       "      <td>14</td>\n",
       "      <td>20</td>\n",
       "      <td>6.8</td>\n",
       "      <td>3.4</td>\n",
       "      <td>1.00</td>\n",
       "      <td>1</td>\n",
       "    </tr>\n",
       "    <tr>\n",
       "      <th>3</th>\n",
       "      <td>72</td>\n",
       "      <td>1</td>\n",
       "      <td>3.9</td>\n",
       "      <td>2.0</td>\n",
       "      <td>195</td>\n",
       "      <td>27</td>\n",
       "      <td>59</td>\n",
       "      <td>7.3</td>\n",
       "      <td>2.4</td>\n",
       "      <td>0.40</td>\n",
       "      <td>1</td>\n",
       "    </tr>\n",
       "    <tr>\n",
       "      <th>4</th>\n",
       "      <td>46</td>\n",
       "      <td>1</td>\n",
       "      <td>1.8</td>\n",
       "      <td>0.7</td>\n",
       "      <td>208</td>\n",
       "      <td>19</td>\n",
       "      <td>14</td>\n",
       "      <td>7.6</td>\n",
       "      <td>4.4</td>\n",
       "      <td>1.30</td>\n",
       "      <td>1</td>\n",
       "    </tr>\n",
       "  </tbody>\n",
       "</table>\n",
       "</div>"
      ],
      "text/plain": [
       "   Age  Gender    TB   DB  Alk  sgpt  sgot   TP  ALB    AG  label\n",
       "0   62       1  10.9  5.5  699    64   100  7.5  3.2  0.74      1\n",
       "1   62       1   7.3  4.1  490    60    68  7.0  3.3  0.89      1\n",
       "2   58       1   1.0  0.4  182    14    20  6.8  3.4  1.00      1\n",
       "3   72       1   3.9  2.0  195    27    59  7.3  2.4  0.40      1\n",
       "4   46       1   1.8  0.7  208    19    14  7.6  4.4  1.30      1"
      ]
     },
     "execution_count": 216,
     "metadata": {},
     "output_type": "execute_result"
    }
   ],
   "source": [
    "df.head()"
   ]
  },
  {
   "cell_type": "code",
   "execution_count": 221,
   "id": "e6a92bd4",
   "metadata": {},
   "outputs": [],
   "source": [
    "y_train = df['label']\n",
    "x_train = df.drop(labels =['label'],axis=1)\n",
    "\n",
    "ohe = OneHotEncoder()\n",
    "le = LabelEncoder()\n",
    "\n",
    "cols = x_train.columns.values\n",
    "for col in cols:\n",
    "    x_train[col] = le.fit_transform(x_train[col])\n",
    "\n",
    "y_train = le.fit_transform(y_train)\n",
    "\n",
    "ohe = OneHotEncoder()\n",
    "x_train = ohe.fit_transform(x_train).toarray()\n",
    "sc = StandardScaler()\n",
    "x_train = sc.fit_transform(x_train)\n",
    "\n",
    "\n",
    "x_train, x_test, y_train, y_test = train_test_split(x_train,y_train, test_size = 0.30, random_state = 42)\n",
    "x_valid, x_test, y_valid, y_test = train_test_split(x_test,y_test, test_size = 0.50, random_state = 42)"
   ]
  },
  {
   "cell_type": "code",
   "execution_count": 222,
   "id": "61c83f27",
   "metadata": {},
   "outputs": [],
   "source": [
    "def sigmoid(x):\n",
    "    return 1/(1 + np.exp(-x)) \n",
    "\n",
    "def relu(x):\n",
    "    return np.maximum(0, x)\n",
    "\n",
    "def forward(x, w, activation):\n",
    "    return activation(np.matmul(x, w))\n",
    "\n",
    "def accuracy_fn(y, y_hat):\n",
    "    return (np.where(y == y_hat)[0].size / y_hat.size)\n",
    "\n",
    "def predict(x, y_hat, weights, activation):\n",
    "    predictions = np.zeros(shape=(x.shape[0]))\n",
    "    \n",
    "    for idx in range(x.shape[0]):\n",
    "        r1 = x[idx, :]\n",
    "        for curr_weights in weights:\n",
    "            r1 = forward(r1, curr_weights, activation)\n",
    "        predictions[idx] = np.where(r1 == np.max(r1))[0][0]\n",
    "\n",
    "    accuracy = accuracy_fn(predictions, y_hat)\n",
    "    return accuracy, predictions\n",
    "    \n",
    "def fitness(x, y_hat, weights, activation):\n",
    "    accuracy = np.empty(shape=(weights.shape[0]))\n",
    "    for idx in range(weights.shape[0]):\n",
    "        accuracy[idx], _ = predict(x, y_hat, weights[idx, :], activation)\n",
    "    return accuracy"
   ]
  },
  {
   "cell_type": "code",
   "execution_count": 223,
   "id": "bdcea128",
   "metadata": {},
   "outputs": [],
   "source": [
    "def mat_to_vector(mat_pop_weights):\n",
    "    weights_vector = []\n",
    "    for idx in range(mat_pop_weights.shape[0]):\n",
    "        curr_vector = []\n",
    "        for layer_idx in range(mat_pop_weights.shape[1]):\n",
    "            vector_weights = np.reshape(mat_pop_weights[idx, layer_idx], newshape=(mat_pop_weights[idx, layer_idx].size))\n",
    "            curr_vector.extend(vector_weights)\n",
    "        weights_vector.append(curr_vector)\n",
    "    return np.array(weights_vector)\n",
    "\n",
    "\n",
    "def vector_to_mat(vector_weights, mat_pop_weights):\n",
    "    mat_weights = []\n",
    "    for idx in range(mat_pop_weights.shape[0]):\n",
    "        start = 0\n",
    "        end = 0\n",
    "        for layer_idx in range(mat_pop_weights.shape[1]):\n",
    "            end = end + mat_pop_weights[idx, layer_idx].size\n",
    "            curr_vector = vector_weights[idx, start:end]\n",
    "            mat_layer_weights = np.reshape(curr_vector, newshape=(mat_pop_weights[idx, layer_idx].shape))\n",
    "            mat_weights.append(mat_layer_weights)\n",
    "            start = end\n",
    "    return np.reshape(mat_weights, newshape=mat_pop_weights.shape)"
   ]
  },
  {
   "cell_type": "code",
   "execution_count": 224,
   "id": "4fc1a921",
   "metadata": {},
   "outputs": [],
   "source": [
    "def mating_pool(pop, fitness, num_parents):\n",
    "    parents = np.empty((num_parents, pop.shape[1]))\n",
    "    for parent_num in range(num_parents):\n",
    "        max_fitness_idx = np.where(fitness == np.max(fitness))\n",
    "        max_fitness_idx = max_fitness_idx[0][0]\n",
    "        parents[parent_num, :] = pop[max_fitness_idx, :]\n",
    "        fitness[max_fitness_idx] = -99\n",
    "    return parents\n",
    "\n",
    "\n",
    "def crossover(parents, offspring_size):\n",
    "    offspring = np.empty(offspring_size)\n",
    "    crossover_point = np.uint32(offspring_size[1]/2)\n",
    "\n",
    "    for k in range(offspring_size[0]):\n",
    "        \n",
    "        parent1_idx = k%parents.shape[0]\n",
    "        parent2_idx = (k+1)%parents.shape[0]\n",
    "        \n",
    "        offspring[k, 0:crossover_point] = parents[parent1_idx, 0:crossover_point]\n",
    "        offspring[k, crossover_point:] = parents[parent2_idx, crossover_point:]\n",
    "        \n",
    "    return offspring\n",
    "\n",
    "\n",
    "def mutation(offspring_crossover, mutation_percent):\n",
    "    num_mutations = np.uint32((mutation_percent*offspring_crossover.shape[1]))\n",
    "    mutation_indices = np.array(random.sample(range(0, offspring_crossover.shape[1]), num_mutations))\n",
    "    \n",
    "    for idx in range(offspring_crossover.shape[0]):\n",
    "        random_value = np.random.uniform(-1.0, 1.0, 1)\n",
    "        offspring_crossover[idx, mutation_indices] = offspring_crossover[idx, mutation_indices] + random_value\n",
    "    \n",
    "    return offspring_crossover"
   ]
  },
  {
   "cell_type": "code",
   "execution_count": 225,
   "id": "024914f6",
   "metadata": {},
   "outputs": [],
   "source": [
    "solution_per_population = 8\n",
    "num_parents_mating = 4\n",
    "num_generations = 100\n",
    "mutation_percent = 0.20\n",
    "input_shape = x_train.shape[1]\n",
    "output_shape = len(np.unique(y_train))"
   ]
  },
  {
   "cell_type": "code",
   "execution_count": 226,
   "id": "e9923dca",
   "metadata": {},
   "outputs": [
    {
     "name": "stderr",
     "output_type": "stream",
     "text": [
      "<ipython-input-226-090ae71835d1>:8: VisibleDeprecationWarning: Creating an ndarray from ragged nested sequences (which is a list-or-tuple of lists-or-tuples-or ndarrays with different lengths or shapes) is deprecated. If you meant to do this, you must specify 'dtype=object' when creating the ndarray.\n",
      "  initial_weights.append(np.array([w1, w2, w3]))\n"
     ]
    }
   ],
   "source": [
    "initial_weights = []\n",
    "for curr_sol in np.arange(0, solution_per_population):\n",
    "    \n",
    "    w1 = np.random.uniform(low=-0.1, high=0.1, size=(input_shape, 128))\n",
    "    w2 = np.random.uniform(low=-0.1, high=0.1, size=(128, 64))\n",
    "    w3 = np.random.uniform(low=-0.1, high=0.1,size=(64, output_shape))\n",
    "\n",
    "    initial_weights.append(np.array([w1, w2, w3]))\n",
    "weights_mat = np.array(initial_weights)\n",
    "weights_vector = mat_to_vector(weights_mat)\n",
    "\n",
    "best_outputs = []\n",
    "accuracies = np.empty(shape=(num_generations))"
   ]
  },
  {
   "cell_type": "code",
   "execution_count": 229,
   "id": "00facecb",
   "metadata": {},
   "outputs": [],
   "source": [
    "import random"
   ]
  },
  {
   "cell_type": "code",
   "execution_count": 234,
   "id": "671e1e07",
   "metadata": {},
   "outputs": [],
   "source": [
    "from tqdm.auto import tqdm"
   ]
  },
  {
   "cell_type": "code",
   "execution_count": 235,
   "id": "8b6df902",
   "metadata": {},
   "outputs": [
    {
     "data": {
      "application/vnd.jupyter.widget-view+json": {
       "model_id": "806fe58ad28a4fb99aa6a599587fbc2a",
       "version_major": 2,
       "version_minor": 0
      },
      "text/plain": [
       "  0%|          | 0/100 [00:00<?, ?it/s]"
      ]
     },
     "metadata": {},
     "output_type": "display_data"
    },
    {
     "name": "stderr",
     "output_type": "stream",
     "text": [
      "/Users/vishnutammishetti/opt/anaconda3/lib/python3.8/site-packages/numpy/core/_asarray.py:102: VisibleDeprecationWarning: Creating an ndarray from ragged nested sequences (which is a list-or-tuple of lists-or-tuples-or ndarrays with different lengths or shapes) is deprecated. If you meant to do this, you must specify 'dtype=object' when creating the ndarray.\n",
      "  return array(a, dtype, copy=False, order=order)\n"
     ]
    }
   ],
   "source": [
    "for generation in tqdm(range(num_generations)):\n",
    "    \n",
    "    weights_mat = vector_to_mat(weights_vector, weights_mat)\n",
    "\n",
    "    fit = fitness(x_train, y_train, weights_mat, activation=sigmoid)\n",
    "    \n",
    "    accuracies[generation] = fit[0]\n",
    "\n",
    "    parents = mating_pool(weights_vector, fit.copy(), num_parents_mating)\n",
    "\n",
    "    offspring_crossover = crossover(parents, offspring_size=(weights_vector.shape[0]-parents.shape[0], weights_vector.shape[1]))\n",
    "\n",
    "    offspring_mutation = mutation(offspring_crossover, mutation_percent=mutation_percent)\n",
    "    \n",
    "    weights_vector[0:parents.shape[0], :] = parents\n",
    "    weights_vector[parents.shape[0]:, :] = offspring_mutation"
   ]
  },
  {
   "cell_type": "code",
   "execution_count": 239,
   "id": "7dd8a4c7",
   "metadata": {},
   "outputs": [
    {
     "name": "stdout",
     "output_type": "stream",
     "text": [
      "Accuracy - Genetic Algorithm :  0.7586206896551724\n"
     ]
    }
   ],
   "source": [
    "weights_mat = vector_to_mat(weights_vector, weights_mat)\n",
    "best_weights = weights_mat [0, :]\n",
    "acc, predictions = predict(x_test, y_test, best_weights, sigmoid)\n",
    "print(\"Accuracy - Genetic Algorithm : \", acc)"
   ]
  },
  {
   "cell_type": "markdown",
   "id": "e4bda26d",
   "metadata": {},
   "source": []
  },
  {
   "cell_type": "markdown",
   "id": "85b9f724",
   "metadata": {},
   "source": [
    "# Accuracies\n",
    "### SVM - 71.2%\n",
    "### SVM with CSA - 89.8%\n",
    "### SMO - 79.3%\n",
    "### Genetic Algorithm - 75.86%\n",
    "### Multi-verse -  74.13%\n",
    "### Particle Swarm -  69.16%\n",
    "### Firefly -  83.86%\n"
   ]
  },
  {
   "cell_type": "code",
   "execution_count": 266,
   "id": "1e6f1ae8",
   "metadata": {},
   "outputs": [],
   "source": [
    "models = ['SVM', 'SVM with CSA', 'SMO', 'Genetic', 'Multi-verse', 'Particle Swarm', 'Firefly']\n",
    "accuracies = [71.2, 89.8, 79.3, 75.86, 74.13, 69.16, 83.86]"
   ]
  },
  {
   "cell_type": "code",
   "execution_count": 270,
   "id": "6bf75ceb",
   "metadata": {},
   "outputs": [],
   "source": [
    "import seaborn as sns"
   ]
  },
  {
   "cell_type": "code",
   "execution_count": 310,
   "id": "db5c5dcf",
   "metadata": {},
   "outputs": [
    {
     "name": "stderr",
     "output_type": "stream",
     "text": [
      "/Users/vishnutammishetti/opt/anaconda3/lib/python3.8/site-packages/seaborn/_decorators.py:36: FutureWarning: Pass the following variables as keyword args: x, y. From version 0.12, the only valid positional argument will be `data`, and passing other arguments without an explicit keyword will result in an error or misinterpretation.\n",
      "  warnings.warn(\n"
     ]
    },
    {
     "data": {
      "image/png": "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\n",
      "text/plain": [
       "<Figure size 1440x720 with 1 Axes>"
      ]
     },
     "metadata": {},
     "output_type": "display_data"
    }
   ],
   "source": [
    "fig, ax = plt.subplots(figsize=(20, 10))\n",
    "sns.barplot(models, accuracies, capsize=0.2, ax=ax)\n",
    "\n",
    "# show the mean\n",
    "for p in ax.patches:\n",
    "    h, w, x = p.get_height(), p.get_width(), p.get_x()\n",
    "    xy = (x + w / 2., h / 2)\n",
    "    text = f'{h:0.2f}'\n",
    "    ax.annotate(text=text, xy=xy, ha='center', va='center')\n",
    "\n",
    "ax.set(xlabel='Models', ylabel='Accuracy')\n",
    "plt.show()"
   ]
  },
  {
   "cell_type": "code",
   "execution_count": null,
   "id": "af658908",
   "metadata": {},
   "outputs": [],
   "source": []
  }
 ],
 "metadata": {
  "kernelspec": {
   "display_name": "Python 3",
   "language": "python",
   "name": "python3"
  },
  "language_info": {
   "codemirror_mode": {
    "name": "ipython",
    "version": 3
   },
   "file_extension": ".py",
   "mimetype": "text/x-python",
   "name": "python",
   "nbconvert_exporter": "python",
   "pygments_lexer": "ipython3",
   "version": "3.8.8"
  }
 },
 "nbformat": 4,
 "nbformat_minor": 5
}
